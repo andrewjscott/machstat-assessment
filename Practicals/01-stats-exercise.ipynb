{
 "cells": [
  {
   "cell_type": "markdown",
   "id": "17a11f03",
   "metadata": {},
   "source": [
    "<h3 style=\"color: #001a79;\">Exercise 1.1</h3>\n",
    "\n",
    "<hr style=\"border-top: 1px solid #001a79;\" />\n",
    "\n",
    "The above gives about a 1.5% chance of randomly selecting the correct cups. Calculate the minimum number of cups of tea required to ensure the probability of randomly selecting the correct cups is less than or equal to 1%."
   ]
  },
  {
   "cell_type": "code",
   "execution_count": 1,
   "id": "21582ab3",
   "metadata": {},
   "outputs": [
    {
     "data": {
      "text/plain": [
       "70"
      ]
     },
     "execution_count": 1,
     "metadata": {},
     "output_type": "execute_result"
    }
   ],
   "source": [
    "# Import the math module to calculate the number of possible combinations\n",
    "import math\n",
    "\n",
    "# The possible combinations of 8 cups split evenly so 4 have milk first and 4 have tea first\n",
    "comb8cups = math.comb(8,4)\n",
    "comb8cups"
   ]
  },
  {
   "cell_type": "code",
   "execution_count": 2,
   "id": "28578179",
   "metadata": {},
   "outputs": [
    {
     "data": {
      "text/plain": [
       "0.014285714285714285"
      ]
     },
     "execution_count": 2,
     "metadata": {},
     "output_type": "execute_result"
    }
   ],
   "source": [
    "# The probability as a percentage of randomly selecting the correct cups\n",
    "1/comb8cups"
   ]
  },
  {
   "cell_type": "code",
   "execution_count": 3,
   "id": "6d087926",
   "metadata": {},
   "outputs": [
    {
     "data": {
      "text/plain": [
       "252"
      ]
     },
     "execution_count": 3,
     "metadata": {},
     "output_type": "execute_result"
    }
   ],
   "source": [
    "# The possible combinations of 10 cups split evenly so 5 have milk first and 5 have tea first\n",
    "comb10cups = math.comb(10,5)\n",
    "comb10cups"
   ]
  },
  {
   "cell_type": "code",
   "execution_count": 4,
   "id": "682f91c5",
   "metadata": {},
   "outputs": [
    {
     "data": {
      "text/plain": [
       "0.003968253968253968"
      ]
     },
     "execution_count": 4,
     "metadata": {},
     "output_type": "execute_result"
    }
   ],
   "source": [
    "# The probability as a percentage of randomly selecting the correct cups\n",
    "1/comb10cups"
   ]
  },
  {
   "cell_type": "markdown",
   "id": "5d1ac21c",
   "metadata": {},
   "source": [
    "Increasing the number of cups from 4 in each group to 5 in each group decreasing the probability of randomly selecting the correct cups from ~1.4% to ~0.4%.\n",
    "\n",
    "It would also be possible to use 9 cups with an uneven split - 4 in one group and 5 in the other. This would give a probability of randomly selecting the correct cups of ~0.8%."
   ]
  },
  {
   "cell_type": "code",
   "execution_count": 5,
   "id": "b00cc84f",
   "metadata": {},
   "outputs": [
    {
     "data": {
      "text/plain": [
       "126"
      ]
     },
     "execution_count": 5,
     "metadata": {},
     "output_type": "execute_result"
    }
   ],
   "source": [
    "# The possible combinations of 10 cups split evenly so 5 have milk first and 5 have tea first\n",
    "comb9cups = math.comb(9,5)\n",
    "comb9cups"
   ]
  },
  {
   "cell_type": "code",
   "execution_count": 6,
   "id": "2b382ad6",
   "metadata": {},
   "outputs": [
    {
     "data": {
      "text/plain": [
       "0.007936507936507936"
      ]
     },
     "execution_count": 6,
     "metadata": {},
     "output_type": "execute_result"
    }
   ],
   "source": [
    "# The probability as a percentage of randomly selecting the correct cups\n",
    "1/comb9cups"
   ]
  },
  {
   "cell_type": "markdown",
   "id": "346b73e7",
   "metadata": {},
   "source": [
    "*Bonus:* How many would be required if you were to let the taster get one cup wrong while maintaining the 1% threshold?"
   ]
  },
  {
   "cell_type": "markdown",
   "id": "0427d6a0-018b-47e4-bd9c-877ea5a01c50",
   "metadata": {},
   "source": [
    "There are 4 ways of getting three cups right and one wrong. 4x4 possible combinations = 16 + 1 in case she gets all cups correct is 17/70."
   ]
  },
  {
   "cell_type": "code",
   "execution_count": 7,
   "id": "2ab64c4f",
   "metadata": {},
   "outputs": [
    {
     "data": {
      "text/plain": [
       "0.24285714285714285"
      ]
     },
     "execution_count": 7,
     "metadata": {},
     "output_type": "execute_result"
    }
   ],
   "source": [
    "17/70"
   ]
  },
  {
   "cell_type": "markdown",
   "id": "9300484c-e0b7-449c-934a-28b10a5a168d",
   "metadata": {},
   "source": [
    "If we increased the sample to 10 cups, there would be 5 ways to get four cups right and one wrong. 5x5 possible combinations + 1 in case she gets all cups correct is 26/252. We calculated 252 possible combinations of 10 cups earlier."
   ]
  },
  {
   "cell_type": "code",
   "execution_count": 8,
   "id": "c01d0694-7aa3-41c3-ad00-b4bf8af524bf",
   "metadata": {},
   "outputs": [
    {
     "data": {
      "text/plain": [
       "0.10317460317460317"
      ]
     },
     "execution_count": 8,
     "metadata": {},
     "output_type": "execute_result"
    }
   ],
   "source": [
    "26/252"
   ]
  },
  {
   "cell_type": "markdown",
   "id": "1be5ac98-a7cb-4912-a6fe-4781f1f9a7a4",
   "metadata": {},
   "source": [
    "We could need to increase the sample further. 12 cups yields the following possible combinations."
   ]
  },
  {
   "cell_type": "code",
   "execution_count": 9,
   "id": "0ceb6c24-98cd-4d2a-9423-a8ad5b175ba9",
   "metadata": {},
   "outputs": [
    {
     "data": {
      "text/plain": [
       "924"
      ]
     },
     "execution_count": 9,
     "metadata": {},
     "output_type": "execute_result"
    }
   ],
   "source": [
    "# The possible combinations of 12 cups split evenly so 6 have milk first and 6 have tea first\n",
    "comb12cups = math.comb(12,6)\n",
    "comb12cups"
   ]
  },
  {
   "cell_type": "markdown",
   "id": "775ef5af-7663-4f38-ac2a-a1db934562f1",
   "metadata": {},
   "source": [
    "There are 6 ways of getting five cups right and one wrong. 6x6 possible combinations = 36 + 1 in case she gets all cups correct is 37/924."
   ]
  },
  {
   "cell_type": "code",
   "execution_count": 10,
   "id": "34f7e596-c329-4f45-bca4-8c32d291ac41",
   "metadata": {},
   "outputs": [
    {
     "data": {
      "text/plain": [
       "0.04004329004329004"
      ]
     },
     "execution_count": 10,
     "metadata": {},
     "output_type": "execute_result"
    }
   ],
   "source": [
    "37/924"
   ]
  },
  {
   "cell_type": "markdown",
   "id": "1a4f1544-1b4c-4a11-8443-50f09b04c330",
   "metadata": {},
   "source": [
    "We could need to increase the sample further. 14 cups yields the following possible combinations."
   ]
  },
  {
   "cell_type": "code",
   "execution_count": 11,
   "id": "3cbf0f16-61a2-4cac-8362-8ae8929c410c",
   "metadata": {},
   "outputs": [
    {
     "data": {
      "text/plain": [
       "3432"
      ]
     },
     "execution_count": 11,
     "metadata": {},
     "output_type": "execute_result"
    }
   ],
   "source": [
    "# The possible combinations of 14 cups split evenly so 7 have milk first and 7 have tea first\n",
    "comb14cups = math.comb(14,7)\n",
    "comb14cups"
   ]
  },
  {
   "cell_type": "markdown",
   "id": "748704b5-ef05-44ca-bf6a-c9075d6aa0b6",
   "metadata": {},
   "source": [
    "There are 7 ways of getting six cups right and one wrong. 7x7 possible combinations = 49 + 1 in case she gets all cups correct is 50/3432."
   ]
  },
  {
   "cell_type": "code",
   "execution_count": 12,
   "id": "4dce1277",
   "metadata": {},
   "outputs": [
    {
     "data": {
      "text/plain": [
       "0.014568764568764568"
      ]
     },
     "execution_count": 12,
     "metadata": {},
     "output_type": "execute_result"
    }
   ],
   "source": [
    "50/3432"
   ]
  },
  {
   "cell_type": "markdown",
   "id": "ccec8298-c045-4759-ba51-770d57edb9b9",
   "metadata": {},
   "source": [
    "We could need to increase the sample further. 16 cups yields the following possible combinations."
   ]
  },
  {
   "cell_type": "code",
   "execution_count": 13,
   "id": "1f4b7d3b-8ee2-4d8a-bb09-5dc86349cecf",
   "metadata": {},
   "outputs": [
    {
     "data": {
      "text/plain": [
       "12870"
      ]
     },
     "execution_count": 13,
     "metadata": {},
     "output_type": "execute_result"
    }
   ],
   "source": [
    "# The possible combinations of 16 cups split evenly so 8 have milk first and 8 have tea first\n",
    "comb16cups = math.comb(16,8)\n",
    "comb16cups"
   ]
  },
  {
   "cell_type": "markdown",
   "id": "13773c1a-f558-46a7-bd43-844cad4d20e3",
   "metadata": {},
   "source": [
    "There are 8 ways of getting seven cups right and one wrong. 8x8 possible combinations = 64 + 1 in case she gets all cups correct is 65/12870."
   ]
  },
  {
   "cell_type": "code",
   "execution_count": 14,
   "id": "f149aede-3e8b-4f4b-b2e7-53c18f4eb653",
   "metadata": {},
   "outputs": [
    {
     "data": {
      "text/plain": [
       "0.005050505050505051"
      ]
     },
     "execution_count": 14,
     "metadata": {},
     "output_type": "execute_result"
    }
   ],
   "source": [
    "65/12870"
   ]
  },
  {
   "cell_type": "markdown",
   "id": "c08c872b-fa1b-44c8-9fa7-cdbea9f29555",
   "metadata": {},
   "source": [
    "Therefore, we would need 16 cups- 8 with milk first and 8 with tea first - to have a probability of under 1% allowing for one wrong cup."
   ]
  },
  {
   "cell_type": "code",
   "execution_count": null,
   "id": "d358bd1b-b4d1-45be-86ad-123317407a7d",
   "metadata": {},
   "outputs": [],
   "source": []
  },
  {
   "cell_type": "markdown",
   "id": "f7143a04",
   "metadata": {},
   "source": [
    "<h3 style=\"color: #001a79;\">Exercise 1.2</h3>\n",
    "\n",
    "<hr style=\"border-top: 1px solid #001a79;\" />\n",
    "\n",
    "Use <a href=\"https://docs.scipy.org/doc/scipy/reference/generated/scipy.stats.fisher_exact.html\" style=\"color: #ff791e\">scipy's version of Fisher's exact test</a> to simulate the Lady Tasting Tea problem."
   ]
  },
  {
   "cell_type": "code",
   "execution_count": 15,
   "id": "02269552",
   "metadata": {},
   "outputs": [
    {
     "data": {
      "text/plain": [
       "(inf, 0.028571428571428567)"
      ]
     },
     "execution_count": 15,
     "metadata": {},
     "output_type": "execute_result"
    }
   ],
   "source": [
    "# Statistical methods\n",
    "import scipy.stats as ss\n",
    "\n",
    "# If she were to get all correct\n",
    "ss.fisher_exact([[4, 0], [0, 4]])"
   ]
  },
  {
   "cell_type": "code",
   "execution_count": 16,
   "id": "ce9dd1a2",
   "metadata": {},
   "outputs": [
    {
     "data": {
      "text/plain": [
       "(9.0, 0.48571428571428565)"
      ]
     },
     "execution_count": 16,
     "metadata": {},
     "output_type": "execute_result"
    }
   ],
   "source": [
    "# Statistical methods\n",
    "import scipy.stats as ss\n",
    "\n",
    "# Were she to get three right and 1 wrong\n",
    "ss.fisher_exact([[3, 1], [1, 3]])"
   ]
  },
  {
   "cell_type": "code",
   "execution_count": 17,
   "id": "a62f1aee",
   "metadata": {},
   "outputs": [
    {
     "data": {
      "text/plain": [
       "(36.0, 0.02913752913752914)"
      ]
     },
     "execution_count": 17,
     "metadata": {},
     "output_type": "execute_result"
    }
   ],
   "source": [
    "ss.fisher_exact([[6, 1], [1, 6]])"
   ]
  },
  {
   "cell_type": "markdown",
   "id": "0e31492b-9d68-4e37-8ac4-39062c24b227",
   "metadata": {},
   "source": [
    "Exercise 1.3"
   ]
  },
  {
   "cell_type": "markdown",
   "id": "470b161b-cca8-4e1f-a46f-7072e1c2b8a9",
   "metadata": {},
   "source": [
    "<h3 style=\"color: #001a79;\">Exercise</h3>\n",
    "\n",
    "<hr style=\"border-top: 1px solid #001a79;\" />\n",
    "\n",
    "Take the code from the <a href=\"https://docs.scipy.org/doc/scipy/reference/generated/scipy.stats.ttest_ind.html\" style=\"color: #ff791e\">Examples section of the scipy stats documentation for independent samples t-tests</a>, add it to your own notebook and add explain how it works using MarkDown cells and code comments. Improve it in any way you think it could be improved."
   ]
  },
  {
   "cell_type": "markdown",
   "id": "c134633d-55fa-4aab-a9aa-d39128948ec1",
   "metadata": {},
   "source": [
    "The initial code imports the scipy stats module, as well as importing the random number generator from the numpy module. However, this code will lead to an error off the bat as numpy itself will also have to be imported as np for the rng to be correctly imported. \n",
    "\n",
    "Note: Comments that include text directly from the scipy stats documentation will be commented with a hashtag(#). Comments made by myself will also be within asterisks after the hashtag (# *) to differentiate them."
   ]
  },
  {
   "cell_type": "code",
   "execution_count": 18,
   "id": "6b661340-b988-4e80-89f0-8e329847b694",
   "metadata": {},
   "outputs": [],
   "source": [
    "from scipy import stats\n",
    "\n",
    "# *Adding code to import numpy as np so the rng can be imported correctly*\n",
    "import numpy as np\n",
    "\n",
    "rng = np.random.default_rng()"
   ]
  },
  {
   "cell_type": "markdown",
   "id": "d2a26089-59c2-4e68-9e63-3fc507ac0cd9",
   "metadata": {},
   "source": [
    "stats.norm.rvs is used to generate two datasets with values taken from a normal distribution. The parameters passed in are loc, which is the mean, the scale which is the standard deviation, and the size which is the number of values taken from the distribution that will make up the generated dataset. The rng imported from numpy is also used to generate the random samples taken from the distribution. In the example below, both samples have the exact same mean, standard deviation, and sample size. Note that as the rng is not seeded, the exact results will differ each time the code is run and will not match the results given in the scipy stats documentation.\n",
    "\n",
    "stats.ttest_ind is used to perform an independent sample t-test[1], which compares the samples to see if there is a significant difference between the means of both samples. The p-value returned is used to determine a significant difference, which is chosen ahead of time. Convention often dictates a p-value of p<0.05 as being significant, but this is not set in stone. When performing a t-test, there are two hypothesis in mind regarding the two samples. The null hypothesis is that there is no significant difference between the samples, which the alternative is that there is a significant difference between the samples. \n",
    "\n",
    "The two randomly generated samples are passed in as parameters to perform the test. Two values are returned. The first is the t-statistic which is a value that indicates  whether there's a difference between the sample means and the hypothesised mean of the null hypothesis. However, this value is not based on units and is difficult to interpret by itself. Thus, the t-statistic is used to calculate a p-value, which is a measure of how unlikely the results would be were the null hypothesis to be true. A statistically significant p-value provides evidence that the samples we are using are so unlikely to have been gathered by chance were the null hypothesis true, which in turn provides a reason to reject the null hypothesis and accept the alternative hypothesis that the two groups are different. "
   ]
  },
  {
   "cell_type": "code",
   "execution_count": 19,
   "id": "52975b99-6698-4b84-906d-7a205ba976ba",
   "metadata": {},
   "outputs": [
    {
     "data": {
      "text/plain": [
       "Ttest_indResult(statistic=-0.6676505894664976, pvalue=0.5045110115265838)"
      ]
     },
     "execution_count": 19,
     "metadata": {},
     "output_type": "execute_result"
    }
   ],
   "source": [
    "# Test with sample with identical means:\n",
    "\n",
    "rvs1 = stats.norm.rvs(loc=5, scale=10, size=500, random_state=rng)\n",
    "\n",
    "rvs2 = stats.norm.rvs(loc=5, scale=10, size=500, random_state=rng)\n",
    "\n",
    "stats.ttest_ind(rvs1, rvs2)\n",
    "# *The results given by the code included the scipy stats documentation*\n",
    "# Ttest_indResult(statistic=-0.4390847099199348, pvalue=0.6606952038870015)"
   ]
  },
  {
   "cell_type": "markdown",
   "id": "56b76b48-f9bb-41ff-8388-0fb3e1248346",
   "metadata": {},
   "source": [
    "By default the assumption is that the samples have an equal population variance. If we do not want to make that assumption, then the parameter equal_var=False can be passed, which performs a closely related test called Welch's t-test which does not assume equal population variance[2]. Throughout the document scipy performs their test both with and without this assumption."
   ]
  },
  {
   "cell_type": "code",
   "execution_count": 20,
   "id": "bb0827d2-832d-4506-95d0-9b26837535f3",
   "metadata": {},
   "outputs": [
    {
     "data": {
      "text/plain": [
       "Ttest_indResult(statistic=-0.6676505894664976, pvalue=0.5045110340932543)"
      ]
     },
     "execution_count": 20,
     "metadata": {},
     "output_type": "execute_result"
    }
   ],
   "source": [
    "stats.ttest_ind(rvs1, rvs2, equal_var=False)\n",
    "# *The results given by the code included the scipy stats documentation*\n",
    "# Ttest_indResult(statistic=-0.4390847099199348, pvalue=0.6606952553131064)"
   ]
  },
  {
   "cell_type": "markdown",
   "id": "00e9d7c7-d296-4599-8244-35beecf23d79",
   "metadata": {},
   "source": [
    "The below example provides a new example with a new sample and shows how the results can vary depending on whether the test used assumes population variance or not. Since we know the samples have variance due to this sample having a different mean, we see how the p-value differs slightly between the default test and Welch's test."
   ]
  },
  {
   "cell_type": "code",
   "execution_count": 21,
   "id": "bb658e00-79f0-4c58-a2c4-ea04bccf9fbc",
   "metadata": {},
   "outputs": [
    {
     "data": {
      "text/plain": [
       "Ttest_indResult(statistic=-0.20040648647788578, pvalue=0.8412035174757011)"
      ]
     },
     "execution_count": 21,
     "metadata": {},
     "output_type": "execute_result"
    }
   ],
   "source": [
    "# ttest_ind underestimates p for unequal variances:\n",
    "\n",
    "rvs3 = stats.norm.rvs(loc=5, scale=20, size=500, random_state=rng)\n",
    "\n",
    "stats.ttest_ind(rvs1, rvs3)\n",
    "# *The results given by the code included the scipy stats documentation*\n",
    "# Ttest_indResult(statistic=-1.6370984482905417, pvalue=0.1019251574705033)"
   ]
  },
  {
   "cell_type": "code",
   "execution_count": 22,
   "id": "6b8be079-228b-46bd-8706-a76ca03e0b16",
   "metadata": {},
   "outputs": [
    {
     "data": {
      "text/plain": [
       "Ttest_indResult(statistic=-0.20040648647788578, pvalue=0.8412173057652895)"
      ]
     },
     "execution_count": 22,
     "metadata": {},
     "output_type": "execute_result"
    }
   ],
   "source": [
    "stats.ttest_ind(rvs1, rvs3, equal_var=False)\n",
    "# *The results given by the code included the scipy stats documentation*\n",
    "# Ttest_indResult(statistic=-1.637098448290542, pvalue=0.10202110497954867)"
   ]
  },
  {
   "cell_type": "markdown",
   "id": "00c69d03-a39a-4bc4-b534-87fe5458e534",
   "metadata": {},
   "source": [
    "This difference is becomes even more important when both the standard deviation and the sample sizes vary between samples as shown by the results below."
   ]
  },
  {
   "cell_type": "code",
   "execution_count": 23,
   "id": "f1534d2a-0839-4c38-951a-f7aabfe8dcb2",
   "metadata": {},
   "outputs": [
    {
     "data": {
      "text/plain": [
       "Ttest_indResult(statistic=0.9247732626635083, pvalue=0.35545687857858976)"
      ]
     },
     "execution_count": 23,
     "metadata": {},
     "output_type": "execute_result"
    }
   ],
   "source": [
    "# When n1 != n2, the equal variance t-statistic is no longer equal to the unequal variance t-statistic:\n",
    "\n",
    "rvs4 = stats.norm.rvs(loc=5, scale=20, size=100, random_state=rng)\n",
    "\n",
    "stats.ttest_ind(rvs1, rvs4)\n",
    "# *The results given by the code included the scipy stats documentation*\n",
    "# Ttest_indResult(statistic=-1.9481646859513422, pvalue=0.05186270935842703)"
   ]
  },
  {
   "cell_type": "code",
   "execution_count": 24,
   "id": "8b86e63c-5e27-4d72-b9dd-34a59cdc9fba",
   "metadata": {},
   "outputs": [
    {
     "data": {
      "text/plain": [
       "Ttest_indResult(statistic=0.6169939333711999, pvalue=0.5385146030606506)"
      ]
     },
     "execution_count": 24,
     "metadata": {},
     "output_type": "execute_result"
    }
   ],
   "source": [
    "stats.ttest_ind(rvs1, rvs4, equal_var=False)\n",
    "# *The results given by the code included the scipy stats documentation*\n",
    "# Ttest_indResult(statistic=-1.3146566100751664, pvalue=0.1913495266513811)"
   ]
  },
  {
   "cell_type": "markdown",
   "id": "15085b61-2c02-4344-a77e-fcc4efb0afeb",
   "metadata": {},
   "source": [
    "When the mean, standard deviation, and sample size are different, we see that not accounting for variance leads to a significant p-value if the significance level was set a p<0.05, but the result is not significant when equal_var=False. Care needs to be taken to ensure the correct test is performed. Failure to do so could lead to either a type I error, where the we incorrectly reject the null, or a type II error, where we incorrectly accept the null [3]. In the instance below, using the default test would lead to a type 1 error. "
   ]
  },
  {
   "cell_type": "code",
   "execution_count": 25,
   "id": "bb3a0f04-373d-4196-9eb3-7cfb345b1efe",
   "metadata": {},
   "outputs": [
    {
     "data": {
      "text/plain": [
       "Ttest_indResult(statistic=-0.9491782438304257, pvalue=0.34291339236578433)"
      ]
     },
     "execution_count": 25,
     "metadata": {},
     "output_type": "execute_result"
    }
   ],
   "source": [
    "# T-test with different means, variance, and n:\n",
    "\n",
    "rvs5 = stats.norm.rvs(loc=8, scale=20, size=100, random_state=rng)\n",
    "\n",
    "stats.ttest_ind(rvs1, rvs5)\n",
    "# *The results given by the code included the scipy stats documentation*\n",
    "# Ttest_indResult(statistic=-2.8415950600298774, pvalue=0.0046418707568707885)\n"
   ]
  },
  {
   "cell_type": "code",
   "execution_count": 26,
   "id": "d37ec48d-6d02-4ccb-8ddf-e7d0f9c7a9cc",
   "metadata": {},
   "outputs": [
    {
     "data": {
      "text/plain": [
       "Ttest_indResult(statistic=-0.6124376353442682, pvalue=0.541528944406853)"
      ]
     },
     "execution_count": 26,
     "metadata": {},
     "output_type": "execute_result"
    }
   ],
   "source": [
    "stats.ttest_ind(rvs1, rvs5, equal_var=False)\n",
    "# *The results given by the code included the scipy stats documentation*\n",
    "# Ttest_indResult(statistic=-1.8686598649188084, pvalue=0.06434714193919686)"
   ]
  },
  {
   "cell_type": "markdown",
   "id": "681961b6-c3d8-4f78-8b44-cd9cc8bbd9cf",
   "metadata": {},
   "source": [
    "By default, permutations is set to 0, which uses the t-distribution to calculate the p-value. However, by setting permutation to a value we can repeat the test with a shuffling of the samples the specified number of times which can lead to a more robust result and does not require as many assumptions about the data."
   ]
  },
  {
   "cell_type": "code",
   "execution_count": 27,
   "id": "0a34be1d-f1b1-4e86-b7a7-6f40d8e691d1",
   "metadata": {},
   "outputs": [
    {
     "data": {
      "text/plain": [
       "Ttest_indResult(statistic=-0.9491782438304257, pvalue=0.3385)"
      ]
     },
     "execution_count": 27,
     "metadata": {},
     "output_type": "execute_result"
    }
   ],
   "source": [
    "# When performing a permutation test, more permutations typically yields \n",
    "# more accurate results. Use a np.random.Generator to ensure reproducibility:\n",
    "\n",
    "stats.ttest_ind(rvs1, rvs5, permutations=10000,\n",
    "                random_state=rng)\n",
    "# *The results given by the code included the scipy stats documentation*\n",
    "# Ttest_indResult(statistic=-2.8415950600298774, pvalue=0.0052)"
   ]
  },
  {
   "cell_type": "markdown",
   "id": "ddb0b3d4-fcba-46ee-924d-296e76bf9b1e",
   "metadata": {},
   "source": [
    "Also of note is that having an extreme outlier can skew the results to the point of giving an unrepresentative result. To account for this we can pass trim as a parameter and specify how much to trim off the sample before performing the test. "
   ]
  },
  {
   "cell_type": "code",
   "execution_count": 28,
   "id": "aad7f706-93f7-45b8-977c-86496a0ef4f0",
   "metadata": {},
   "outputs": [
    {
     "data": {
      "text/plain": [
       "Ttest_indResult(statistic=3.4463884028073513, pvalue=0.01369338726499547)"
      ]
     },
     "execution_count": 28,
     "metadata": {},
     "output_type": "execute_result"
    }
   ],
   "source": [
    "# Take these two samples, one of which has an extreme tail.\n",
    "\n",
    "a = (56, 128.6, 12, 123.8, 64.34, 78, 763.3)\n",
    "\n",
    "b = (1.1, 2.9, 4.2)\n",
    "\n",
    "# Use the trim keyword to perform a trimmed (Yuen) t-test. \n",
    "# For example, using 20% trimming, trim=.2, the test will reduce the impact of one (np.floor(trim*len(a))) \n",
    "# element from each tail of sample a. It will have no effect on sample b because np.floor(trim*len(b)) is 0.\n",
    "\n",
    "stats.ttest_ind(a, b, trim=.2)\n",
    "# *The results given by the code included the scipy stats documentation*\n",
    "# Ttest_indResult(statistic=3.4463884028073513,\n",
    "                # pvalue=0.01369338726499547)"
   ]
  },
  {
   "cell_type": "markdown",
   "id": "b75512eb-c324-4aaa-9e5d-46bc1bd71598",
   "metadata": {},
   "source": [
    "**References**\n",
    "\n",
    "[1] Navarro, D., 2013. Learning statistics with R: A tutorial for psychology students and other beginners: Version 0.6. Adelaide, Australia: University of Adelaide, pp.386-423.       \n",
    "[2] Welch, B.L., 1947. The generalization of ‘STUDENT'S’problem when several different population varlances are involved. Biometrika, 34(1-2), pp.28-35.      \n",
    "[3] Banerjee, A., Chitnis, U.B., Jadhav, S.L., Bhawalkar, J.S. and Chaudhury, S., 2009. Hypothesis testing, type I and type II errors. Industrial psychiatry journal, 18(2), p.127.\n"
   ]
  }
 ],
 "metadata": {
  "kernelspec": {
   "display_name": "base",
   "language": "python",
   "name": "python3"
  },
  "language_info": {
   "codemirror_mode": {
    "name": "ipython",
    "version": 3
   },
   "file_extension": ".py",
   "mimetype": "text/x-python",
   "name": "python",
   "nbconvert_exporter": "python",
   "pygments_lexer": "ipython3",
   "version": "3.8.8 (default, Apr 13 2021, 15:08:03) [MSC v.1916 64 bit (AMD64)]"
  },
  "vscode": {
   "interpreter": {
    "hash": "b2b6076d37733cdda692d5a0ae58e17ed184c302ea8382f3215d6339d988bc41"
   }
  }
 },
 "nbformat": 4,
 "nbformat_minor": 5
}
