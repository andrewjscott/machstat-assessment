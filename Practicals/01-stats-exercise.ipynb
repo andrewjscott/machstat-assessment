{
 "cells": [
  {
   "cell_type": "markdown",
   "id": "17a11f03",
   "metadata": {},
   "source": [
    "<h3 style=\"color: #001a79;\">Exercise 1.1</h3>\n",
    "\n",
    "<hr style=\"border-top: 1px solid #001a79;\" />\n",
    "\n",
    "The above gives about a 1.5% chance of randomly selecting the correct cups. Calculate the minimum number of cups of tea required to ensure the probability of randomly selecting the correct cups is less than or equal to 1%."
   ]
  },
  {
   "cell_type": "code",
   "execution_count": 4,
   "id": "21582ab3",
   "metadata": {},
   "outputs": [
    {
     "data": {
      "text/plain": [
       "0.014285714285714285"
      ]
     },
     "execution_count": 4,
     "metadata": {},
     "output_type": "execute_result"
    }
   ],
   "source": [
    "# Import the math module to calculate the number of possible combinations\n",
    "import math\n",
    "\n",
    "# The possible combinations of 8 cups split evenly so 4 have milk first and 4 have tea first\n",
    "comb8cups = math.comb(8,4)\n",
    "comb8cups"
   ]
  },
  {
   "cell_type": "code",
   "execution_count": 6,
   "id": "28578179",
   "metadata": {},
   "outputs": [
    {
     "data": {
      "text/plain": [
       "0.014285714285714285"
      ]
     },
     "execution_count": 6,
     "metadata": {},
     "output_type": "execute_result"
    }
   ],
   "source": [
    "# The probability as a percentage of randomly selecting the correct cups\n",
    "1/comb8cups"
   ]
  },
  {
   "cell_type": "code",
   "execution_count": 7,
   "id": "6d087926",
   "metadata": {},
   "outputs": [
    {
     "data": {
      "text/plain": [
       "252"
      ]
     },
     "execution_count": 7,
     "metadata": {},
     "output_type": "execute_result"
    }
   ],
   "source": [
    "# The possible combinations of 10 cups split evenly so 5 have milk first and 5 have tea first\n",
    "comb10cups = math.comb(10,5)\n",
    "comb10cups"
   ]
  },
  {
   "cell_type": "code",
   "execution_count": 8,
   "id": "682f91c5",
   "metadata": {},
   "outputs": [
    {
     "data": {
      "text/plain": [
       "0.003968253968253968"
      ]
     },
     "execution_count": 8,
     "metadata": {},
     "output_type": "execute_result"
    }
   ],
   "source": [
    "# The probability as a percentage of randomly selecting the correct cups\n",
    "1/comb10cups"
   ]
  },
  {
   "cell_type": "markdown",
   "id": "5d1ac21c",
   "metadata": {},
   "source": [
    "Increasing the number of cups from 4 in each group to 5 in each group decreasing the probability of randomly selecting the correct cups from ~1.4% to ~0.4%.\n",
    "\n",
    "It would also be possible to use 9 cups with an uneven split - 4 in one group and 5 in the other. This would give a probability of randomly selecting the correct cups of ~0.8%."
   ]
  },
  {
   "cell_type": "code",
   "execution_count": null,
   "id": "b00cc84f",
   "metadata": {},
   "outputs": [],
   "source": [
    "# The possible combinations of 10 cups split evenly so 5 have milk first and 5 have tea first\n",
    "comb9cups = math.comb(9,5)\n",
    "comb9cups"
   ]
  },
  {
   "cell_type": "code",
   "execution_count": 12,
   "id": "2b382ad6",
   "metadata": {},
   "outputs": [
    {
     "data": {
      "text/plain": [
       "0.007936507936507936"
      ]
     },
     "execution_count": 12,
     "metadata": {},
     "output_type": "execute_result"
    }
   ],
   "source": [
    "# The probability as a percentage of randomly selecting the correct cups\n",
    "1/comb9cups"
   ]
  },
  {
   "cell_type": "markdown",
   "id": "346b73e7",
   "metadata": {},
   "source": [
    "*Bonus:* How many would be required if you were to let the taster get one cup wrong while maintaining the 1% threshold?"
   ]
  },
  {
   "cell_type": "code",
   "execution_count": null,
   "id": "c5271c72",
   "metadata": {},
   "outputs": [],
   "source": []
  },
  {
   "cell_type": "code",
   "execution_count": null,
   "id": "2ab64c4f",
   "metadata": {},
   "outputs": [],
   "source": []
  },
  {
   "cell_type": "code",
   "execution_count": null,
   "id": "b5f2ee75",
   "metadata": {},
   "outputs": [],
   "source": []
  },
  {
   "cell_type": "code",
   "execution_count": null,
   "id": "4dce1277",
   "metadata": {},
   "outputs": [],
   "source": []
  },
  {
   "cell_type": "markdown",
   "id": "f7143a04",
   "metadata": {},
   "source": [
    "<h3 style=\"color: #001a79;\">Exercise 1.2</h3>\n",
    "\n",
    "<hr style=\"border-top: 1px solid #001a79;\" />\n",
    "\n",
    "Use <a href=\"https://docs.scipy.org/doc/scipy/reference/generated/scipy.stats.fisher_exact.html\" style=\"color: #ff791e\">scipy's version of Fisher's exact test</a> to simulate the Lady Tasting Tea problem."
   ]
  },
  {
   "cell_type": "code",
   "execution_count": 20,
   "id": "02269552",
   "metadata": {},
   "outputs": [
    {
     "data": {
      "text/plain": [
       "(16.0, 0.20634920634920656)"
      ]
     },
     "execution_count": 20,
     "metadata": {},
     "output_type": "execute_result"
    }
   ],
   "source": [
    "# Statistical methods\n",
    "import scipy.stats as ss\n",
    "\n",
    "ss.fisher_exact([[4, 1], [1, 4]])"
   ]
  },
  {
   "cell_type": "code",
   "execution_count": null,
   "id": "ce9dd1a2",
   "metadata": {},
   "outputs": [],
   "source": []
  },
  {
   "cell_type": "code",
   "execution_count": null,
   "id": "a62f1aee",
   "metadata": {},
   "outputs": [],
   "source": []
  }
 ],
 "metadata": {
  "kernelspec": {
   "display_name": "Python 3",
   "language": "python",
   "name": "python3"
  },
  "language_info": {
   "codemirror_mode": {
    "name": "ipython",
    "version": 3
   },
   "file_extension": ".py",
   "mimetype": "text/x-python",
   "name": "python",
   "nbconvert_exporter": "python",
   "pygments_lexer": "ipython3",
   "version": "3.8.8"
  }
 },
 "nbformat": 4,
 "nbformat_minor": 5
}
