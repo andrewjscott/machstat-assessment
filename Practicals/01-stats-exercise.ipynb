{
 "cells": [
  {
   "cell_type": "markdown",
   "id": "17a11f03",
   "metadata": {},
   "source": [
    "<h3 style=\"color: #001a79;\">Exercise 1.1</h3>\n",
    "\n",
    "<hr style=\"border-top: 1px solid #001a79;\" />\n",
    "\n",
    "The above gives about a 1.5% chance of randomly selecting the correct cups. Calculate the minimum number of cups of tea required to ensure the probability of randomly selecting the correct cups is less than or equal to 1%."
   ]
  },
  {
   "cell_type": "code",
   "execution_count": 1,
   "id": "21582ab3",
   "metadata": {},
   "outputs": [
    {
     "data": {
      "text/plain": [
       "70"
      ]
     },
     "execution_count": 1,
     "metadata": {},
     "output_type": "execute_result"
    }
   ],
   "source": [
    "# Import the math module to calculate the number of possible combinations\n",
    "import math\n",
    "\n",
    "# The possible combinations of 8 cups split evenly so 4 have milk first and 4 have tea first\n",
    "comb8cups = math.comb(8,4)\n",
    "comb8cups"
   ]
  },
  {
   "cell_type": "code",
   "execution_count": 2,
   "id": "28578179",
   "metadata": {},
   "outputs": [
    {
     "data": {
      "text/plain": [
       "0.014285714285714285"
      ]
     },
     "execution_count": 2,
     "metadata": {},
     "output_type": "execute_result"
    }
   ],
   "source": [
    "# The probability as a percentage of randomly selecting the correct cups\n",
    "1/comb8cups"
   ]
  },
  {
   "cell_type": "code",
   "execution_count": 3,
   "id": "6d087926",
   "metadata": {},
   "outputs": [
    {
     "data": {
      "text/plain": [
       "252"
      ]
     },
     "execution_count": 3,
     "metadata": {},
     "output_type": "execute_result"
    }
   ],
   "source": [
    "# The possible combinations of 10 cups split evenly so 5 have milk first and 5 have tea first\n",
    "comb10cups = math.comb(10,5)\n",
    "comb10cups"
   ]
  },
  {
   "cell_type": "code",
   "execution_count": 4,
   "id": "682f91c5",
   "metadata": {},
   "outputs": [
    {
     "data": {
      "text/plain": [
       "0.003968253968253968"
      ]
     },
     "execution_count": 4,
     "metadata": {},
     "output_type": "execute_result"
    }
   ],
   "source": [
    "# The probability as a percentage of randomly selecting the correct cups\n",
    "1/comb10cups"
   ]
  },
  {
   "cell_type": "markdown",
   "id": "5d1ac21c",
   "metadata": {},
   "source": [
    "Increasing the number of cups from 4 in each group to 5 in each group decreasing the probability of randomly selecting the correct cups from ~1.4% to ~0.4%.\n",
    "\n",
    "It would also be possible to use 9 cups with an uneven split - 4 in one group and 5 in the other. This would give a probability of randomly selecting the correct cups of ~0.8%."
   ]
  },
  {
   "cell_type": "code",
   "execution_count": 5,
   "id": "b00cc84f",
   "metadata": {},
   "outputs": [
    {
     "data": {
      "text/plain": [
       "126"
      ]
     },
     "execution_count": 5,
     "metadata": {},
     "output_type": "execute_result"
    }
   ],
   "source": [
    "# The possible combinations of 10 cups split evenly so 5 have milk first and 5 have tea first\n",
    "comb9cups = math.comb(9,5)\n",
    "comb9cups"
   ]
  },
  {
   "cell_type": "code",
   "execution_count": 6,
   "id": "2b382ad6",
   "metadata": {},
   "outputs": [
    {
     "data": {
      "text/plain": [
       "0.007936507936507936"
      ]
     },
     "execution_count": 6,
     "metadata": {},
     "output_type": "execute_result"
    }
   ],
   "source": [
    "# The probability as a percentage of randomly selecting the correct cups\n",
    "1/comb9cups"
   ]
  },
  {
   "cell_type": "markdown",
   "id": "346b73e7",
   "metadata": {},
   "source": [
    "*Bonus:* How many would be required if you were to let the taster get one cup wrong while maintaining the 1% threshold?"
   ]
  },
  {
   "cell_type": "markdown",
   "id": "0427d6a0-018b-47e4-bd9c-877ea5a01c50",
   "metadata": {},
   "source": [
    "There are 4 ways of getting three cups right and one wrong. 4x4 possible combinations = 16 + 1 in case she gets all cups correct is 17/70."
   ]
  },
  {
   "cell_type": "code",
   "execution_count": 16,
   "id": "2ab64c4f",
   "metadata": {},
   "outputs": [
    {
     "data": {
      "text/plain": [
       "0.24285714285714285"
      ]
     },
     "execution_count": 16,
     "metadata": {},
     "output_type": "execute_result"
    }
   ],
   "source": [
    "17/70"
   ]
  },
  {
   "cell_type": "markdown",
   "id": "9300484c-e0b7-449c-934a-28b10a5a168d",
   "metadata": {},
   "source": [
    "If we increased the sample to 10 cups, there would be 5 ways to get four cups right and one wrong. 5x5 possible combinations + 1 in case she gets all cups correct is 26/252. We calculated 252 possible combinations of 10 cups earlier."
   ]
  },
  {
   "cell_type": "code",
   "execution_count": 17,
   "id": "c01d0694-7aa3-41c3-ad00-b4bf8af524bf",
   "metadata": {},
   "outputs": [
    {
     "data": {
      "text/plain": [
       "0.10317460317460317"
      ]
     },
     "execution_count": 17,
     "metadata": {},
     "output_type": "execute_result"
    }
   ],
   "source": [
    "26/252"
   ]
  },
  {
   "cell_type": "markdown",
   "id": "1be5ac98-a7cb-4912-a6fe-4781f1f9a7a4",
   "metadata": {},
   "source": [
    "We could need to increase the sample further. 12 cups yields the following possible combinations."
   ]
  },
  {
   "cell_type": "code",
   "execution_count": 19,
   "id": "0ceb6c24-98cd-4d2a-9423-a8ad5b175ba9",
   "metadata": {},
   "outputs": [
    {
     "data": {
      "text/plain": [
       "924"
      ]
     },
     "execution_count": 19,
     "metadata": {},
     "output_type": "execute_result"
    }
   ],
   "source": [
    "# The possible combinations of 12 cups split evenly so 6 have milk first and 6 have tea first\n",
    "comb12cups = math.comb(12,6)\n",
    "comb12cups"
   ]
  },
  {
   "cell_type": "markdown",
   "id": "775ef5af-7663-4f38-ac2a-a1db934562f1",
   "metadata": {},
   "source": [
    "There are 6 ways of getting five cups right and one wrong. 6x6 possible combinations = 36 + 1 in case she gets all cups correct is 37/924."
   ]
  },
  {
   "cell_type": "code",
   "execution_count": 20,
   "id": "34f7e596-c329-4f45-bca4-8c32d291ac41",
   "metadata": {},
   "outputs": [
    {
     "data": {
      "text/plain": [
       "0.04004329004329004"
      ]
     },
     "execution_count": 20,
     "metadata": {},
     "output_type": "execute_result"
    }
   ],
   "source": [
    "37/924"
   ]
  },
  {
   "cell_type": "markdown",
   "id": "1a4f1544-1b4c-4a11-8443-50f09b04c330",
   "metadata": {},
   "source": [
    "We could need to increase the sample further. 14 cups yields the following possible combinations."
   ]
  },
  {
   "cell_type": "code",
   "execution_count": 21,
   "id": "3cbf0f16-61a2-4cac-8362-8ae8929c410c",
   "metadata": {},
   "outputs": [
    {
     "data": {
      "text/plain": [
       "3432"
      ]
     },
     "execution_count": 21,
     "metadata": {},
     "output_type": "execute_result"
    }
   ],
   "source": [
    "# The possible combinations of 14 cups split evenly so 7 have milk first and 7 have tea first\n",
    "comb14cups = math.comb(14,7)\n",
    "comb14cups"
   ]
  },
  {
   "cell_type": "markdown",
   "id": "748704b5-ef05-44ca-bf6a-c9075d6aa0b6",
   "metadata": {},
   "source": [
    "There are 7 ways of getting six cups right and one wrong. 7x7 possible combinations = 49 + 1 in case she gets all cups correct is 50/3432."
   ]
  },
  {
   "cell_type": "code",
   "execution_count": 22,
   "id": "4dce1277",
   "metadata": {},
   "outputs": [
    {
     "data": {
      "text/plain": [
       "0.014568764568764568"
      ]
     },
     "execution_count": 22,
     "metadata": {},
     "output_type": "execute_result"
    }
   ],
   "source": [
    "50/3432"
   ]
  },
  {
   "cell_type": "markdown",
   "id": "ccec8298-c045-4759-ba51-770d57edb9b9",
   "metadata": {},
   "source": [
    "We could need to increase the sample further. 16 cups yields the following possible combinations."
   ]
  },
  {
   "cell_type": "code",
   "execution_count": 25,
   "id": "1f4b7d3b-8ee2-4d8a-bb09-5dc86349cecf",
   "metadata": {},
   "outputs": [
    {
     "data": {
      "text/plain": [
       "12870"
      ]
     },
     "execution_count": 25,
     "metadata": {},
     "output_type": "execute_result"
    }
   ],
   "source": [
    "# The possible combinations of 16 cups split evenly so 8 have milk first and 8 have tea first\n",
    "comb16cups = math.comb(16,8)\n",
    "comb16cups"
   ]
  },
  {
   "cell_type": "markdown",
   "id": "13773c1a-f558-46a7-bd43-844cad4d20e3",
   "metadata": {},
   "source": [
    "There are 8 ways of getting seven cups right and one wrong. 8x8 possible combinations = 64 + 1 in case she gets all cups correct is 65/12870."
   ]
  },
  {
   "cell_type": "code",
   "execution_count": 26,
   "id": "f149aede-3e8b-4f4b-b2e7-53c18f4eb653",
   "metadata": {},
   "outputs": [
    {
     "data": {
      "text/plain": [
       "0.005050505050505051"
      ]
     },
     "execution_count": 26,
     "metadata": {},
     "output_type": "execute_result"
    }
   ],
   "source": [
    "65/12870"
   ]
  },
  {
   "cell_type": "markdown",
   "id": "c08c872b-fa1b-44c8-9fa7-cdbea9f29555",
   "metadata": {},
   "source": [
    "Therefore, we would need 16 cups- 8 with milk first and 8 with tea first - to have a probability of under 1% allowing for one wrong cup."
   ]
  },
  {
   "cell_type": "code",
   "execution_count": null,
   "id": "d358bd1b-b4d1-45be-86ad-123317407a7d",
   "metadata": {},
   "outputs": [],
   "source": []
  },
  {
   "cell_type": "markdown",
   "id": "f7143a04",
   "metadata": {},
   "source": [
    "<h3 style=\"color: #001a79;\">Exercise 1.2</h3>\n",
    "\n",
    "<hr style=\"border-top: 1px solid #001a79;\" />\n",
    "\n",
    "Use <a href=\"https://docs.scipy.org/doc/scipy/reference/generated/scipy.stats.fisher_exact.html\" style=\"color: #ff791e\">scipy's version of Fisher's exact test</a> to simulate the Lady Tasting Tea problem."
   ]
  },
  {
   "cell_type": "code",
   "execution_count": 9,
   "id": "02269552",
   "metadata": {},
   "outputs": [
    {
     "data": {
      "text/plain": [
       "(inf, 0.028571428571428536)"
      ]
     },
     "execution_count": 9,
     "metadata": {},
     "output_type": "execute_result"
    }
   ],
   "source": [
    "# Statistical methods\n",
    "import scipy.stats as ss\n",
    "\n",
    "# If she were to get all correct\n",
    "ss.fisher_exact([[4, 0], [0, 4]])"
   ]
  },
  {
   "cell_type": "code",
   "execution_count": 10,
   "id": "ce9dd1a2",
   "metadata": {},
   "outputs": [
    {
     "data": {
      "text/plain": [
       "(9.0, 0.48571428571428527)"
      ]
     },
     "execution_count": 10,
     "metadata": {},
     "output_type": "execute_result"
    }
   ],
   "source": [
    "# Statistical methods\n",
    "import scipy.stats as ss\n",
    "\n",
    "# Were she to get three right and 1 wrong\n",
    "ss.fisher_exact([[3, 1], [1, 3]])"
   ]
  },
  {
   "cell_type": "code",
   "execution_count": 24,
   "id": "a62f1aee",
   "metadata": {},
   "outputs": [
    {
     "data": {
      "text/plain": [
       "(36.0, 0.029137529137529216)"
      ]
     },
     "execution_count": 24,
     "metadata": {},
     "output_type": "execute_result"
    }
   ],
   "source": [
    "ss.fisher_exact([[6, 1], [1, 6]])"
   ]
  },
  {
   "cell_type": "code",
   "execution_count": null,
   "id": "a0fc1891-c493-4f1d-8381-21569f7bf54a",
   "metadata": {},
   "outputs": [],
   "source": []
  }
 ],
 "metadata": {
  "kernelspec": {
   "display_name": "Python 3",
   "language": "python",
   "name": "python3"
  },
  "language_info": {
   "codemirror_mode": {
    "name": "ipython",
    "version": 3
   },
   "file_extension": ".py",
   "mimetype": "text/x-python",
   "name": "python",
   "nbconvert_exporter": "python",
   "pygments_lexer": "ipython3",
   "version": "3.8.8"
  }
 },
 "nbformat": 4,
 "nbformat_minor": 5
}
