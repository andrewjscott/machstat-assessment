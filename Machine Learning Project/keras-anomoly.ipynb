{
 "cells": [
  {
   "cell_type": "markdown",
   "id": "ae11e46f",
   "metadata": {},
   "source": [
    "# Assessment Overview\n",
    "***"
   ]
  },
  {
   "cell_type": "markdown",
   "id": "427b333d",
   "metadata": {},
   "source": [
    "On the [keras website](https://keras.io/), there is an example of [time-series anomaly detection](https://keras.io/examples/timeseries/timeseries_anomaly_detection/). Re-create this example in a notebook of your own, explaining the concepts.   \n",
    "\n",
    "Clearly explain each keras function used, referring to the documentation.   \n",
    "\n",
    "Include an introduction to your notebook, setting the context and describing what the reader can expect as they read down through the notebook.   \n",
    "\n",
    "Include a conclusion section where you suggest improvements you could make to the analysis in the notebook."
   ]
  },
  {
   "cell_type": "markdown",
   "id": "ef4f2b59",
   "metadata": {},
   "source": [
    "# Introduction\n",
    "***"
   ]
  },
  {
   "cell_type": "markdown",
   "id": "897c063e",
   "metadata": {},
   "source": [
    "Keras is an Application Programming Interface(API) that can be used in Python to build deep learning models. Running on top of the machine learning library TensorFlow, Keras is designed to be a higher level introduction to deep learning, with the goal of fast experimentation. This allows the user to focus more on the ideas and outcomes they wish their models to achieve without needing to focus as much on the underlying mathematics performed by TensorFlow.\n",
    "\n",
    "The Keras website provides [examples](https://keras.io/examples/) for many deep learning tasks, such as the one that will be looked at in this notebook, [\"Timeseries anomaly detection using an Autoencoder\"](https://keras.io/examples/timeseries/timeseries_anomaly_detection/). The goal of these examples appears to be to show the user what to do so the user can get started as quickly as possible. However, they provide little detail as to why and how the example code works. This notebook attempts to expand upon the example provided by Keras for Timeseries anomaly detection using an Autoencoder by discussing the purpose of the Keras functions they use and how those functions work, why they make the choices they do when it comes to model design, and suggest aspects of their design that might be improved upon. While most of the code comes from the example provided by Keras, there are some adaptions throughout that come from [here](https://github.com/ianmcloughlin/2223-S1-machine-learn-stats/blob/main/notebooks/05-evaluation.ipynb). "
   ]
  },
  {
   "cell_type": "code",
   "execution_count": 1,
   "id": "42f89158",
   "metadata": {},
   "outputs": [],
   "source": [
    "# Numerical arrays.\n",
    "import numpy as np\n",
    "\n",
    "# Spreadsheet-like Data Frames.\n",
    "import pandas as pd\n",
    "\n",
    "# Neural networks.\n",
    "import tensorflow.keras as keras\n",
    "\n",
    "# Plotting\n",
    "import matplotlib.pyplot as plt"
   ]
  },
  {
   "cell_type": "markdown",
   "id": "6a3ffd58",
   "metadata": {},
   "source": [
    "This is the code that imports the packages needed to run this code. Numpy is a package that allows for quick and easy manipulation of numerical arrays. Pandas is used to create data frames, which is used to work with data that is similar to a spreadsheet in excel. Keras is the package which is used for neural networks and deep learning models. Of note is that the example on the Keras website imports keras and tensorflow.keras.layers separately. This does make the code shorter when using layers functions, but with the drawback of it being less clear to anyone looking at the code where the layers functions come from. Instead, this notebook will use the longer code of calling keras.layers for clarity. Finally, matplotlib.pyplot is imported to plot data throughout the notebook."
   ]
  },
  {
   "cell_type": "markdown",
   "id": "7c9be8ac",
   "metadata": {},
   "source": [
    "## Data\n",
    "\n",
    "***\n",
    "\n",
    "https://www.kaggle.com/datasets/boltzmannbrain/nab\n",
    "\n",
    "https://github.com/numenta/NAB"
   ]
  },
  {
   "cell_type": "markdown",
   "id": "c1ae5f8e",
   "metadata": {},
   "source": [
    "The data used in this example comes from Numenta Anomaly Benchmark(NAB) and can be found from the links above. Their data is used to evaluate algorithms to detect anomalies in streaming data. More specifically, this notebook will use two datasets from NAB. The first dataset is art_daily_small_noise.csv, which is an artificial dataset that has some small amounts of noise and variation in data values, but does not contain any anomalous values. The file contains two columns of data. The first column contains a timestamp of the date and time the measurement was taken, and the second column contains the value measured at that time. Exactly what that value measures is not clear from looking at the data, nor is it important for the purposes of our task to detect anomalies. The second dataset is called art_daily_jumpsup.csv and is similar to the first dataset but with one important difference - somewhere among the data is a series of anomalous data values. The Keras example shows how we can use Keras functions and the dataset with no anomalies to train a model to learn what patterns of data values are considered normal at specific times. The model can then be tested to see if it can show where the anomalies are in the second dataset. "
   ]
  },
  {
   "cell_type": "code",
   "execution_count": 2,
   "id": "ce9eefc9",
   "metadata": {},
   "outputs": [],
   "source": [
    "# Root of URLs.\n",
    "root_url = 'https://raw.githubusercontent.com/numenta/NAB/master/data/'\n",
    "\n",
    "# Data file without anomaly.\n",
    "no_anomaly_url = root_url + 'artificialNoAnomaly/art_daily_small_noise.csv'\n",
    "\n",
    "# Data file with anomaly.\n",
    "with_anomaly_url = root_url + 'artificialWithAnomaly/art_daily_jumpsup.csv'"
   ]
  },
  {
   "cell_type": "code",
   "execution_count": 3,
   "id": "00878c05",
   "metadata": {},
   "outputs": [
    {
     "data": {
      "text/plain": [
       "'https://raw.githubusercontent.com/numenta/NAB/master/data/artificialNoAnomaly/art_daily_small_noise.csv'"
      ]
     },
     "execution_count": 3,
     "metadata": {},
     "output_type": "execute_result"
    }
   ],
   "source": [
    "# Check that the url for the no anomaly csv file is concatonated correctly\n",
    "no_anomaly_url"
   ]
  },
  {
   "cell_type": "code",
   "execution_count": 4,
   "id": "d408ea09",
   "metadata": {},
   "outputs": [
    {
     "data": {
      "text/plain": [
       "'https://raw.githubusercontent.com/numenta/NAB/master/data/artificialWithAnomaly/art_daily_jumpsup.csv'"
      ]
     },
     "execution_count": 4,
     "metadata": {},
     "output_type": "execute_result"
    }
   ],
   "source": [
    "# Check that the url for the with anomaly csv file is concatonated correctly\n",
    "with_anomaly_url"
   ]
  },
  {
   "cell_type": "markdown",
   "id": "8480d962",
   "metadata": {},
   "source": [
    "The code is hosted on the NAB github page and can be imported to python using the URLs of the CSV files that store the data. It's worth noting that the URLs are raw to get direct access to the CSV files. If we navigate through the repositories to the CSV files, the URL will end in .csv, for example https://github.com/numenta/NAB/blob/master/data/artificialNoAnomaly/art_daily_small_noise.csv, but this URL cannot be used to import the CSV to python as it is actually a HTML link that renders the CSV file. Instead, we can click on the 'Raw' button at the HTML link to get the link that Python can use to import the CSV data. "
   ]
  },
  {
   "cell_type": "code",
   "execution_count": 5,
   "id": "44ec96d0",
   "metadata": {},
   "outputs": [],
   "source": [
    "# Import the small noise no anomaly csv to a pandas dataframe\n",
    "df_small_noise = pd.read_csv(no_anomaly_url, parse_dates=True, index_col=\"timestamp\")"
   ]
  },
  {
   "cell_type": "markdown",
   "id": "c63cd66a",
   "metadata": {},
   "source": [
    "Pandas can be used to read in the data from the CSV file into a format that Python can use. The parse_dates argument can be passed as True to ensure that the timestamps are read in correctly as dates and times. The timestamp column is also used as the index for the data frame. "
   ]
  },
  {
   "cell_type": "code",
   "execution_count": 6,
   "id": "1cf7e633",
   "metadata": {},
   "outputs": [
    {
     "data": {
      "text/html": [
       "<div>\n",
       "<style scoped>\n",
       "    .dataframe tbody tr th:only-of-type {\n",
       "        vertical-align: middle;\n",
       "    }\n",
       "\n",
       "    .dataframe tbody tr th {\n",
       "        vertical-align: top;\n",
       "    }\n",
       "\n",
       "    .dataframe thead th {\n",
       "        text-align: right;\n",
       "    }\n",
       "</style>\n",
       "<table border=\"1\" class=\"dataframe\">\n",
       "  <thead>\n",
       "    <tr style=\"text-align: right;\">\n",
       "      <th></th>\n",
       "      <th>value</th>\n",
       "    </tr>\n",
       "    <tr>\n",
       "      <th>timestamp</th>\n",
       "      <th></th>\n",
       "    </tr>\n",
       "  </thead>\n",
       "  <tbody>\n",
       "    <tr>\n",
       "      <th>2014-04-01 00:00:00</th>\n",
       "      <td>18.324919</td>\n",
       "    </tr>\n",
       "    <tr>\n",
       "      <th>2014-04-01 00:05:00</th>\n",
       "      <td>21.970327</td>\n",
       "    </tr>\n",
       "    <tr>\n",
       "      <th>2014-04-01 00:10:00</th>\n",
       "      <td>18.624806</td>\n",
       "    </tr>\n",
       "    <tr>\n",
       "      <th>2014-04-01 00:15:00</th>\n",
       "      <td>21.953684</td>\n",
       "    </tr>\n",
       "    <tr>\n",
       "      <th>2014-04-01 00:20:00</th>\n",
       "      <td>21.909120</td>\n",
       "    </tr>\n",
       "  </tbody>\n",
       "</table>\n",
       "</div>"
      ],
      "text/plain": [
       "                         value\n",
       "timestamp                     \n",
       "2014-04-01 00:00:00  18.324919\n",
       "2014-04-01 00:05:00  21.970327\n",
       "2014-04-01 00:10:00  18.624806\n",
       "2014-04-01 00:15:00  21.953684\n",
       "2014-04-01 00:20:00  21.909120"
      ]
     },
     "execution_count": 6,
     "metadata": {},
     "output_type": "execute_result"
    }
   ],
   "source": [
    "# Look at the first five entries of the no anomaly data\n",
    "df_small_noise.head()"
   ]
  },
  {
   "cell_type": "code",
   "execution_count": 7,
   "id": "3eaa47be",
   "metadata": {
    "scrolled": true
   },
   "outputs": [
    {
     "data": {
      "text/html": [
       "<div>\n",
       "<style scoped>\n",
       "    .dataframe tbody tr th:only-of-type {\n",
       "        vertical-align: middle;\n",
       "    }\n",
       "\n",
       "    .dataframe tbody tr th {\n",
       "        vertical-align: top;\n",
       "    }\n",
       "\n",
       "    .dataframe thead th {\n",
       "        text-align: right;\n",
       "    }\n",
       "</style>\n",
       "<table border=\"1\" class=\"dataframe\">\n",
       "  <thead>\n",
       "    <tr style=\"text-align: right;\">\n",
       "      <th></th>\n",
       "      <th>value</th>\n",
       "    </tr>\n",
       "  </thead>\n",
       "  <tbody>\n",
       "    <tr>\n",
       "      <th>count</th>\n",
       "      <td>4032.000000</td>\n",
       "    </tr>\n",
       "    <tr>\n",
       "      <th>mean</th>\n",
       "      <td>42.438353</td>\n",
       "    </tr>\n",
       "    <tr>\n",
       "      <th>std</th>\n",
       "      <td>28.077122</td>\n",
       "    </tr>\n",
       "    <tr>\n",
       "      <th>min</th>\n",
       "      <td>18.000964</td>\n",
       "    </tr>\n",
       "    <tr>\n",
       "      <th>25%</th>\n",
       "      <td>19.841390</td>\n",
       "    </tr>\n",
       "    <tr>\n",
       "      <th>50%</th>\n",
       "      <td>21.608487</td>\n",
       "    </tr>\n",
       "    <tr>\n",
       "      <th>75%</th>\n",
       "      <td>75.450282</td>\n",
       "    </tr>\n",
       "    <tr>\n",
       "      <th>max</th>\n",
       "      <td>87.976128</td>\n",
       "    </tr>\n",
       "  </tbody>\n",
       "</table>\n",
       "</div>"
      ],
      "text/plain": [
       "             value\n",
       "count  4032.000000\n",
       "mean     42.438353\n",
       "std      28.077122\n",
       "min      18.000964\n",
       "25%      19.841390\n",
       "50%      21.608487\n",
       "75%      75.450282\n",
       "max      87.976128"
      ]
     },
     "execution_count": 7,
     "metadata": {},
     "output_type": "execute_result"
    }
   ],
   "source": [
    "# View some summary statistics of the no anomaly data\n",
    "df_small_noise.describe()"
   ]
  },
  {
   "cell_type": "markdown",
   "id": "99d7a1dd",
   "metadata": {},
   "source": [
    "Since the dataset has thousands of values, it's not practical to manualy look at each entry to see if it's been read in correctly. What can be done instead is to look at the first five entries using the .head() Pandas function and use the .describe() Pandas function to get some summary statistics which can provide some useful information. We can compare these to the data held on github and see that by looking at the head, it appears that the values have been rounded when imported to pandas to six decimal places. We can also see that there are 4032 entries, which lines up with the CSV file, which has 4033, but it counts the headings as the first entry whereas Pandas doesn't. We can also visualise the data somewhat with this information. Half of the dataset falls between the minimum value of 18.000964 and the median of 21.608487. There is then a large difference between the median and the 75th percentile value of 75.450282 and the maximum value of 87.976128. This suggest a somewhat stable baseline value of ~20 for most values, and a less stable peak of ~80 for other values. "
   ]
  },
  {
   "cell_type": "code",
   "execution_count": 8,
   "id": "c9210e44",
   "metadata": {},
   "outputs": [
    {
     "data": {
      "text/plain": [
       "value    18.324919\n",
       "Name: 2014-04-01 00:00:00, dtype: float64"
      ]
     },
     "execution_count": 8,
     "metadata": {},
     "output_type": "execute_result"
    }
   ],
   "source": [
    "# View information about the first entry of the no anomaly data\n",
    "df_small_noise.iloc[0]"
   ]
  },
  {
   "cell_type": "code",
   "execution_count": 9,
   "id": "0da2b06c",
   "metadata": {},
   "outputs": [
    {
     "data": {
      "text/plain": [
       "18.3249185392"
      ]
     },
     "execution_count": 9,
     "metadata": {},
     "output_type": "execute_result"
    }
   ],
   "source": [
    "# View the complete value of the first value imported as pandas seems to have rounded the values to 10 decimal places\n",
    "df_small_noise.iloc[0]['value']"
   ]
  },
  {
   "cell_type": "code",
   "execution_count": 10,
   "id": "fdbe4e8e",
   "metadata": {},
   "outputs": [
    {
     "data": {
      "text/plain": [
       "18.3249185392"
      ]
     },
     "execution_count": 10,
     "metadata": {},
     "output_type": "execute_result"
    }
   ],
   "source": [
    "# Confirming that the first value has been rounded. It was 18.324918539200002 in the original csv\n",
    "df_small_noise.iloc[0].values[0]"
   ]
  },
  {
   "cell_type": "markdown",
   "id": "43825276",
   "metadata": {},
   "source": [
    "It's worth taking a closer look at the first value imported to see how it's been rounded by Pandas and whether that rounding is something which could be of concern for our model and analysis. Using .iloc[0] to get information about the first row in the dataframe shows the same value as when we looked at the head, but if we access only the value from the first row, it shows us that the value has more decimal places than initially appeared, but is still rounded from the original value of 18.324918539200002. This is due to a read_csv argument called float_precision, which is equal to None if it's not explicitly specified by the user. If we explicitly set float_precision='round_trip', then the values will not be rounded."
   ]
  },
  {
   "cell_type": "code",
   "execution_count": 12,
   "id": "cd75477f-7465-415e-9f14-e40edf8fe38b",
   "metadata": {},
   "outputs": [
    {
     "data": {
      "text/plain": [
       "18.324918539200002"
      ]
     },
     "execution_count": 12,
     "metadata": {},
     "output_type": "execute_result"
    }
   ],
   "source": [
    "# Import the small noise no anomaly csv to a pandas dataframe without rounding values\n",
    "df_small_noise2 = pd.read_csv(no_anomaly_url, parse_dates=True, index_col=\"timestamp\", float_precision='round_trip')\n",
    "\n",
    "# Show that the value has now not been rounded by Pandas\n",
    "df_small_noise2.iloc[0]['value']"
   ]
  },
  {
   "cell_type": "markdown",
   "id": "c4d8900a-9c72-4947-b979-2beba0fd600c",
   "metadata": {},
   "source": [
    "Since the original Keras example proceeds with the rounded values this notebook will do the same, but it's worth highlighting that Pandas may round values since there may be other datasets where we would want the original values to be maintained without any rounding. "
   ]
  },
  {
   "cell_type": "code",
   "execution_count": null,
   "id": "b237bf04-d8c9-4f84-8702-fd0133ccb531",
   "metadata": {},
   "outputs": [],
   "source": []
  },
  {
   "cell_type": "code",
   "execution_count": 13,
   "id": "fae88875",
   "metadata": {},
   "outputs": [
    {
     "data": {
      "text/plain": [
       "(4032, 1)"
      ]
     },
     "execution_count": 13,
     "metadata": {},
     "output_type": "execute_result"
    }
   ],
   "source": [
    "# Confirming the shape of the output is what's expected\n",
    "df_small_noise.shape"
   ]
  },
  {
   "cell_type": "markdown",
   "id": "585746ce-d84c-4154-a213-226f02a50304",
   "metadata": {},
   "source": [
    "Checking the shape confirms that we have a one-dimensional set of values (as the timestamp is considered to be an index and not an extra column of data) which contains 4032 data points."
   ]
  },
  {
   "cell_type": "code",
   "execution_count": 13,
   "id": "ae3bccf4",
   "metadata": {},
   "outputs": [
    {
     "data": {
      "image/png": "[encoded data removed]",
      "text/plain": [
       "<Figure size 1000x400 with 1 Axes>"
      ]
     },
     "metadata": {},
     "output_type": "display_data"
    }
   ],
   "source": [
    "# Specify a size for the plot\n",
    "fig, ax = plt.subplots(figsize=(10,4))\n",
    "\n",
    "# Use pandas to plot the no anomaly data frame.\n",
    "df_small_noise.plot(legend=False, ax=ax);"
   ]
  },
  {
   "cell_type": "markdown",
   "id": "65d827db",
   "metadata": {},
   "source": [
    "We can use PyPlot and Pandas to plot the data for us so we can easily visualise its contents. As suggested by the summary statistics, the data appears to fluctuate around a baseline of 20 before it spikes and has a larger fluctuation between ~73 and ~87. This is a pattern that repeats at regular intervals. Indeed, this plot makes it easy to see that there is a pattern to the data. While the values for each cycle are not identical every time, they are similar enough to suggest there is a narrow range of values that can be considered normal."
   ]
  },
  {
   "cell_type": "code",
   "execution_count": 14,
   "id": "e221e218",
   "metadata": {},
   "outputs": [],
   "source": [
    "# Import the daily jumpsup with anomaly csv to a pandas dataframe\n",
    "df_daily_jumpsup = pd.read_csv(with_anomaly_url, parse_dates=True, index_col=\"timestamp\")"
   ]
  },
  {
   "cell_type": "code",
   "execution_count": 15,
   "id": "1f5f0e5a",
   "metadata": {},
   "outputs": [
    {
     "data": {
      "text/html": [
       "<div>\n",
       "<style scoped>\n",
       "    .dataframe tbody tr th:only-of-type {\n",
       "        vertical-align: middle;\n",
       "    }\n",
       "\n",
       "    .dataframe tbody tr th {\n",
       "        vertical-align: top;\n",
       "    }\n",
       "\n",
       "    .dataframe thead th {\n",
       "        text-align: right;\n",
       "    }\n",
       "</style>\n",
       "<table border=\"1\" class=\"dataframe\">\n",
       "  <thead>\n",
       "    <tr style=\"text-align: right;\">\n",
       "      <th></th>\n",
       "      <th>value</th>\n",
       "    </tr>\n",
       "    <tr>\n",
       "      <th>timestamp</th>\n",
       "      <th></th>\n",
       "    </tr>\n",
       "  </thead>\n",
       "  <tbody>\n",
       "    <tr>\n",
       "      <th>2014-04-01 00:00:00</th>\n",
       "      <td>19.761252</td>\n",
       "    </tr>\n",
       "    <tr>\n",
       "      <th>2014-04-01 00:05:00</th>\n",
       "      <td>20.500833</td>\n",
       "    </tr>\n",
       "    <tr>\n",
       "      <th>2014-04-01 00:10:00</th>\n",
       "      <td>19.961641</td>\n",
       "    </tr>\n",
       "    <tr>\n",
       "      <th>2014-04-01 00:15:00</th>\n",
       "      <td>21.490266</td>\n",
       "    </tr>\n",
       "    <tr>\n",
       "      <th>2014-04-01 00:20:00</th>\n",
       "      <td>20.187739</td>\n",
       "    </tr>\n",
       "  </tbody>\n",
       "</table>\n",
       "</div>"
      ],
      "text/plain": [
       "                         value\n",
       "timestamp                     \n",
       "2014-04-01 00:00:00  19.761252\n",
       "2014-04-01 00:05:00  20.500833\n",
       "2014-04-01 00:10:00  19.961641\n",
       "2014-04-01 00:15:00  21.490266\n",
       "2014-04-01 00:20:00  20.187739"
      ]
     },
     "execution_count": 15,
     "metadata": {},
     "output_type": "execute_result"
    }
   ],
   "source": [
    "# Look at the first five entries of the with anomaly data\n",
    "df_daily_jumpsup.head()"
   ]
  },
  {
   "cell_type": "code",
   "execution_count": 16,
   "id": "a5fae563",
   "metadata": {},
   "outputs": [
    {
     "data": {
      "text/html": [
       "<div>\n",
       "<style scoped>\n",
       "    .dataframe tbody tr th:only-of-type {\n",
       "        vertical-align: middle;\n",
       "    }\n",
       "\n",
       "    .dataframe tbody tr th {\n",
       "        vertical-align: top;\n",
       "    }\n",
       "\n",
       "    .dataframe thead th {\n",
       "        text-align: right;\n",
       "    }\n",
       "</style>\n",
       "<table border=\"1\" class=\"dataframe\">\n",
       "  <thead>\n",
       "    <tr style=\"text-align: right;\">\n",
       "      <th></th>\n",
       "      <th>value</th>\n",
       "    </tr>\n",
       "  </thead>\n",
       "  <tbody>\n",
       "    <tr>\n",
       "      <th>count</th>\n",
       "      <td>4032.000000</td>\n",
       "    </tr>\n",
       "    <tr>\n",
       "      <th>mean</th>\n",
       "      <td>44.494254</td>\n",
       "    </tr>\n",
       "    <tr>\n",
       "      <th>std</th>\n",
       "      <td>32.432473</td>\n",
       "    </tr>\n",
       "    <tr>\n",
       "      <th>min</th>\n",
       "      <td>18.001010</td>\n",
       "    </tr>\n",
       "    <tr>\n",
       "      <th>25%</th>\n",
       "      <td>19.991382</td>\n",
       "    </tr>\n",
       "    <tr>\n",
       "      <th>50%</th>\n",
       "      <td>21.648503</td>\n",
       "    </tr>\n",
       "    <tr>\n",
       "      <th>75%</th>\n",
       "      <td>76.435943</td>\n",
       "    </tr>\n",
       "    <tr>\n",
       "      <th>max</th>\n",
       "      <td>164.947481</td>\n",
       "    </tr>\n",
       "  </tbody>\n",
       "</table>\n",
       "</div>"
      ],
      "text/plain": [
       "             value\n",
       "count  4032.000000\n",
       "mean     44.494254\n",
       "std      32.432473\n",
       "min      18.001010\n",
       "25%      19.991382\n",
       "50%      21.648503\n",
       "75%      76.435943\n",
       "max     164.947481"
      ]
     },
     "execution_count": 16,
     "metadata": {},
     "output_type": "execute_result"
    }
   ],
   "source": [
    "# View some summary statistics of the with anomaly data\n",
    "df_daily_jumpsup.describe()"
   ]
  },
  {
   "cell_type": "markdown",
   "id": "b211abdb",
   "metadata": {},
   "source": [
    "We can use the same process to import the data that we know contains an anomaly using Pandas. The head and description make the dataset look very similar to the no anomaly dataset, except for one major difference. The maximum value for the no anomaly dataset was 87.976128 but the maximum value for the dataset with anomalies is 164.947481 - nearly twice the value. This is enough to increase both the mean and standard deviation by a few points each. "
   ]
  },
  {
   "cell_type": "code",
   "execution_count": 17,
   "id": "56d19c4e",
   "metadata": {},
   "outputs": [
    {
     "data": {
      "text/plain": [
       "19.761251903"
      ]
     },
     "execution_count": 17,
     "metadata": {},
     "output_type": "execute_result"
    }
   ],
   "source": [
    "# View information about the first entry of the with anomaly data\n",
    "df_daily_jumpsup.iloc[0]['value']"
   ]
  },
  {
   "cell_type": "code",
   "execution_count": 18,
   "id": "668f15ea",
   "metadata": {},
   "outputs": [
    {
     "data": {
      "text/plain": [
       "(4032, 1)"
      ]
     },
     "execution_count": 18,
     "metadata": {},
     "output_type": "execute_result"
    }
   ],
   "source": [
    "# Confirming the shape of the output is what's expected\n",
    "df_daily_jumpsup.shape"
   ]
  },
  {
   "cell_type": "markdown",
   "id": "751faef1",
   "metadata": {},
   "source": [
    "Again we can see that the first value has been rounded, so at least we know that while the values are rounded, it has been done consistently across both datasets. The shape is also what we expect so between that, the head, and the descriptive statistics, we can feel confident that the CSV has been read in correctly. "
   ]
  },
  {
   "cell_type": "code",
   "execution_count": 19,
   "id": "698f04b3",
   "metadata": {},
   "outputs": [
    {
     "data": {
      "image/png": "[encoded data removed]",
      "text/plain": [
       "<Figure size 1000x400 with 1 Axes>"
      ]
     },
     "metadata": {},
     "output_type": "display_data"
    }
   ],
   "source": [
    "# Specify a size for the plot\n",
    "fig, ax = plt.subplots(figsize=(10,4))\n",
    "\n",
    "# Use pandas to plot the with anomaly data frame.\n",
    "df_daily_jumpsup.plot(legend=False, ax=ax);"
   ]
  },
  {
   "cell_type": "markdown",
   "id": "f586aca4",
   "metadata": {},
   "source": [
    "Viewing the plot of the with anomaly dataset makes it immediately obvious where the anomaly lies as there are a series of data points that tower far above all the others on the 11th of April. Apart from that, this dataset appears to follow a similar pattern to the no anomaly dataset with a similar baseline, peak, fluctuation, and regularity. "
   ]
  },
  {
   "cell_type": "markdown",
   "id": "91dcf599",
   "metadata": {},
   "source": [
    "## Preprocessing\n",
    "\n",
    "***"
   ]
  },
  {
   "cell_type": "markdown",
   "id": "2d6189cb",
   "metadata": {},
   "source": []
  },
  {
   "cell_type": "code",
   "execution_count": 20,
   "id": "b6a16874",
   "metadata": {},
   "outputs": [
    {
     "data": {
      "text/plain": [
       "value    42.438353\n",
       "dtype: float64"
      ]
     },
     "execution_count": 20,
     "metadata": {},
     "output_type": "execute_result"
    }
   ],
   "source": [
    "# Getting the mean of the values in the no anomaly data\n",
    "train_mean = df_small_noise.mean()\n",
    "\n",
    "train_mean"
   ]
  },
  {
   "cell_type": "code",
   "execution_count": 21,
   "id": "c1729f60",
   "metadata": {},
   "outputs": [
    {
     "data": {
      "text/plain": [
       "value    28.077122\n",
       "dtype: float64"
      ]
     },
     "execution_count": 21,
     "metadata": {},
     "output_type": "execute_result"
    }
   ],
   "source": [
    "# Getting the standard deviation of the values in the no anomaly data\n",
    "train_std = df_small_noise.std()\n",
    "\n",
    "train_std"
   ]
  },
  {
   "cell_type": "markdown",
   "id": "40271f05",
   "metadata": {},
   "source": [
    "https://statisticsbyjim.com/glossary/standardization/"
   ]
  },
  {
   "cell_type": "code",
   "execution_count": 22,
   "id": "b3f00f78",
   "metadata": {},
   "outputs": [],
   "source": [
    "# Standardising the values\n",
    "df_train_vals = (df_small_noise - train_mean) / train_std"
   ]
  },
  {
   "cell_type": "markdown",
   "id": "cf678c47",
   "metadata": {},
   "source": []
  },
  {
   "cell_type": "code",
   "execution_count": 23,
   "id": "04afaa92",
   "metadata": {},
   "outputs": [
    {
     "data": {
      "text/html": [
       "<div>\n",
       "<style scoped>\n",
       "    .dataframe tbody tr th:only-of-type {\n",
       "        vertical-align: middle;\n",
       "    }\n",
       "\n",
       "    .dataframe tbody tr th {\n",
       "        vertical-align: top;\n",
       "    }\n",
       "\n",
       "    .dataframe thead th {\n",
       "        text-align: right;\n",
       "    }\n",
       "</style>\n",
       "<table border=\"1\" class=\"dataframe\">\n",
       "  <thead>\n",
       "    <tr style=\"text-align: right;\">\n",
       "      <th></th>\n",
       "      <th>value</th>\n",
       "    </tr>\n",
       "    <tr>\n",
       "      <th>timestamp</th>\n",
       "      <th></th>\n",
       "    </tr>\n",
       "  </thead>\n",
       "  <tbody>\n",
       "    <tr>\n",
       "      <th>2014-04-01 00:00:00</th>\n",
       "      <td>-0.858829</td>\n",
       "    </tr>\n",
       "    <tr>\n",
       "      <th>2014-04-01 00:05:00</th>\n",
       "      <td>-0.728993</td>\n",
       "    </tr>\n",
       "    <tr>\n",
       "      <th>2014-04-01 00:10:00</th>\n",
       "      <td>-0.848148</td>\n",
       "    </tr>\n",
       "    <tr>\n",
       "      <th>2014-04-01 00:15:00</th>\n",
       "      <td>-0.729586</td>\n",
       "    </tr>\n",
       "    <tr>\n",
       "      <th>2014-04-01 00:20:00</th>\n",
       "      <td>-0.731173</td>\n",
       "    </tr>\n",
       "  </tbody>\n",
       "</table>\n",
       "</div>"
      ],
      "text/plain": [
       "                        value\n",
       "timestamp                    \n",
       "2014-04-01 00:00:00 -0.858829\n",
       "2014-04-01 00:05:00 -0.728993\n",
       "2014-04-01 00:10:00 -0.848148\n",
       "2014-04-01 00:15:00 -0.729586\n",
       "2014-04-01 00:20:00 -0.731173"
      ]
     },
     "execution_count": 23,
     "metadata": {},
     "output_type": "execute_result"
    }
   ],
   "source": [
    "# Look at the first five entries of the standardised no anomaly data\n",
    "df_train_vals.head()"
   ]
  },
  {
   "cell_type": "markdown",
   "id": "519f032c",
   "metadata": {},
   "source": []
  },
  {
   "cell_type": "code",
   "execution_count": 24,
   "id": "f870cfd7",
   "metadata": {},
   "outputs": [
    {
     "data": {
      "text/html": [
       "<div>\n",
       "<style scoped>\n",
       "    .dataframe tbody tr th:only-of-type {\n",
       "        vertical-align: middle;\n",
       "    }\n",
       "\n",
       "    .dataframe tbody tr th {\n",
       "        vertical-align: top;\n",
       "    }\n",
       "\n",
       "    .dataframe thead th {\n",
       "        text-align: right;\n",
       "    }\n",
       "</style>\n",
       "<table border=\"1\" class=\"dataframe\">\n",
       "  <thead>\n",
       "    <tr style=\"text-align: right;\">\n",
       "      <th></th>\n",
       "      <th>value</th>\n",
       "      <th>less_mean</th>\n",
       "      <th>div_std</th>\n",
       "    </tr>\n",
       "    <tr>\n",
       "      <th>timestamp</th>\n",
       "      <th></th>\n",
       "      <th></th>\n",
       "      <th></th>\n",
       "    </tr>\n",
       "  </thead>\n",
       "  <tbody>\n",
       "    <tr>\n",
       "      <th>2014-04-01 00:00:00</th>\n",
       "      <td>18.324919</td>\n",
       "      <td>-24.113435</td>\n",
       "      <td>-0.858829</td>\n",
       "    </tr>\n",
       "    <tr>\n",
       "      <th>2014-04-01 00:05:00</th>\n",
       "      <td>21.970327</td>\n",
       "      <td>-20.468026</td>\n",
       "      <td>-0.728993</td>\n",
       "    </tr>\n",
       "    <tr>\n",
       "      <th>2014-04-01 00:10:00</th>\n",
       "      <td>18.624806</td>\n",
       "      <td>-23.813547</td>\n",
       "      <td>-0.848148</td>\n",
       "    </tr>\n",
       "    <tr>\n",
       "      <th>2014-04-01 00:15:00</th>\n",
       "      <td>21.953684</td>\n",
       "      <td>-20.484669</td>\n",
       "      <td>-0.729586</td>\n",
       "    </tr>\n",
       "    <tr>\n",
       "      <th>2014-04-01 00:20:00</th>\n",
       "      <td>21.909120</td>\n",
       "      <td>-20.529234</td>\n",
       "      <td>-0.731173</td>\n",
       "    </tr>\n",
       "    <tr>\n",
       "      <th>...</th>\n",
       "      <td>...</td>\n",
       "      <td>...</td>\n",
       "      <td>...</td>\n",
       "    </tr>\n",
       "    <tr>\n",
       "      <th>2014-04-14 23:35:00</th>\n",
       "      <td>20.211195</td>\n",
       "      <td>-22.227159</td>\n",
       "      <td>-0.791647</td>\n",
       "    </tr>\n",
       "    <tr>\n",
       "      <th>2014-04-14 23:40:00</th>\n",
       "      <td>20.531041</td>\n",
       "      <td>-21.907313</td>\n",
       "      <td>-0.780255</td>\n",
       "    </tr>\n",
       "    <tr>\n",
       "      <th>2014-04-14 23:45:00</th>\n",
       "      <td>19.032127</td>\n",
       "      <td>-23.406226</td>\n",
       "      <td>-0.833640</td>\n",
       "    </tr>\n",
       "    <tr>\n",
       "      <th>2014-04-14 23:50:00</th>\n",
       "      <td>21.798801</td>\n",
       "      <td>-20.639552</td>\n",
       "      <td>-0.735102</td>\n",
       "    </tr>\n",
       "    <tr>\n",
       "      <th>2014-04-14 23:55:00</th>\n",
       "      <td>18.682620</td>\n",
       "      <td>-23.755733</td>\n",
       "      <td>-0.846089</td>\n",
       "    </tr>\n",
       "  </tbody>\n",
       "</table>\n",
       "<p>4032 rows × 3 columns</p>\n",
       "</div>"
      ],
      "text/plain": [
       "                         value  less_mean   div_std\n",
       "timestamp                                          \n",
       "2014-04-01 00:00:00  18.324919 -24.113435 -0.858829\n",
       "2014-04-01 00:05:00  21.970327 -20.468026 -0.728993\n",
       "2014-04-01 00:10:00  18.624806 -23.813547 -0.848148\n",
       "2014-04-01 00:15:00  21.953684 -20.484669 -0.729586\n",
       "2014-04-01 00:20:00  21.909120 -20.529234 -0.731173\n",
       "...                        ...        ...       ...\n",
       "2014-04-14 23:35:00  20.211195 -22.227159 -0.791647\n",
       "2014-04-14 23:40:00  20.531041 -21.907313 -0.780255\n",
       "2014-04-14 23:45:00  19.032127 -23.406226 -0.833640\n",
       "2014-04-14 23:50:00  21.798801 -20.639552 -0.735102\n",
       "2014-04-14 23:55:00  18.682620 -23.755733 -0.846089\n",
       "\n",
       "[4032 rows x 3 columns]"
      ]
     },
     "execution_count": 24,
     "metadata": {},
     "output_type": "execute_result"
    }
   ],
   "source": [
    "# Add a column to the original no anomaly dataframe with the values of the datapoint minus the mean\n",
    "df_small_noise['less_mean'] = df_small_noise['value'] - df_small_noise['value'].mean()\n",
    "\n",
    "# Add a column to the original no anomaly dataframe with standardised values\n",
    "df_small_noise['div_std'] = df_small_noise['less_mean'] / df_small_noise['value'].std()\n",
    "\n",
    "# Show the no anomoly dataframe with the two newly added columns\n",
    "df_small_noise"
   ]
  },
  {
   "cell_type": "markdown",
   "id": "0e4caa62",
   "metadata": {},
   "source": []
  },
  {
   "cell_type": "code",
   "execution_count": 25,
   "id": "cc724f51",
   "metadata": {},
   "outputs": [
    {
     "data": {
      "text/plain": [
       "(42.438353335806646, -7.342627387941552e-14, -2.616541242931684e-15)"
      ]
     },
     "execution_count": 25,
     "metadata": {},
     "output_type": "execute_result"
    }
   ],
   "source": [
    "# View the mean of the three columns in the no anomaly data \n",
    "df_small_noise['value'].mean(), df_small_noise['less_mean'].mean(), df_small_noise['div_std'].mean()"
   ]
  },
  {
   "cell_type": "code",
   "execution_count": 26,
   "id": "c59128dd",
   "metadata": {},
   "outputs": [
    {
     "data": {
      "text/plain": [
       "(28.077122281262515, 28.077122281262508, 1.0000000000000018)"
      ]
     },
     "execution_count": 26,
     "metadata": {},
     "output_type": "execute_result"
    }
   ],
   "source": [
    "# View the standard deviation of the three columns in the no anomaly data\n",
    "df_small_noise['value'].std(), df_small_noise['less_mean'].std(), df_small_noise['div_std'].std()"
   ]
  },
  {
   "cell_type": "markdown",
   "id": "3836be19",
   "metadata": {},
   "source": []
  },
  {
   "cell_type": "code",
   "execution_count": 27,
   "id": "1b75ae24",
   "metadata": {},
   "outputs": [
    {
     "data": {
      "image/png": "[encoded data removed]",
      "text/plain": [
       "<Figure size 1000x400 with 1 Axes>"
      ]
     },
     "metadata": {},
     "output_type": "display_data"
    }
   ],
   "source": [
    "# Specify a size for the plot\n",
    "fig, ax = plt.subplots(figsize=(10,4))\n",
    "\n",
    "# Use pandas to plot the standardised no anomaly data frame.\n",
    "df_train_vals.plot(legend=False, ax=ax);"
   ]
  },
  {
   "cell_type": "markdown",
   "id": "4cd6b54f",
   "metadata": {},
   "source": []
  },
  {
   "cell_type": "code",
   "execution_count": 28,
   "id": "1072e8fd",
   "metadata": {},
   "outputs": [
    {
     "data": {
      "text/plain": [
       "(4032, 1)"
      ]
     },
     "execution_count": 28,
     "metadata": {},
     "output_type": "execute_result"
    }
   ],
   "source": [
    "# Confirming that the shape of the standardised no anomaly data is what we expect\n",
    "df_train_vals.shape"
   ]
  },
  {
   "cell_type": "markdown",
   "id": "2083d846",
   "metadata": {},
   "source": []
  },
  {
   "cell_type": "code",
   "execution_count": 29,
   "id": "8ca4efb3",
   "metadata": {},
   "outputs": [],
   "source": [
    "# Specifying the size for the windows\n",
    "window_size = 288"
   ]
  },
  {
   "cell_type": "markdown",
   "id": "974c5a52",
   "metadata": {},
   "source": []
  },
  {
   "cell_type": "markdown",
   "id": "ddf72301",
   "metadata": {},
   "source": [
    "Window example:\n",
    "\n",
    "```python\n",
    "[1, 1, 2, 4, 5, 6, 7, 1, 2, 3, 4, 5]\n",
    "window_size = 3\n",
    "[1, 1, 2]\n",
    "[1, 2, 4]\n",
    "[2, 4, 5]\n",
    "[4, 5, 6]\n",
    "...\n",
    "```"
   ]
  },
  {
   "cell_type": "markdown",
   "id": "9aac4e56",
   "metadata": {},
   "source": []
  },
  {
   "cell_type": "code",
   "execution_count": 30,
   "id": "b6bf0a69",
   "metadata": {},
   "outputs": [
    {
     "data": {
      "text/plain": [
       "12"
      ]
     },
     "execution_count": 30,
     "metadata": {},
     "output_type": "execute_result"
    }
   ],
   "source": [
    "# Window list example.\n",
    "L = [1, 1, 2, 4, 5, 6, 7, 1, 2, 3, 4, 5]\n",
    "# Example window size.\n",
    "win_size = 3\n",
    "# Length of L.\n",
    "len(L)"
   ]
  },
  {
   "cell_type": "markdown",
   "id": "b2e7fe5c",
   "metadata": {},
   "source": []
  },
  {
   "cell_type": "code",
   "execution_count": 31,
   "id": "dabb899d",
   "metadata": {},
   "outputs": [
    {
     "data": {
      "text/plain": [
       "10"
      ]
     },
     "execution_count": 31,
     "metadata": {},
     "output_type": "execute_result"
    }
   ],
   "source": [
    "# Number of windows from L.\n",
    "len(L) - (win_size - 1)"
   ]
  },
  {
   "cell_type": "code",
   "execution_count": 32,
   "id": "a45d2d41",
   "metadata": {},
   "outputs": [
    {
     "data": {
      "text/plain": [
       "10"
      ]
     },
     "execution_count": 32,
     "metadata": {},
     "output_type": "execute_result"
    }
   ],
   "source": [
    "# Remove brackets.\n",
    "len(L) - win_size + 1"
   ]
  },
  {
   "cell_type": "markdown",
   "id": "5358d988",
   "metadata": {},
   "source": []
  },
  {
   "cell_type": "code",
   "execution_count": 33,
   "id": "24f9b067",
   "metadata": {},
   "outputs": [
    {
     "name": "stdout",
     "output_type": "stream",
     "text": [
      "[1, 1, 2]\n",
      "[1, 2, 4]\n",
      "[2, 4, 5]\n",
      "[4, 5, 6]\n",
      "[5, 6, 7]\n",
      "[6, 7, 1]\n",
      "[7, 1, 2]\n",
      "[1, 2, 3]\n",
      "[2, 3, 4]\n",
      "[3, 4, 5]\n"
     ]
    }
   ],
   "source": [
    "# Print the windows.\n",
    "for i in range(len(L) - win_size + 1):\n",
    "    print(L[i:i + win_size])"
   ]
  },
  {
   "cell_type": "markdown",
   "id": "2ad1cd18",
   "metadata": {},
   "source": []
  },
  {
   "cell_type": "code",
   "execution_count": 34,
   "id": "0b218c8b",
   "metadata": {},
   "outputs": [
    {
     "data": {
      "text/plain": [
       "[[1, 1, 2],\n",
       " [1, 2, 4],\n",
       " [2, 4, 5],\n",
       " [4, 5, 6],\n",
       " [5, 6, 7],\n",
       " [6, 7, 1],\n",
       " [7, 1, 2],\n",
       " [1, 2, 3],\n",
       " [2, 3, 4],\n",
       " [3, 4, 5]]"
      ]
     },
     "execution_count": 34,
     "metadata": {},
     "output_type": "execute_result"
    }
   ],
   "source": [
    "# For accumulating the windows.\n",
    "wins = []\n",
    "\n",
    "# Generate the windows\n",
    "for i in range(len(L) - win_size + 1):\n",
    "    wins.append(L[i:i + win_size])\n",
    "\n",
    "wins"
   ]
  },
  {
   "cell_type": "markdown",
   "id": "39c17a5c",
   "metadata": {},
   "source": []
  },
  {
   "cell_type": "code",
   "execution_count": 35,
   "id": "9c23080a",
   "metadata": {},
   "outputs": [
    {
     "data": {
      "text/plain": [
       "array([[1, 1, 2],\n",
       "       [1, 2, 4],\n",
       "       [2, 4, 5],\n",
       "       [4, 5, 6],\n",
       "       [5, 6, 7],\n",
       "       [6, 7, 1],\n",
       "       [7, 1, 2],\n",
       "       [1, 2, 3],\n",
       "       [2, 3, 4],\n",
       "       [3, 4, 5]])"
      ]
     },
     "execution_count": 35,
     "metadata": {},
     "output_type": "execute_result"
    }
   ],
   "source": [
    "# Create a 2D numpy array from wins.\n",
    "np.stack(wins)"
   ]
  },
  {
   "cell_type": "markdown",
   "id": "9b00a47b",
   "metadata": {},
   "source": []
  },
  {
   "cell_type": "code",
   "execution_count": 36,
   "id": "de0623f2",
   "metadata": {},
   "outputs": [],
   "source": [
    "# Function to return windowed values of the input data\n",
    "def windows(vals, N=window_size):\n",
    "  # Create an empty list to append the windowed data to\n",
    "  L = []\n",
    "  # Iterate over the inpuit data for the length of the specified window\n",
    "  for i in range(len(vals) - N + 1):\n",
    "    # Append the input data which is the same length as the specified window\n",
    "    L.append(vals[i:i+N])\n",
    "  # Stack windows into an array\n",
    "  return np.stack(L)"
   ]
  },
  {
   "cell_type": "markdown",
   "id": "0d085203",
   "metadata": {},
   "source": []
  },
  {
   "cell_type": "code",
   "execution_count": 37,
   "id": "621c5bf5",
   "metadata": {},
   "outputs": [],
   "source": [
    "# Use the windows function on the standardised no anomaly data\n",
    "x_train = windows(df_train_vals)"
   ]
  },
  {
   "cell_type": "code",
   "execution_count": 38,
   "id": "6d7fa606",
   "metadata": {},
   "outputs": [
    {
     "data": {
      "text/plain": [
       "array([[[-0.85882857],\n",
       "        [-0.72899302],\n",
       "        [-0.84814772],\n",
       "        ...,\n",
       "        [-0.86453747],\n",
       "        [-0.81250829],\n",
       "        [-0.79671155]],\n",
       "\n",
       "       [[-0.72899302],\n",
       "        [-0.84814772],\n",
       "        [-0.72958579],\n",
       "        ...,\n",
       "        [-0.81250829],\n",
       "        [-0.79671155],\n",
       "        [-0.78767946]],\n",
       "\n",
       "       [[-0.84814772],\n",
       "        [-0.72958579],\n",
       "        [-0.731173  ],\n",
       "        ...,\n",
       "        [-0.79671155],\n",
       "        [-0.78767946],\n",
       "        [-0.73706287]],\n",
       "\n",
       "       ...,\n",
       "\n",
       "       [[-0.8226548 ],\n",
       "        [-0.86660975],\n",
       "        [-0.82181363],\n",
       "        ...,\n",
       "        [-0.79164661],\n",
       "        [-0.78025492],\n",
       "        [-0.83364049]],\n",
       "\n",
       "       [[-0.86660975],\n",
       "        [-0.82181363],\n",
       "        [-0.75595835],\n",
       "        ...,\n",
       "        [-0.78025492],\n",
       "        [-0.83364049],\n",
       "        [-0.73510213]],\n",
       "\n",
       "       [[-0.82181363],\n",
       "        [-0.75595835],\n",
       "        [-0.74256753],\n",
       "        ...,\n",
       "        [-0.83364049],\n",
       "        [-0.73510213],\n",
       "        [-0.8460886 ]]])"
      ]
     },
     "execution_count": 38,
     "metadata": {},
     "output_type": "execute_result"
    }
   ],
   "source": [
    "# View the standardised no anomaly data which is now divided into windows\n",
    "x_train"
   ]
  },
  {
   "cell_type": "markdown",
   "id": "d821e12d",
   "metadata": {},
   "source": []
  },
  {
   "cell_type": "code",
   "execution_count": 39,
   "id": "fe5fdb51",
   "metadata": {},
   "outputs": [
    {
     "data": {
      "text/plain": [
       "(array([-0.85882857]), array([-0.8460886]))"
      ]
     },
     "execution_count": 39,
     "metadata": {},
     "output_type": "execute_result"
    }
   ],
   "source": [
    "# Check the first and last entry\n",
    "x_train[0][0], x_train[-1][-1]"
   ]
  },
  {
   "cell_type": "code",
   "execution_count": 40,
   "id": "9ea671b2",
   "metadata": {},
   "outputs": [
    {
     "data": {
      "text/plain": [
       "(value   -0.858829\n",
       " Name: 2014-04-01 00:00:00, dtype: float64,\n",
       " value   -0.846089\n",
       " Name: 2014-04-14 23:55:00, dtype: float64)"
      ]
     },
     "execution_count": 40,
     "metadata": {},
     "output_type": "execute_result"
    }
   ],
   "source": [
    "# Extra detail about the first and last entry\n",
    "df_train_vals.iloc[0], df_train_vals.iloc[-1]"
   ]
  },
  {
   "cell_type": "markdown",
   "id": "996fd91e",
   "metadata": {},
   "source": []
  },
  {
   "cell_type": "code",
   "execution_count": 41,
   "id": "d2262c7b",
   "metadata": {},
   "outputs": [
    {
     "data": {
      "text/plain": [
       "(3745, 288, 1)"
      ]
     },
     "execution_count": 41,
     "metadata": {},
     "output_type": "execute_result"
    }
   ],
   "source": [
    "# Confirming the shape of the windowed no anomaly data\n",
    "x_train.shape"
   ]
  },
  {
   "cell_type": "code",
   "execution_count": 42,
   "id": "abfb8956",
   "metadata": {},
   "outputs": [
    {
     "data": {
      "text/plain": [
       "array([-0.85882857, -0.72899302, -0.84814772, ..., -0.83364049,\n",
       "       -0.73510213, -0.8460886 ])"
      ]
     },
     "execution_count": 42,
     "metadata": {},
     "output_type": "execute_result"
    }
   ],
   "source": [
    "# Check some of the original standardised no anomaly data to see if they match the windowed data\n",
    "df_train_vals['value'].values"
   ]
  },
  {
   "cell_type": "markdown",
   "id": "3b082e20",
   "metadata": {},
   "source": []
  },
  {
   "cell_type": "code",
   "execution_count": 43,
   "id": "c465410b",
   "metadata": {},
   "outputs": [
    {
     "data": {
      "text/plain": [
       "array([-0.85882857, -0.72899302, -0.84814772, -0.72958579, -0.731173  ,\n",
       "       -0.75730984, -0.77645641, -0.7880838 , -0.747012  , -0.829166  ,\n",
       "       -0.80377285, -0.7821597 , -0.81182078, -0.80949918, -0.82334701,\n",
       "       -0.79001779, -0.74922405, -0.84169024, -0.73727717, -0.77223023,\n",
       "       -0.75311352, -0.79116337, -0.75934728, -0.86809294, -0.75381057,\n",
       "       -0.86468256, -0.74361965, -0.72908121, -0.82850668, -0.84043795,\n",
       "       -0.76136364, -0.8343536 , -0.74708881, -0.85574949, -0.85245676,\n",
       "       -0.73090636, -0.77440264, -0.74974936, -0.82419543, -0.77402585,\n",
       "       -0.78574242, -0.7844733 , -0.77316412, -0.78843253, -0.80927467,\n",
       "       -0.83109167, -0.76090519, -0.83816509, -0.77176485, -0.83715923,\n",
       "       -0.78131343, -0.76396862, -0.83924191, -0.86186112, -0.85174179,\n",
       "       -0.78406773, -0.74938477, -0.86399047, -0.76581026, -0.82177506,\n",
       "       -0.80222751, -0.73807119, -0.82310669, -0.80410682, -0.86845167,\n",
       "       -0.85877599, -0.83356075, -0.86643297, -0.78045221, -0.8096542 ,\n",
       "       -0.79230956, -0.84551986, -0.82824105, -0.77582935, -0.73287933,\n",
       "       -0.86321832, -0.74355256, -0.7882157 , -0.79006227, -0.79912888,\n",
       "       -0.86051472, -0.85759665, -0.78479216, -0.82182635, -0.73972257,\n",
       "       -0.81247611, -0.84998837, -0.76857869, -0.82860841, -0.79553994,\n",
       "       -0.77098436, -0.74214503, -0.75754161, -0.77404332, -0.77357716,\n",
       "       -0.73564002, -0.82825643, -0.8702425 , -0.83165699, -0.83935909,\n",
       "       -0.77611284, -0.78011937, -0.78585361, -0.86808681, -0.76657575,\n",
       "       -0.82430925, -0.7756539 , -0.79110813,  0.83423034,  0.73340436,\n",
       "        0.71395293,  1.07098925,  1.11307181,  0.98296271,  0.71831972,\n",
       "        0.86295228,  1.02130195,  1.04594803,  0.72548104,  0.66823317,\n",
       "        1.36958529,  1.17305538,  1.11661005,  0.98307138,  1.27459976,\n",
       "        1.44642694,  1.50528567,  1.28866513,  1.26031743,  1.02295817,\n",
       "        1.27933882,  1.18598059,  1.3813925 ,  1.25767699,  1.1736019 ,\n",
       "        1.09127902,  1.21586925,  1.09223039,  1.13768838,  1.59675342,\n",
       "        1.28904484,  1.33876025,  1.53233922,  1.60141677,  1.38146244,\n",
       "        1.51223576,  1.23588256,  1.22381772,  1.2790048 ,  1.43257027,\n",
       "        1.43808241,  1.22922231,  1.12561563,  1.40974009,  1.12283575,\n",
       "        1.37905941,  1.44731563,  1.45141157,  1.48152744,  1.54954504,\n",
       "        1.33709539,  1.46829683,  1.4050141 ,  1.15859057,  1.06689361,\n",
       "        1.21436719,  1.30466379,  1.40383661,  1.53708371,  1.16457702,\n",
       "        1.12429225,  1.60177134,  1.11431721,  1.32540935,  1.38642273,\n",
       "        1.36124227,  1.10177385,  1.08524575,  1.1128578 ,  1.38643638,\n",
       "        1.36304532,  1.18604649,  1.41628631,  1.52016681,  1.07654239,\n",
       "        1.33670957,  1.44565443,  1.19662931,  1.22823281,  1.40253218,\n",
       "        1.56454005,  1.51438674,  1.38516952,  1.46899077,  1.26076513,\n",
       "        1.41812743,  1.31852542,  1.16110478,  1.45275926,  1.36997393,\n",
       "        1.25723151,  1.57220199,  1.06479764,  1.23281399,  1.08528647,\n",
       "        1.48968441,  1.45297419,  1.24169607,  1.43790453,  1.2785004 ,\n",
       "        1.48382995,  1.31169265,  1.28781332,  1.58553613,  1.19583776,\n",
       "        1.12151008, -0.35250349, -0.26479567, -0.39962031, -0.47160544,\n",
       "       -0.40840388, -0.37042247, -0.44883702, -0.33573617, -0.25831579,\n",
       "       -0.38277522, -0.40488824, -0.39440839, -0.77509723, -0.65253443,\n",
       "       -0.72728022, -0.73167631, -0.6882095 , -0.72293893, -0.69003755,\n",
       "       -0.78366561, -0.6636319 , -0.64340272, -0.68995268, -0.64115899,\n",
       "       -0.83292321, -0.78536741, -0.76722084, -0.77014874, -0.79644794,\n",
       "       -0.80569367, -0.83651316, -0.79786583, -0.83128515, -0.74788262,\n",
       "       -0.82454968, -0.84647101, -0.78825327, -0.78211741, -0.74251058,\n",
       "       -0.7847296 , -0.8178686 , -0.75237369, -0.78998354, -0.85597483,\n",
       "       -0.78632299, -0.73734213, -0.81059211, -0.82490508, -0.84932652,\n",
       "       -0.84818912, -0.80807162, -0.78484064, -0.8582896 , -0.73580158,\n",
       "       -0.76210229, -0.78613203, -0.75164888, -0.85835073, -0.80178754,\n",
       "       -0.77993325, -0.75220135, -0.75863962, -0.83079766, -0.73620985,\n",
       "       -0.85255954, -0.74557822, -0.73192653, -0.84503486, -0.76738913,\n",
       "       -0.86453747, -0.81250829, -0.79671155])"
      ]
     },
     "execution_count": 43,
     "metadata": {},
     "output_type": "execute_result"
    }
   ],
   "source": [
    "# Flatten and view the data points in the first window \n",
    "x_train[0].flatten()"
   ]
  },
  {
   "cell_type": "markdown",
   "id": "b250f357",
   "metadata": {},
   "source": []
  },
  {
   "cell_type": "code",
   "execution_count": 44,
   "id": "03e9942c",
   "metadata": {},
   "outputs": [
    {
     "data": {
      "image/png": "[encoded data removed]",
      "text/plain": [
       "<Figure size 1200x600 with 1 Axes>"
      ]
     },
     "metadata": {},
     "output_type": "display_data"
    }
   ],
   "source": [
    "# Select the 250th window\n",
    "window_no = 250\n",
    "\n",
    "# Specify a size for the plot\n",
    "fig, ax = plt.subplots(figsize=(12, 6))\n",
    "\n",
    "# Get the standardised no anomaly data\n",
    "y = df_train_vals['value'].values\n",
    "\n",
    "# Plot the standardised no anomaly data\n",
    "ax.plot(np.arange(y.shape[0]), y, label='signal')\n",
    "\n",
    "# Get the values contained in the window number specified earlier\n",
    "# Flattened to be able to plot them\n",
    "w = x_train[window_no].flatten()\n",
    "\n",
    "# Plot the data from the window specified on top of the standardised no anomaly plot \n",
    "ax.plot(np.arange(w.shape[0]) + window_no, w, label='window')\n",
    "ax.legend();"
   ]
  },
  {
   "cell_type": "markdown",
   "id": "a739488b",
   "metadata": {},
   "source": []
  },
  {
   "cell_type": "markdown",
   "id": "2cd4728f",
   "metadata": {},
   "source": [
    "## Neural Network\n",
    "\n",
    "***"
   ]
  },
  {
   "cell_type": "markdown",
   "id": "6321b4b1",
   "metadata": {},
   "source": []
  },
  {
   "cell_type": "code",
   "execution_count": 45,
   "id": "35d4ce2b",
   "metadata": {},
   "outputs": [
    {
     "data": {
      "text/plain": [
       "(3745, 288, 1)"
      ]
     },
     "execution_count": 45,
     "metadata": {},
     "output_type": "execute_result"
    }
   ],
   "source": [
    "# Confirming the shape of the windowed no anomaly data\n",
    "x_train.shape"
   ]
  },
  {
   "cell_type": "markdown",
   "id": "e965f915",
   "metadata": {},
   "source": []
  },
  {
   "cell_type": "code",
   "execution_count": null,
   "id": "1e6e8eb4-c04f-45ca-a4d3-99fafd78a6e8",
   "metadata": {},
   "outputs": [],
   "source": []
  },
  {
   "cell_type": "code",
   "execution_count": 46,
   "id": "f0f50316",
   "metadata": {},
   "outputs": [],
   "source": [
    "# Defining the layers for the model\n",
    "layers = [\n",
    "  # Shape of the input\n",
    "  keras.layers.Input(shape=(x_train.shape[1], x_train.shape[2])),\n",
    "  # Apply 1d convolutional filters \n",
    "  keras.layers.Conv1D(\n",
    "    filters=32, kernel_size=7, padding=\"same\", strides=2, activation=\"relu\"),\n",
    "  # Define the dropout rate to prevent overfitting\n",
    "  keras.layers.Dropout(rate=0.2),\n",
    "  # Apply 1d convolutional filters\n",
    "  keras.layers.Conv1D(\n",
    "    filters=16, kernel_size=7, padding=\"same\", strides=2, activation=\"relu\"),\n",
    "  # Apply transposed 1D convolution/deconvolution\n",
    "  keras.layers.Conv1DTranspose(\n",
    "    filters=16, kernel_size=7, padding=\"same\", strides=2, activation=\"relu\"),\n",
    "  # Define the dropout rate to prevent overfitting\n",
    "  keras.layers.Dropout(rate=0.2),\n",
    "  # Apply transposed 1D convolution/deconvolution\n",
    "  keras.layers.Conv1DTranspose(\n",
    "    filters=32, kernel_size=7, padding=\"same\", strides=2, activation=\"relu\"),\n",
    "  # Apply transposed 1D convolution/deconvolution\n",
    "  keras.layers.Conv1DTranspose(filters=1, kernel_size=7, padding=\"same\"),\n",
    "]"
   ]
  },
  {
   "cell_type": "markdown",
   "id": "45269606",
   "metadata": {},
   "source": []
  },
  {
   "cell_type": "code",
   "execution_count": 47,
   "id": "462ca0cf",
   "metadata": {},
   "outputs": [],
   "source": [
    "# Add the layers to sequential model\n",
    "model = keras.Sequential(layers)"
   ]
  },
  {
   "cell_type": "markdown",
   "id": "3c659949",
   "metadata": {},
   "source": []
  },
  {
   "cell_type": "code",
   "execution_count": 48,
   "id": "346b97f8",
   "metadata": {},
   "outputs": [],
   "source": [
    "# Specify the optimization algorithm to use during training\n",
    "optimizer = keras.optimizers.Adam(learning_rate=0.001)"
   ]
  },
  {
   "cell_type": "markdown",
   "id": "57ec572a",
   "metadata": {},
   "source": []
  },
  {
   "cell_type": "code",
   "execution_count": 49,
   "id": "0e28b55c",
   "metadata": {},
   "outputs": [],
   "source": [
    "# Compile the model for training\n",
    "model.compile(optimizer=optimizer, loss=\"mse\")"
   ]
  },
  {
   "cell_type": "markdown",
   "id": "baecde23",
   "metadata": {},
   "source": []
  },
  {
   "cell_type": "code",
   "execution_count": 50,
   "id": "ffb83ee9",
   "metadata": {},
   "outputs": [
    {
     "name": "stdout",
     "output_type": "stream",
     "text": [
      "Model: \"sequential\"\n",
      "_________________________________________________________________\n",
      "Layer (type)                 Output Shape              Param #   \n",
      "=================================================================\n",
      "conv1d (Conv1D)              (None, 144, 32)           256       \n",
      "_________________________________________________________________\n",
      "dropout (Dropout)            (None, 144, 32)           0         \n",
      "_________________________________________________________________\n",
      "conv1d_1 (Conv1D)            (None, 72, 16)            3600      \n",
      "_________________________________________________________________\n",
      "conv1d_transpose (Conv1DTran (None, 144, 16)           1808      \n",
      "_________________________________________________________________\n",
      "dropout_1 (Dropout)          (None, 144, 16)           0         \n",
      "_________________________________________________________________\n",
      "conv1d_transpose_1 (Conv1DTr (None, 288, 32)           3616      \n",
      "_________________________________________________________________\n",
      "conv1d_transpose_2 (Conv1DTr (None, 288, 1)            225       \n",
      "=================================================================\n",
      "Total params: 9,505\n",
      "Trainable params: 9,505\n",
      "Non-trainable params: 0\n",
      "_________________________________________________________________\n"
     ]
    }
   ],
   "source": [
    "# Provide a summary of the model\n",
    "model.summary()"
   ]
  },
  {
   "cell_type": "markdown",
   "id": "a9696218",
   "metadata": {},
   "source": []
  },
  {
   "cell_type": "code",
   "execution_count": 51,
   "id": "3d6a6f6a",
   "metadata": {},
   "outputs": [
    {
     "name": "stdout",
     "output_type": "stream",
     "text": [
      "Epoch 1/50\n",
      "27/27 [==============================] - 3s 105ms/step - loss: 0.6297 - val_loss: 0.3544\n",
      "Epoch 2/50\n",
      "27/27 [==============================] - 2s 76ms/step - loss: 0.1631 - val_loss: 0.0574\n",
      "Epoch 3/50\n",
      "27/27 [==============================] - 2s 74ms/step - loss: 0.0613 - val_loss: 0.0404\n",
      "Epoch 4/50\n",
      "27/27 [==============================] - 2s 76ms/step - loss: 0.0502 - val_loss: 0.0324\n",
      "Epoch 5/50\n",
      "27/27 [==============================] - 2s 77ms/step - loss: 0.0430 - val_loss: 0.0288\n",
      "Epoch 6/50\n",
      "27/27 [==============================] - 2s 77ms/step - loss: 0.0367 - val_loss: 0.0268\n",
      "Epoch 7/50\n",
      "27/27 [==============================] - 2s 80ms/step - loss: 0.0325 - val_loss: 0.0271\n",
      "Epoch 8/50\n",
      "27/27 [==============================] - 2s 80ms/step - loss: 0.0298 - val_loss: 0.0279\n",
      "Epoch 9/50\n",
      "27/27 [==============================] - 2s 77ms/step - loss: 0.0275 - val_loss: 0.0264\n",
      "Epoch 10/50\n",
      "27/27 [==============================] - 2s 79ms/step - loss: 0.0256 - val_loss: 0.0266\n",
      "Epoch 11/50\n",
      "27/27 [==============================] - 2s 80ms/step - loss: 0.0241 - val_loss: 0.0243\n",
      "Epoch 12/50\n",
      "27/27 [==============================] - 2s 80ms/step - loss: 0.0228 - val_loss: 0.0256\n",
      "Epoch 13/50\n",
      "27/27 [==============================] - 2s 78ms/step - loss: 0.0215 - val_loss: 0.0242\n",
      "Epoch 14/50\n",
      "27/27 [==============================] - 2s 79ms/step - loss: 0.0203 - val_loss: 0.0202\n",
      "Epoch 15/50\n",
      "27/27 [==============================] - 2s 79ms/step - loss: 0.0195 - val_loss: 0.0219\n",
      "Epoch 16/50\n",
      "27/27 [==============================] - 2s 79ms/step - loss: 0.0186 - val_loss: 0.0205\n",
      "Epoch 17/50\n",
      "27/27 [==============================] - 2s 75ms/step - loss: 0.0178 - val_loss: 0.0204\n",
      "Epoch 18/50\n",
      "27/27 [==============================] - 2s 78ms/step - loss: 0.0172 - val_loss: 0.0170\n",
      "Epoch 19/50\n",
      "27/27 [==============================] - 2s 81ms/step - loss: 0.0165 - val_loss: 0.0165\n",
      "Epoch 20/50\n",
      "27/27 [==============================] - 2s 78ms/step - loss: 0.0156 - val_loss: 0.0158\n",
      "Epoch 21/50\n",
      "27/27 [==============================] - 2s 78ms/step - loss: 0.0150 - val_loss: 0.0154\n",
      "Epoch 22/50\n",
      "27/27 [==============================] - 2s 76ms/step - loss: 0.0143 - val_loss: 0.0135\n",
      "Epoch 23/50\n",
      "27/27 [==============================] - 2s 75ms/step - loss: 0.0137 - val_loss: 0.0120\n",
      "Epoch 24/50\n",
      "27/27 [==============================] - 2s 81ms/step - loss: 0.0130 - val_loss: 0.0112\n",
      "Epoch 25/50\n",
      "27/27 [==============================] - 2s 78ms/step - loss: 0.0123 - val_loss: 0.0106\n",
      "Epoch 26/50\n",
      "27/27 [==============================] - 2s 78ms/step - loss: 0.0117 - val_loss: 0.0096\n",
      "Epoch 27/50\n",
      "27/27 [==============================] - 2s 81ms/step - loss: 0.0111 - val_loss: 0.0087\n",
      "Epoch 28/50\n",
      "27/27 [==============================] - 2s 77ms/step - loss: 0.0106 - val_loss: 0.0085\n",
      "Epoch 29/50\n",
      "27/27 [==============================] - 2s 78ms/step - loss: 0.0102 - val_loss: 0.0082\n",
      "Epoch 30/50\n",
      "27/27 [==============================] - 2s 80ms/step - loss: 0.0099 - val_loss: 0.0077\n",
      "Epoch 31/50\n",
      "27/27 [==============================] - 2s 79ms/step - loss: 0.0095 - val_loss: 0.0069\n",
      "Epoch 32/50\n",
      "27/27 [==============================] - 2s 79ms/step - loss: 0.0092 - val_loss: 0.0064\n",
      "Epoch 33/50\n",
      "27/27 [==============================] - 2s 77ms/step - loss: 0.0089 - val_loss: 0.0061\n",
      "Epoch 34/50\n",
      "27/27 [==============================] - 2s 73ms/step - loss: 0.0086 - val_loss: 0.0059\n",
      "Epoch 35/50\n",
      "27/27 [==============================] - 2s 72ms/step - loss: 0.0084 - val_loss: 0.0057\n",
      "Epoch 36/50\n",
      "27/27 [==============================] - 2s 77ms/step - loss: 0.0081 - val_loss: 0.0054\n",
      "Epoch 37/50\n",
      "27/27 [==============================] - 2s 80ms/step - loss: 0.0079 - val_loss: 0.0051\n",
      "Epoch 38/50\n",
      "27/27 [==============================] - 2s 78ms/step - loss: 0.0078 - val_loss: 0.0050\n",
      "Epoch 39/50\n",
      "27/27 [==============================] - 2s 81ms/step - loss: 0.0076 - val_loss: 0.0048\n",
      "Epoch 40/50\n",
      "27/27 [==============================] - 2s 78ms/step - loss: 0.0074 - val_loss: 0.0047\n",
      "Epoch 41/50\n",
      "27/27 [==============================] - 2s 74ms/step - loss: 0.0073 - val_loss: 0.0047\n",
      "Epoch 42/50\n",
      "27/27 [==============================] - 2s 75ms/step - loss: 0.0072 - val_loss: 0.0044\n",
      "Epoch 43/50\n",
      "27/27 [==============================] - 2s 79ms/step - loss: 0.0071 - val_loss: 0.0044\n",
      "Epoch 44/50\n",
      "27/27 [==============================] - 2s 76ms/step - loss: 0.0069 - val_loss: 0.0043\n",
      "Epoch 45/50\n",
      "27/27 [==============================] - 2s 77ms/step - loss: 0.0069 - val_loss: 0.0043\n",
      "Epoch 46/50\n",
      "27/27 [==============================] - 2s 79ms/step - loss: 0.0068 - val_loss: 0.0041\n",
      "Epoch 47/50\n",
      "27/27 [==============================] - 2s 77ms/step - loss: 0.0067 - val_loss: 0.0042\n",
      "Epoch 48/50\n",
      "27/27 [==============================] - 2s 77ms/step - loss: 0.0065 - val_loss: 0.0041\n",
      "Epoch 49/50\n",
      "27/27 [==============================] - 2s 79ms/step - loss: 0.0065 - val_loss: 0.0040\n",
      "Epoch 50/50\n",
      "27/27 [==============================] - 2s 79ms/step - loss: 0.0064 - val_loss: 0.0040\n"
     ]
    }
   ],
   "source": [
    "# Train the model\n",
    "history = model.fit(\n",
    "    x_train,\n",
    "    x_train,\n",
    "    epochs=50,\n",
    "    batch_size=128,\n",
    "    validation_split=0.1,\n",
    "    callbacks=[\n",
    "        keras.callbacks.EarlyStopping(monitor=\"val_loss\", patience=5, mode=\"min\")\n",
    "    ],\n",
    ")"
   ]
  },
  {
   "cell_type": "markdown",
   "id": "1158fa19",
   "metadata": {},
   "source": []
  },
  {
   "cell_type": "markdown",
   "id": "60c2794b",
   "metadata": {},
   "source": [
    "## Evaluation\n",
    "\n",
    "***"
   ]
  },
  {
   "cell_type": "markdown",
   "id": "3f548c04",
   "metadata": {},
   "source": []
  },
  {
   "cell_type": "code",
   "execution_count": null,
   "id": "495facf9-4463-48ae-b6d4-15db54f9a81c",
   "metadata": {},
   "outputs": [],
   "source": []
  },
  {
   "cell_type": "code",
   "execution_count": 52,
   "id": "447b5a20",
   "metadata": {},
   "outputs": [
    {
     "data": {
      "text/plain": [
       "[0.6296578645706177,\n",
       " 0.16307608783245087,\n",
       " 0.061267364770174026,\n",
       " 0.05023401975631714,\n",
       " 0.043044716119766235,\n",
       " 0.03671189770102501,\n",
       " 0.032491285353899,\n",
       " 0.029773809015750885,\n",
       " 0.027524137869477272,\n",
       " 0.025646302849054337,\n",
       " 0.024127289652824402,\n",
       " 0.022754857316613197,\n",
       " 0.02146492339670658,\n",
       " 0.020335868000984192,\n",
       " 0.019461464136838913,\n",
       " 0.018641121685504913,\n",
       " 0.01781972497701645,\n",
       " 0.017170580103993416,\n",
       " 0.016464756801724434,\n",
       " 0.01563587225973606,\n",
       " 0.01501504983752966,\n",
       " 0.014344409108161926,\n",
       " 0.013667319901287556,\n",
       " 0.012954795733094215,\n",
       " 0.012254335917532444,\n",
       " 0.011709745042026043,\n",
       " 0.011103322729468346,\n",
       " 0.010613490827381611,\n",
       " 0.010215149261057377,\n",
       " 0.009861304424703121,\n",
       " 0.009525652974843979,\n",
       " 0.009181683883070946,\n",
       " 0.008919982239603996,\n",
       " 0.008631262928247452,\n",
       " 0.008369230665266514,\n",
       " 0.008128020912408829,\n",
       " 0.00794034544378519,\n",
       " 0.00778412539511919,\n",
       " 0.007582052145153284,\n",
       " 0.0074469647370278835,\n",
       " 0.007301392033696175,\n",
       " 0.0072143725119531155,\n",
       " 0.0070960866287350655,\n",
       " 0.006946776993572712,\n",
       " 0.00687383022159338,\n",
       " 0.006775259505957365,\n",
       " 0.00667185615748167,\n",
       " 0.006547722965478897,\n",
       " 0.006493797060102224,\n",
       " 0.006413449067622423]"
      ]
     },
     "execution_count": 52,
     "metadata": {},
     "output_type": "execute_result"
    }
   ],
   "source": [
    "# Show the loss values for each epoch\n",
    "history.history[\"loss\"]"
   ]
  },
  {
   "cell_type": "markdown",
   "id": "3e22c97e",
   "metadata": {},
   "source": []
  },
  {
   "cell_type": "code",
   "execution_count": 53,
   "id": "1fdb5839",
   "metadata": {},
   "outputs": [
    {
     "data": {
      "text/plain": [
       "[0.35435351729393005,\n",
       " 0.057373467832803726,\n",
       " 0.04036848619580269,\n",
       " 0.032360948622226715,\n",
       " 0.028826070949435234,\n",
       " 0.026811126619577408,\n",
       " 0.027120471000671387,\n",
       " 0.02793029509484768,\n",
       " 0.02644728124141693,\n",
       " 0.026643643155694008,\n",
       " 0.024288412183523178,\n",
       " 0.02556067332625389,\n",
       " 0.024217113852500916,\n",
       " 0.02016441337764263,\n",
       " 0.021863814443349838,\n",
       " 0.020544428378343582,\n",
       " 0.020360078662633896,\n",
       " 0.017030224204063416,\n",
       " 0.016475379467010498,\n",
       " 0.015755323693156242,\n",
       " 0.015397339127957821,\n",
       " 0.013475008308887482,\n",
       " 0.012015772052109241,\n",
       " 0.011224332265555859,\n",
       " 0.010580770671367645,\n",
       " 0.00955228041857481,\n",
       " 0.0087267542257905,\n",
       " 0.00847191084176302,\n",
       " 0.008220885880291462,\n",
       " 0.007652794010937214,\n",
       " 0.006930424831807613,\n",
       " 0.006376473233103752,\n",
       " 0.006060014013200998,\n",
       " 0.005872680805623531,\n",
       " 0.005651193205267191,\n",
       " 0.005439796485006809,\n",
       " 0.005139835178852081,\n",
       " 0.005032030865550041,\n",
       " 0.004844412207603455,\n",
       " 0.004742458462715149,\n",
       " 0.004684532061219215,\n",
       " 0.0044433618895709515,\n",
       " 0.00439255777746439,\n",
       " 0.004295582417398691,\n",
       " 0.004328540060669184,\n",
       " 0.004121309146285057,\n",
       " 0.00417786231264472,\n",
       " 0.004106099251657724,\n",
       " 0.00398385152220726,\n",
       " 0.003990625962615013]"
      ]
     },
     "execution_count": 53,
     "metadata": {},
     "output_type": "execute_result"
    }
   ],
   "source": [
    "# Show the validation loss value for each epoch\n",
    "history.history[\"val_loss\"]"
   ]
  },
  {
   "cell_type": "markdown",
   "id": "2656dc4c",
   "metadata": {},
   "source": [
    "Difference between loss and validation loss - https://datascience.stackexchange.com/questions/25267/keras-difference-beetween-val-loss-and-loss-during-training"
   ]
  },
  {
   "cell_type": "code",
   "execution_count": 54,
   "id": "0916701e",
   "metadata": {},
   "outputs": [
    {
     "data": {
      "image/png": "[encoded data removed]",
      "text/plain": [
       "<Figure size 1000x600 with 1 Axes>"
      ]
     },
     "metadata": {},
     "output_type": "display_data"
    }
   ],
   "source": [
    "# Specify a size for the plot\n",
    "fig, ax = plt.subplots(figsize=(10, 6))\n",
    "# Plot the training loss values\n",
    "ax.plot(history.history[\"loss\"], label=\"Training Loss\")\n",
    "# Plot the validation loss values\n",
    "ax.plot(history.history[\"val_loss\"], label=\"Validation Loss\")\n",
    "# Add legend to plot\n",
    "ax.legend();"
   ]
  },
  {
   "cell_type": "markdown",
   "id": "3ebdd330",
   "metadata": {},
   "source": []
  },
  {
   "cell_type": "code",
   "execution_count": 55,
   "id": "dbed6b42",
   "metadata": {},
   "outputs": [],
   "source": [
    "# Get train MAE loss.\n",
    "x_train_pred = model.predict(x_train)"
   ]
  },
  {
   "cell_type": "markdown",
   "id": "625db4ab",
   "metadata": {},
   "source": []
  },
  {
   "cell_type": "code",
   "execution_count": 56,
   "id": "36c9917a",
   "metadata": {},
   "outputs": [],
   "source": [
    "# Calculate loss...\n",
    "train_mae_loss = np.mean(np.abs(x_train_pred - x_train), axis=1)"
   ]
  },
  {
   "cell_type": "markdown",
   "id": "d35b982f",
   "metadata": {},
   "source": []
  },
  {
   "cell_type": "code",
   "execution_count": 57,
   "id": "199ba109",
   "metadata": {},
   "outputs": [
    {
     "data": {
      "image/png": "[encoded data removed]",
      "text/plain": [
       "<Figure size 1000x600 with 1 Axes>"
      ]
     },
     "metadata": {},
     "output_type": "display_data"
    }
   ],
   "source": [
    "# Specify a size for the plot\n",
    "fig, ax = plt.subplots(figsize=(10, 6))\n",
    "# Plot a histogram of MAE values\n",
    "ax.hist(train_mae_loss, bins=50)\n",
    "# Label for x-axis\n",
    "ax.set_xlabel(\"Train MAE loss\")\n",
    "# Label for y-axis\n",
    "ax.set_ylabel(\"No of samples\");"
   ]
  },
  {
   "cell_type": "markdown",
   "id": "ca332dce",
   "metadata": {},
   "source": []
  },
  {
   "cell_type": "code",
   "execution_count": 58,
   "id": "1d9b2a60",
   "metadata": {},
   "outputs": [
    {
     "data": {
      "text/plain": [
       "0.05800604828594738"
      ]
     },
     "execution_count": 58,
     "metadata": {},
     "output_type": "execute_result"
    }
   ],
   "source": [
    "# Get reconstruction loss threshold.\n",
    "threshold = np.max(train_mae_loss)\n",
    "\n",
    "# Show threshold value\n",
    "threshold"
   ]
  },
  {
   "cell_type": "markdown",
   "id": "d884b90a",
   "metadata": {},
   "source": []
  },
  {
   "cell_type": "code",
   "execution_count": 59,
   "id": "0b21121b",
   "metadata": {},
   "outputs": [
    {
     "data": {
      "image/png": "[encoded data removed]",
      "text/plain": [
       "<Figure size 1000x600 with 1 Axes>"
      ]
     },
     "metadata": {},
     "output_type": "display_data"
    }
   ],
   "source": [
    "# Specify a size for the plot\n",
    "fig, ax = plt.subplots(figsize=(10, 6))\n",
    "\n",
    "# Plot the first window of the training data\n",
    "ax.plot(x_train[0])\n",
    "\n",
    "# Plot the first window of the predicted data\n",
    "ax.plot(x_train_pred[0]);"
   ]
  },
  {
   "cell_type": "markdown",
   "id": "b5c8d4ea",
   "metadata": {},
   "source": []
  },
  {
   "cell_type": "code",
   "execution_count": 60,
   "id": "70433abd",
   "metadata": {},
   "outputs": [],
   "source": [
    "# Standardise the test data which is the with anomaly dataset \n",
    "df_test_value = (df_daily_jumpsup - train_mean) / train_std"
   ]
  },
  {
   "cell_type": "markdown",
   "id": "aae91c6e",
   "metadata": {},
   "source": [
    "Why to use the training mean and std to standardise test data - https://stats.stackexchange.com/questions/202287/why-standardization-of-the-testing-set-has-to-be-performed-with-the-mean-and-sd"
   ]
  },
  {
   "cell_type": "code",
   "execution_count": 61,
   "id": "03da02c7",
   "metadata": {},
   "outputs": [
    {
     "data": {
      "image/png": "[encoded data removed]",
      "text/plain": [
       "<Figure size 1000x600 with 1 Axes>"
      ]
     },
     "metadata": {},
     "output_type": "display_data"
    }
   ],
   "source": [
    "# Specify a size for the plot\n",
    "fig, ax = plt.subplots(figsize=(10, 6))\n",
    "\n",
    "# Plot the standardised test data\n",
    "df_test_value.plot(legend=False, ax=ax);"
   ]
  },
  {
   "cell_type": "markdown",
   "id": "e4eea2f8",
   "metadata": {},
   "source": []
  },
  {
   "cell_type": "code",
   "execution_count": 62,
   "id": "a998721f",
   "metadata": {},
   "outputs": [
    {
     "data": {
      "text/plain": [
       "(3745, 288, 1)"
      ]
     },
     "execution_count": 62,
     "metadata": {},
     "output_type": "execute_result"
    }
   ],
   "source": [
    "# Create sequences from test values.\n",
    "x_test = windows(df_test_value.values)\n",
    "\n",
    "# Show shape of test sequences\n",
    "x_test.shape"
   ]
  },
  {
   "cell_type": "markdown",
   "id": "c46d16e2",
   "metadata": {},
   "source": []
  },
  {
   "cell_type": "code",
   "execution_count": 63,
   "id": "b9468441",
   "metadata": {},
   "outputs": [],
   "source": [
    "# Use the model to reconstruct the test data to calculate MAE loss\n",
    "x_test_pred = model.predict(x_test)"
   ]
  },
  {
   "cell_type": "markdown",
   "id": "6c52aae0",
   "metadata": {},
   "source": []
  },
  {
   "cell_type": "code",
   "execution_count": 64,
   "id": "d6db22d5",
   "metadata": {},
   "outputs": [
    {
     "data": {
      "text/plain": [
       "array([[0.04711218],\n",
       "       [0.04649361],\n",
       "       [0.04603166],\n",
       "       ...,\n",
       "       [0.04920471],\n",
       "       [0.04835057],\n",
       "       [0.04805788]])"
      ]
     },
     "execution_count": 64,
     "metadata": {},
     "output_type": "execute_result"
    }
   ],
   "source": [
    "# Calculate test MAE loss\n",
    "test_mae_loss = np.mean(np.abs(x_test_pred - x_test), axis=1)\n",
    "\n",
    "# View test MAE loss\n",
    "test_mae_loss"
   ]
  },
  {
   "cell_type": "code",
   "execution_count": 65,
   "id": "023512cd",
   "metadata": {},
   "outputs": [
    {
     "data": {
      "text/plain": [
       "array([0.04711218, 0.04649361, 0.04603166, ..., 0.04920471, 0.04835057,\n",
       "       0.04805788])"
      ]
     },
     "execution_count": 65,
     "metadata": {},
     "output_type": "execute_result"
    }
   ],
   "source": [
    "# Reshape test MAE loss to a 1d array\n",
    "test_mae_loss = test_mae_loss.reshape((-1))\n",
    "\n",
    "# View reshaped test MAE loss\n",
    "test_mae_loss"
   ]
  },
  {
   "cell_type": "markdown",
   "id": "bc5a71a2",
   "metadata": {},
   "source": []
  },
  {
   "cell_type": "code",
   "execution_count": 66,
   "id": "5c5ccd6b",
   "metadata": {},
   "outputs": [
    {
     "data": {
      "image/png": "[encoded data removed]",
      "text/plain": [
       "<Figure size 1000x600 with 1 Axes>"
      ]
     },
     "metadata": {},
     "output_type": "display_data"
    }
   ],
   "source": [
    "# Specify a size for the plot\n",
    "fig, ax = plt.subplots(figsize=(10, 6))\n",
    "\n",
    "# Plot a histogram of the test MAE loss\n",
    "ax.hist(test_mae_loss, bins=50)\n",
    "\n",
    "# Set x-axis label\n",
    "ax.set_xlabel(\"test MAE loss\")\n",
    "\n",
    "# Set y-axis label\n",
    "ax.set_ylabel(\"No of samples\");"
   ]
  },
  {
   "cell_type": "markdown",
   "id": "73a20621",
   "metadata": {},
   "source": []
  },
  {
   "cell_type": "code",
   "execution_count": 67,
   "id": "dc4f7501",
   "metadata": {},
   "outputs": [
    {
     "data": {
      "text/plain": [
       "424"
      ]
     },
     "execution_count": 67,
     "metadata": {},
     "output_type": "execute_result"
    }
   ],
   "source": [
    "# Detect all the samples which are anomalies.\n",
    "anomalies = test_mae_loss > threshold\n",
    "\n",
    "# Number of anomalies.\n",
    "np.sum(anomalies)"
   ]
  },
  {
   "cell_type": "markdown",
   "id": "79670617",
   "metadata": {},
   "source": []
  },
  {
   "cell_type": "code",
   "execution_count": 68,
   "id": "fe5dbeed",
   "metadata": {},
   "outputs": [],
   "source": [
    "# data i is an anomaly if samples [(i - timesteps + 1) to (i)] are anomalies\n",
    "inds = []\n",
    "\n",
    "for i in range(window_size - 1, len(df_test_value) - window_size + 1):\n",
    "    if np.all(anomalies[i - window_size + 1 : i]):\n",
    "        inds.append(i)"
   ]
  },
  {
   "cell_type": "markdown",
   "id": "541b58cb",
   "metadata": {},
   "source": []
  },
  {
   "cell_type": "code",
   "execution_count": 69,
   "id": "3636976a",
   "metadata": {},
   "outputs": [],
   "source": [
    "# Get the data from the locations that were detected to be anomalies from the with anomaly data\n",
    "df_subset = df_daily_jumpsup.iloc[inds]"
   ]
  },
  {
   "cell_type": "markdown",
   "id": "8b814a07",
   "metadata": {},
   "source": []
  },
  {
   "cell_type": "code",
   "execution_count": 70,
   "id": "46b71b06",
   "metadata": {},
   "outputs": [
    {
     "data": {
      "image/png": "[encoded data removed]",
      "text/plain": [
       "<Figure size 1000x600 with 1 Axes>"
      ]
     },
     "metadata": {},
     "output_type": "display_data"
    }
   ],
   "source": [
    "#Specify a size for the plot\n",
    "fig, ax = plt.subplots(figsize=(10, 6))\n",
    "\n",
    "# Plot the with anomaly data\n",
    "df_daily_jumpsup.plot(legend=False, ax=ax)\n",
    "\n",
    "# Plot the data flagged as anomalous by the model\n",
    "df_subset.plot(legend=False, ax=ax, color=\"r\");"
   ]
  },
  {
   "cell_type": "markdown",
   "id": "a2c9e1b4",
   "metadata": {},
   "source": []
  },
  {
   "cell_type": "markdown",
   "id": "8d6705d7-94bc-4b24-b680-4d8d0d058883",
   "metadata": {},
   "source": [
    "## Conclusion\n",
    "\n",
    "***"
   ]
  },
  {
   "cell_type": "markdown",
   "id": "863919d0-23d9-4a05-ba01-dad1abbde7b4",
   "metadata": {},
   "source": []
  },
  {
   "cell_type": "markdown",
   "id": "3a4a93ca",
   "metadata": {},
   "source": [
    "# References\n",
    "***"
   ]
  },
  {
   "cell_type": "markdown",
   "id": "b0cd5eba",
   "metadata": {},
   "source": [
    "https://statisticsbyjim.com/glossary/standardization/\n",
    "\n",
    "https://datascience.stackexchange.com/questions/25267/keras-difference-beetween-val-loss-and-loss-during-training\n",
    "\n",
    "https://stats.stackexchange.com/questions/202287/why-standardization-of-the-testing-set-has-to-be-performed-with-the-mean-and-sd"
   ]
  },
  {
   "cell_type": "code",
   "execution_count": null,
   "id": "e906cc4c-de6a-411a-9e06-43466add4e8f",
   "metadata": {},
   "outputs": [],
   "source": []
  },
  {
   "cell_type": "code",
   "execution_count": null,
   "id": "44348a57",
   "metadata": {},
   "outputs": [],
   "source": []
  }
 ],
 "metadata": {
  "kernelspec": {
   "display_name": "Python 3 (ipykernel)",
   "language": "python",
   "name": "python3"
  },
  "language_info": {
   "codemirror_mode": {
    "name": "ipython",
    "version": 3
   },
   "file_extension": ".py",
   "mimetype": "text/x-python",
   "name": "python",
   "nbconvert_exporter": "python",
   "pygments_lexer": "ipython3",
   "version": "3.8.8"
  },
  "vscode": {
   "interpreter": {
    "hash": "b2b6076d37733cdda692d5a0ae58e17ed184c302ea8382f3215d6339d988bc41"
   }
  }
 },
 "nbformat": 4,
 "nbformat_minor": 5
}
