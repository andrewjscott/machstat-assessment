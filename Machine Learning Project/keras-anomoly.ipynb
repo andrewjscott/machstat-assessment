{
 "cells": [
  {
   "cell_type": "markdown",
   "id": "ae11e46f",
   "metadata": {},
   "source": [
    "# Assessment Overview\n",
    "***"
   ]
  },
  {
   "cell_type": "markdown",
   "id": "427b333d",
   "metadata": {},
   "source": [
    "On the [keras website](https://keras.io/), there is an example of [time-series anomaly detection](https://keras.io/examples/timeseries/timeseries_anomaly_detection/). Re-create this example in a notebook of your own, explaining the concepts.   \n",
    "\n",
    "Clearly explain each keras function used, referring to the documentation.   \n",
    "\n",
    "Include an introduction to your notebook, setting the context and describing what the reader can expect as they read down through the notebook.   \n",
    "\n",
    "Include a conclusion section where you suggest improvements you could make to the analysis in the notebook."
   ]
  },
  {
   "cell_type": "markdown",
   "id": "ef4f2b59",
   "metadata": {},
   "source": [
    "# Introduction\n",
    "***"
   ]
  },
  {
   "cell_type": "markdown",
   "id": "897c063e",
   "metadata": {},
   "source": []
  },
  {
   "cell_type": "markdown",
   "id": "130ae3e9",
   "metadata": {},
   "source": []
  },
  {
   "cell_type": "markdown",
   "id": "63ceae0d",
   "metadata": {},
   "source": [
    "# Evaluation\n",
    "\n",
    "***\n",
    "\n",
    "https://keras.io/examples/timeseries/timeseries_anomaly_detection/"
   ]
  },
  {
   "cell_type": "code",
   "execution_count": 10,
   "id": "42f89158",
   "metadata": {},
   "outputs": [],
   "source": [
    "# Numerical arrays.\n",
    "import numpy as np\n",
    "\n",
    "# Spreadsheet-like Data Frames.\n",
    "import pandas as pd\n",
    "\n",
    "# Neural networks.\n",
    "import tensorflow.keras as keras\n",
    "\n",
    "# Plotting\n",
    "import matplotlib.pyplot as plt"
   ]
  },
  {
   "cell_type": "markdown",
   "id": "6a3ffd58",
   "metadata": {},
   "source": []
  },
  {
   "cell_type": "markdown",
   "id": "7c9be8ac",
   "metadata": {},
   "source": [
    "## Data\n",
    "\n",
    "***\n",
    "\n",
    "https://www.kaggle.com/datasets/boltzmannbrain/nab\n",
    "\n",
    "https://github.com/numenta/NAB"
   ]
  },
  {
   "cell_type": "markdown",
   "id": "c1ae5f8e",
   "metadata": {},
   "source": []
  },
  {
   "cell_type": "code",
   "execution_count": 11,
   "id": "ce9eefc9",
   "metadata": {},
   "outputs": [],
   "source": [
    "# Root of URLs.\n",
    "root_url = 'https://raw.githubusercontent.com/numenta/NAB/master/data/'\n",
    "\n",
    "# Data file without anomaly.\n",
    "no_anomaly_url = root_url + 'artificialNoAnomaly/art_daily_small_noise.csv'\n",
    "\n",
    "# Data file with anomaly.\n",
    "with_anomaly_url = root_url + 'artificialWithAnomaly/art_daily_jumpsup.csv'"
   ]
  },
  {
   "cell_type": "code",
   "execution_count": 12,
   "id": "00878c05",
   "metadata": {},
   "outputs": [
    {
     "data": {
      "text/plain": [
       "'https://raw.githubusercontent.com/numenta/NAB/master/data/artificialNoAnomaly/art_daily_small_noise.csv'"
      ]
     },
     "execution_count": 12,
     "metadata": {},
     "output_type": "execute_result"
    }
   ],
   "source": [
    "# Check that the url for the no anomaly csv file is concatonated correctly\n",
    "no_anomaly_url"
   ]
  },
  {
   "cell_type": "code",
   "execution_count": 13,
   "id": "d408ea09",
   "metadata": {},
   "outputs": [
    {
     "data": {
      "text/plain": [
       "'https://raw.githubusercontent.com/numenta/NAB/master/data/artificialWithAnomaly/art_daily_jumpsup.csv'"
      ]
     },
     "execution_count": 13,
     "metadata": {},
     "output_type": "execute_result"
    }
   ],
   "source": [
    "# Check that the url for the with anomaly csv file is concatonated correctly\n",
    "with_anomaly_url"
   ]
  },
  {
   "cell_type": "markdown",
   "id": "8480d962",
   "metadata": {},
   "source": []
  },
  {
   "cell_type": "code",
   "execution_count": 14,
   "id": "44ec96d0",
   "metadata": {},
   "outputs": [],
   "source": [
    "# Import the small noise no anomaly csv to a pandas dataframe\n",
    "df_small_noise = pd.read_csv(no_anomaly_url, parse_dates=True, index_col=\"timestamp\")"
   ]
  },
  {
   "cell_type": "markdown",
   "id": "c63cd66a",
   "metadata": {},
   "source": []
  },
  {
   "cell_type": "code",
   "execution_count": 15,
   "id": "1cf7e633",
   "metadata": {},
   "outputs": [
    {
     "data": {
      "text/html": [
       "<div>\n",
       "<style scoped>\n",
       "    .dataframe tbody tr th:only-of-type {\n",
       "        vertical-align: middle;\n",
       "    }\n",
       "\n",
       "    .dataframe tbody tr th {\n",
       "        vertical-align: top;\n",
       "    }\n",
       "\n",
       "    .dataframe thead th {\n",
       "        text-align: right;\n",
       "    }\n",
       "</style>\n",
       "<table border=\"1\" class=\"dataframe\">\n",
       "  <thead>\n",
       "    <tr style=\"text-align: right;\">\n",
       "      <th></th>\n",
       "      <th>value</th>\n",
       "    </tr>\n",
       "    <tr>\n",
       "      <th>timestamp</th>\n",
       "      <th></th>\n",
       "    </tr>\n",
       "  </thead>\n",
       "  <tbody>\n",
       "    <tr>\n",
       "      <th>2014-04-01 00:00:00</th>\n",
       "      <td>18.324919</td>\n",
       "    </tr>\n",
       "    <tr>\n",
       "      <th>2014-04-01 00:05:00</th>\n",
       "      <td>21.970327</td>\n",
       "    </tr>\n",
       "    <tr>\n",
       "      <th>2014-04-01 00:10:00</th>\n",
       "      <td>18.624806</td>\n",
       "    </tr>\n",
       "    <tr>\n",
       "      <th>2014-04-01 00:15:00</th>\n",
       "      <td>21.953684</td>\n",
       "    </tr>\n",
       "    <tr>\n",
       "      <th>2014-04-01 00:20:00</th>\n",
       "      <td>21.909120</td>\n",
       "    </tr>\n",
       "  </tbody>\n",
       "</table>\n",
       "</div>"
      ],
      "text/plain": [
       "                         value\n",
       "timestamp                     \n",
       "2014-04-01 00:00:00  18.324919\n",
       "2014-04-01 00:05:00  21.970327\n",
       "2014-04-01 00:10:00  18.624806\n",
       "2014-04-01 00:15:00  21.953684\n",
       "2014-04-01 00:20:00  21.909120"
      ]
     },
     "execution_count": 15,
     "metadata": {},
     "output_type": "execute_result"
    }
   ],
   "source": [
    "# Look at the first five entries of the no anomaly data\n",
    "df_small_noise.head()"
   ]
  },
  {
   "cell_type": "code",
   "execution_count": 16,
   "id": "3eaa47be",
   "metadata": {
    "scrolled": true
   },
   "outputs": [
    {
     "data": {
      "text/html": [
       "<div>\n",
       "<style scoped>\n",
       "    .dataframe tbody tr th:only-of-type {\n",
       "        vertical-align: middle;\n",
       "    }\n",
       "\n",
       "    .dataframe tbody tr th {\n",
       "        vertical-align: top;\n",
       "    }\n",
       "\n",
       "    .dataframe thead th {\n",
       "        text-align: right;\n",
       "    }\n",
       "</style>\n",
       "<table border=\"1\" class=\"dataframe\">\n",
       "  <thead>\n",
       "    <tr style=\"text-align: right;\">\n",
       "      <th></th>\n",
       "      <th>value</th>\n",
       "    </tr>\n",
       "  </thead>\n",
       "  <tbody>\n",
       "    <tr>\n",
       "      <th>count</th>\n",
       "      <td>4032.000000</td>\n",
       "    </tr>\n",
       "    <tr>\n",
       "      <th>mean</th>\n",
       "      <td>42.438353</td>\n",
       "    </tr>\n",
       "    <tr>\n",
       "      <th>std</th>\n",
       "      <td>28.077122</td>\n",
       "    </tr>\n",
       "    <tr>\n",
       "      <th>min</th>\n",
       "      <td>18.000964</td>\n",
       "    </tr>\n",
       "    <tr>\n",
       "      <th>25%</th>\n",
       "      <td>19.841390</td>\n",
       "    </tr>\n",
       "    <tr>\n",
       "      <th>50%</th>\n",
       "      <td>21.608487</td>\n",
       "    </tr>\n",
       "    <tr>\n",
       "      <th>75%</th>\n",
       "      <td>75.450282</td>\n",
       "    </tr>\n",
       "    <tr>\n",
       "      <th>max</th>\n",
       "      <td>87.976128</td>\n",
       "    </tr>\n",
       "  </tbody>\n",
       "</table>\n",
       "</div>"
      ],
      "text/plain": [
       "             value\n",
       "count  4032.000000\n",
       "mean     42.438353\n",
       "std      28.077122\n",
       "min      18.000964\n",
       "25%      19.841390\n",
       "50%      21.608487\n",
       "75%      75.450282\n",
       "max      87.976128"
      ]
     },
     "execution_count": 16,
     "metadata": {},
     "output_type": "execute_result"
    }
   ],
   "source": [
    "# View some summary statistics of the no anomaly data\n",
    "df_small_noise.describe()"
   ]
  },
  {
   "cell_type": "markdown",
   "id": "99d7a1dd",
   "metadata": {},
   "source": []
  },
  {
   "cell_type": "code",
   "execution_count": 18,
   "id": "c9210e44",
   "metadata": {},
   "outputs": [
    {
     "data": {
      "text/plain": [
       "value    18.324919\n",
       "Name: 2014-04-01 00:00:00, dtype: float64"
      ]
     },
     "execution_count": 18,
     "metadata": {},
     "output_type": "execute_result"
    }
   ],
   "source": [
    "# View information about the first entry of the no anomaly data\n",
    "df_small_noise.iloc[0]"
   ]
  },
  {
   "cell_type": "code",
   "execution_count": 19,
   "id": "0da2b06c",
   "metadata": {},
   "outputs": [
    {
     "data": {
      "text/plain": [
       "18.3249185392"
      ]
     },
     "execution_count": 19,
     "metadata": {},
     "output_type": "execute_result"
    }
   ],
   "source": [
    "# View the complete value of the first value imported as pandas seems to have rounded the values to 10 decimal places\n",
    "df_small_noise.iloc[0]['value']"
   ]
  },
  {
   "cell_type": "code",
   "execution_count": 20,
   "id": "fdbe4e8e",
   "metadata": {},
   "outputs": [
    {
     "data": {
      "text/plain": [
       "18.3249185392"
      ]
     },
     "execution_count": 20,
     "metadata": {},
     "output_type": "execute_result"
    }
   ],
   "source": [
    "# Confirming that the first value has been rounded. It was 18.324918539200002 in the original csv\n",
    "df_small_noise.iloc[0].values[0]"
   ]
  },
  {
   "cell_type": "markdown",
   "id": "43825276",
   "metadata": {},
   "source": []
  },
  {
   "cell_type": "code",
   "execution_count": 21,
   "id": "fae88875",
   "metadata": {},
   "outputs": [
    {
     "data": {
      "text/plain": [
       "(4032, 1)"
      ]
     },
     "execution_count": 21,
     "metadata": {},
     "output_type": "execute_result"
    }
   ],
   "source": [
    "# Confirming the shape of the output is what's expected\n",
    "df_small_noise.shape"
   ]
  },
  {
   "cell_type": "markdown",
   "id": "37ca0d25",
   "metadata": {},
   "source": []
  },
  {
   "cell_type": "code",
   "execution_count": 22,
   "id": "ae3bccf4",
   "metadata": {},
   "outputs": [
    {
     "data": {
      "image/png": "[encoded data removed]",
      "text/plain": [
       "<Figure size 1000x400 with 1 Axes>"
      ]
     },
     "metadata": {},
     "output_type": "display_data"
    }
   ],
   "source": [
    "# Specify a size for the plot\n",
    "fig, ax = plt.subplots(figsize=(10,4))\n",
    "\n",
    "# Use pandas to plot the no anomaly data frame.\n",
    "df_small_noise.plot(legend=False, ax=ax);"
   ]
  },
  {
   "cell_type": "markdown",
   "id": "65d827db",
   "metadata": {},
   "source": []
  },
  {
   "cell_type": "code",
   "execution_count": 23,
   "id": "e221e218",
   "metadata": {},
   "outputs": [],
   "source": [
    "# Import the daily jumpsup with anomaly csv to a pandas dataframe\n",
    "df_daily_jumpsup = pd.read_csv(with_anomaly_url, parse_dates=True, index_col=\"timestamp\")"
   ]
  },
  {
   "cell_type": "code",
   "execution_count": 24,
   "id": "1f5f0e5a",
   "metadata": {},
   "outputs": [
    {
     "data": {
      "text/html": [
       "<div>\n",
       "<style scoped>\n",
       "    .dataframe tbody tr th:only-of-type {\n",
       "        vertical-align: middle;\n",
       "    }\n",
       "\n",
       "    .dataframe tbody tr th {\n",
       "        vertical-align: top;\n",
       "    }\n",
       "\n",
       "    .dataframe thead th {\n",
       "        text-align: right;\n",
       "    }\n",
       "</style>\n",
       "<table border=\"1\" class=\"dataframe\">\n",
       "  <thead>\n",
       "    <tr style=\"text-align: right;\">\n",
       "      <th></th>\n",
       "      <th>value</th>\n",
       "    </tr>\n",
       "    <tr>\n",
       "      <th>timestamp</th>\n",
       "      <th></th>\n",
       "    </tr>\n",
       "  </thead>\n",
       "  <tbody>\n",
       "    <tr>\n",
       "      <th>2014-04-01 00:00:00</th>\n",
       "      <td>19.761252</td>\n",
       "    </tr>\n",
       "    <tr>\n",
       "      <th>2014-04-01 00:05:00</th>\n",
       "      <td>20.500833</td>\n",
       "    </tr>\n",
       "    <tr>\n",
       "      <th>2014-04-01 00:10:00</th>\n",
       "      <td>19.961641</td>\n",
       "    </tr>\n",
       "    <tr>\n",
       "      <th>2014-04-01 00:15:00</th>\n",
       "      <td>21.490266</td>\n",
       "    </tr>\n",
       "    <tr>\n",
       "      <th>2014-04-01 00:20:00</th>\n",
       "      <td>20.187739</td>\n",
       "    </tr>\n",
       "  </tbody>\n",
       "</table>\n",
       "</div>"
      ],
      "text/plain": [
       "                         value\n",
       "timestamp                     \n",
       "2014-04-01 00:00:00  19.761252\n",
       "2014-04-01 00:05:00  20.500833\n",
       "2014-04-01 00:10:00  19.961641\n",
       "2014-04-01 00:15:00  21.490266\n",
       "2014-04-01 00:20:00  20.187739"
      ]
     },
     "execution_count": 24,
     "metadata": {},
     "output_type": "execute_result"
    }
   ],
   "source": [
    "# Look at the first five entries of the with anomaly data\n",
    "df_daily_jumpsup.head()"
   ]
  },
  {
   "cell_type": "code",
   "execution_count": 25,
   "id": "a5fae563",
   "metadata": {},
   "outputs": [
    {
     "data": {
      "text/html": [
       "<div>\n",
       "<style scoped>\n",
       "    .dataframe tbody tr th:only-of-type {\n",
       "        vertical-align: middle;\n",
       "    }\n",
       "\n",
       "    .dataframe tbody tr th {\n",
       "        vertical-align: top;\n",
       "    }\n",
       "\n",
       "    .dataframe thead th {\n",
       "        text-align: right;\n",
       "    }\n",
       "</style>\n",
       "<table border=\"1\" class=\"dataframe\">\n",
       "  <thead>\n",
       "    <tr style=\"text-align: right;\">\n",
       "      <th></th>\n",
       "      <th>value</th>\n",
       "    </tr>\n",
       "  </thead>\n",
       "  <tbody>\n",
       "    <tr>\n",
       "      <th>count</th>\n",
       "      <td>4032.000000</td>\n",
       "    </tr>\n",
       "    <tr>\n",
       "      <th>mean</th>\n",
       "      <td>44.494254</td>\n",
       "    </tr>\n",
       "    <tr>\n",
       "      <th>std</th>\n",
       "      <td>32.432473</td>\n",
       "    </tr>\n",
       "    <tr>\n",
       "      <th>min</th>\n",
       "      <td>18.001010</td>\n",
       "    </tr>\n",
       "    <tr>\n",
       "      <th>25%</th>\n",
       "      <td>19.991382</td>\n",
       "    </tr>\n",
       "    <tr>\n",
       "      <th>50%</th>\n",
       "      <td>21.648503</td>\n",
       "    </tr>\n",
       "    <tr>\n",
       "      <th>75%</th>\n",
       "      <td>76.435943</td>\n",
       "    </tr>\n",
       "    <tr>\n",
       "      <th>max</th>\n",
       "      <td>164.947481</td>\n",
       "    </tr>\n",
       "  </tbody>\n",
       "</table>\n",
       "</div>"
      ],
      "text/plain": [
       "             value\n",
       "count  4032.000000\n",
       "mean     44.494254\n",
       "std      32.432473\n",
       "min      18.001010\n",
       "25%      19.991382\n",
       "50%      21.648503\n",
       "75%      76.435943\n",
       "max     164.947481"
      ]
     },
     "execution_count": 25,
     "metadata": {},
     "output_type": "execute_result"
    }
   ],
   "source": [
    "# View some summary statistics of the with anomaly data\n",
    "df_daily_jumpsup.describe()"
   ]
  },
  {
   "cell_type": "markdown",
   "id": "b211abdb",
   "metadata": {},
   "source": []
  },
  {
   "cell_type": "code",
   "execution_count": 26,
   "id": "56d19c4e",
   "metadata": {},
   "outputs": [
    {
     "data": {
      "text/plain": [
       "19.761251903"
      ]
     },
     "execution_count": 26,
     "metadata": {},
     "output_type": "execute_result"
    }
   ],
   "source": [
    "# View information about the first entry of the with anomaly data\n",
    "df_daily_jumpsup.iloc[0]['value']"
   ]
  },
  {
   "cell_type": "code",
   "execution_count": 27,
   "id": "668f15ea",
   "metadata": {},
   "outputs": [
    {
     "data": {
      "text/plain": [
       "(4032, 1)"
      ]
     },
     "execution_count": 27,
     "metadata": {},
     "output_type": "execute_result"
    }
   ],
   "source": [
    "# Confirming the shape of the output is what's expected\n",
    "df_daily_jumpsup.shape"
   ]
  },
  {
   "cell_type": "markdown",
   "id": "751faef1",
   "metadata": {},
   "source": []
  },
  {
   "cell_type": "code",
   "execution_count": 28,
   "id": "698f04b3",
   "metadata": {},
   "outputs": [
    {
     "data": {
      "image/png": "[encoded data removed]",
      "text/plain": [
       "<Figure size 1000x400 with 1 Axes>"
      ]
     },
     "metadata": {},
     "output_type": "display_data"
    }
   ],
   "source": [
    "# Specify a size for the plot\n",
    "fig, ax = plt.subplots(figsize=(10,4))\n",
    "\n",
    "# Use pandas to plot the with anomaly data frame.\n",
    "df_daily_jumpsup.plot(legend=False, ax=ax);"
   ]
  },
  {
   "cell_type": "markdown",
   "id": "f586aca4",
   "metadata": {},
   "source": []
  },
  {
   "cell_type": "markdown",
   "id": "91dcf599",
   "metadata": {},
   "source": [
    "## Preprocessing\n",
    "\n",
    "***"
   ]
  },
  {
   "cell_type": "markdown",
   "id": "2d6189cb",
   "metadata": {},
   "source": []
  },
  {
   "cell_type": "code",
   "execution_count": 29,
   "id": "b6a16874",
   "metadata": {},
   "outputs": [
    {
     "data": {
      "text/plain": [
       "value    42.438353\n",
       "dtype: float64"
      ]
     },
     "execution_count": 29,
     "metadata": {},
     "output_type": "execute_result"
    }
   ],
   "source": [
    "# Getting the mean of the values in the no anomaly data\n",
    "train_mean = df_small_noise.mean()\n",
    "\n",
    "train_mean"
   ]
  },
  {
   "cell_type": "code",
   "execution_count": 30,
   "id": "c1729f60",
   "metadata": {},
   "outputs": [
    {
     "data": {
      "text/plain": [
       "value    28.077122\n",
       "dtype: float64"
      ]
     },
     "execution_count": 30,
     "metadata": {},
     "output_type": "execute_result"
    }
   ],
   "source": [
    "# Getting the standard deviation of the values in the no anomaly data\n",
    "train_std = df_small_noise.std()\n",
    "\n",
    "train_std"
   ]
  },
  {
   "cell_type": "markdown",
   "id": "40271f05",
   "metadata": {},
   "source": [
    "https://statisticsbyjim.com/glossary/standardization/"
   ]
  },
  {
   "cell_type": "code",
   "execution_count": 31,
   "id": "b3f00f78",
   "metadata": {},
   "outputs": [],
   "source": [
    "# Standardising the values\n",
    "df_train_vals = (df_small_noise - train_mean) / train_std"
   ]
  },
  {
   "cell_type": "markdown",
   "id": "cf678c47",
   "metadata": {},
   "source": []
  },
  {
   "cell_type": "code",
   "execution_count": 32,
   "id": "04afaa92",
   "metadata": {},
   "outputs": [
    {
     "data": {
      "text/html": [
       "<div>\n",
       "<style scoped>\n",
       "    .dataframe tbody tr th:only-of-type {\n",
       "        vertical-align: middle;\n",
       "    }\n",
       "\n",
       "    .dataframe tbody tr th {\n",
       "        vertical-align: top;\n",
       "    }\n",
       "\n",
       "    .dataframe thead th {\n",
       "        text-align: right;\n",
       "    }\n",
       "</style>\n",
       "<table border=\"1\" class=\"dataframe\">\n",
       "  <thead>\n",
       "    <tr style=\"text-align: right;\">\n",
       "      <th></th>\n",
       "      <th>value</th>\n",
       "    </tr>\n",
       "    <tr>\n",
       "      <th>timestamp</th>\n",
       "      <th></th>\n",
       "    </tr>\n",
       "  </thead>\n",
       "  <tbody>\n",
       "    <tr>\n",
       "      <th>2014-04-01 00:00:00</th>\n",
       "      <td>-0.858829</td>\n",
       "    </tr>\n",
       "    <tr>\n",
       "      <th>2014-04-01 00:05:00</th>\n",
       "      <td>-0.728993</td>\n",
       "    </tr>\n",
       "    <tr>\n",
       "      <th>2014-04-01 00:10:00</th>\n",
       "      <td>-0.848148</td>\n",
       "    </tr>\n",
       "    <tr>\n",
       "      <th>2014-04-01 00:15:00</th>\n",
       "      <td>-0.729586</td>\n",
       "    </tr>\n",
       "    <tr>\n",
       "      <th>2014-04-01 00:20:00</th>\n",
       "      <td>-0.731173</td>\n",
       "    </tr>\n",
       "  </tbody>\n",
       "</table>\n",
       "</div>"
      ],
      "text/plain": [
       "                        value\n",
       "timestamp                    \n",
       "2014-04-01 00:00:00 -0.858829\n",
       "2014-04-01 00:05:00 -0.728993\n",
       "2014-04-01 00:10:00 -0.848148\n",
       "2014-04-01 00:15:00 -0.729586\n",
       "2014-04-01 00:20:00 -0.731173"
      ]
     },
     "execution_count": 32,
     "metadata": {},
     "output_type": "execute_result"
    }
   ],
   "source": [
    "# Look at the first five entries of the standardised no anomaly data\n",
    "df_train_vals.head()"
   ]
  },
  {
   "cell_type": "markdown",
   "id": "519f032c",
   "metadata": {},
   "source": []
  },
  {
   "cell_type": "code",
   "execution_count": 33,
   "id": "f870cfd7",
   "metadata": {},
   "outputs": [
    {
     "data": {
      "text/html": [
       "<div>\n",
       "<style scoped>\n",
       "    .dataframe tbody tr th:only-of-type {\n",
       "        vertical-align: middle;\n",
       "    }\n",
       "\n",
       "    .dataframe tbody tr th {\n",
       "        vertical-align: top;\n",
       "    }\n",
       "\n",
       "    .dataframe thead th {\n",
       "        text-align: right;\n",
       "    }\n",
       "</style>\n",
       "<table border=\"1\" class=\"dataframe\">\n",
       "  <thead>\n",
       "    <tr style=\"text-align: right;\">\n",
       "      <th></th>\n",
       "      <th>value</th>\n",
       "      <th>less_mean</th>\n",
       "      <th>div_std</th>\n",
       "    </tr>\n",
       "    <tr>\n",
       "      <th>timestamp</th>\n",
       "      <th></th>\n",
       "      <th></th>\n",
       "      <th></th>\n",
       "    </tr>\n",
       "  </thead>\n",
       "  <tbody>\n",
       "    <tr>\n",
       "      <th>2014-04-01 00:00:00</th>\n",
       "      <td>18.324919</td>\n",
       "      <td>-24.113435</td>\n",
       "      <td>-0.858829</td>\n",
       "    </tr>\n",
       "    <tr>\n",
       "      <th>2014-04-01 00:05:00</th>\n",
       "      <td>21.970327</td>\n",
       "      <td>-20.468026</td>\n",
       "      <td>-0.728993</td>\n",
       "    </tr>\n",
       "    <tr>\n",
       "      <th>2014-04-01 00:10:00</th>\n",
       "      <td>18.624806</td>\n",
       "      <td>-23.813547</td>\n",
       "      <td>-0.848148</td>\n",
       "    </tr>\n",
       "    <tr>\n",
       "      <th>2014-04-01 00:15:00</th>\n",
       "      <td>21.953684</td>\n",
       "      <td>-20.484669</td>\n",
       "      <td>-0.729586</td>\n",
       "    </tr>\n",
       "    <tr>\n",
       "      <th>2014-04-01 00:20:00</th>\n",
       "      <td>21.909120</td>\n",
       "      <td>-20.529234</td>\n",
       "      <td>-0.731173</td>\n",
       "    </tr>\n",
       "    <tr>\n",
       "      <th>...</th>\n",
       "      <td>...</td>\n",
       "      <td>...</td>\n",
       "      <td>...</td>\n",
       "    </tr>\n",
       "    <tr>\n",
       "      <th>2014-04-14 23:35:00</th>\n",
       "      <td>20.211195</td>\n",
       "      <td>-22.227159</td>\n",
       "      <td>-0.791647</td>\n",
       "    </tr>\n",
       "    <tr>\n",
       "      <th>2014-04-14 23:40:00</th>\n",
       "      <td>20.531041</td>\n",
       "      <td>-21.907313</td>\n",
       "      <td>-0.780255</td>\n",
       "    </tr>\n",
       "    <tr>\n",
       "      <th>2014-04-14 23:45:00</th>\n",
       "      <td>19.032127</td>\n",
       "      <td>-23.406226</td>\n",
       "      <td>-0.833640</td>\n",
       "    </tr>\n",
       "    <tr>\n",
       "      <th>2014-04-14 23:50:00</th>\n",
       "      <td>21.798801</td>\n",
       "      <td>-20.639552</td>\n",
       "      <td>-0.735102</td>\n",
       "    </tr>\n",
       "    <tr>\n",
       "      <th>2014-04-14 23:55:00</th>\n",
       "      <td>18.682620</td>\n",
       "      <td>-23.755733</td>\n",
       "      <td>-0.846089</td>\n",
       "    </tr>\n",
       "  </tbody>\n",
       "</table>\n",
       "<p>4032 rows × 3 columns</p>\n",
       "</div>"
      ],
      "text/plain": [
       "                         value  less_mean   div_std\n",
       "timestamp                                          \n",
       "2014-04-01 00:00:00  18.324919 -24.113435 -0.858829\n",
       "2014-04-01 00:05:00  21.970327 -20.468026 -0.728993\n",
       "2014-04-01 00:10:00  18.624806 -23.813547 -0.848148\n",
       "2014-04-01 00:15:00  21.953684 -20.484669 -0.729586\n",
       "2014-04-01 00:20:00  21.909120 -20.529234 -0.731173\n",
       "...                        ...        ...       ...\n",
       "2014-04-14 23:35:00  20.211195 -22.227159 -0.791647\n",
       "2014-04-14 23:40:00  20.531041 -21.907313 -0.780255\n",
       "2014-04-14 23:45:00  19.032127 -23.406226 -0.833640\n",
       "2014-04-14 23:50:00  21.798801 -20.639552 -0.735102\n",
       "2014-04-14 23:55:00  18.682620 -23.755733 -0.846089\n",
       "\n",
       "[4032 rows x 3 columns]"
      ]
     },
     "execution_count": 33,
     "metadata": {},
     "output_type": "execute_result"
    }
   ],
   "source": [
    "# Add a column to the original no anomaly dataframe with the values of the datapoint minus the mean\n",
    "df_small_noise['less_mean'] = df_small_noise['value'] - df_small_noise['value'].mean()\n",
    "\n",
    "# Add a column to the original no anomaly dataframe with standardised values\n",
    "df_small_noise['div_std'] = df_small_noise['less_mean'] / df_small_noise['value'].std()\n",
    "\n",
    "# Show the no anomoly dataframe with the two newly added columns\n",
    "df_small_noise"
   ]
  },
  {
   "cell_type": "markdown",
   "id": "0e4caa62",
   "metadata": {},
   "source": []
  },
  {
   "cell_type": "code",
   "execution_count": 34,
   "id": "cc724f51",
   "metadata": {},
   "outputs": [
    {
     "data": {
      "text/plain": [
       "(42.438353335806646, -7.342627387941552e-14, -2.616541242931684e-15)"
      ]
     },
     "execution_count": 34,
     "metadata": {},
     "output_type": "execute_result"
    }
   ],
   "source": [
    "# View the mean of the three columns in the no anomaly data \n",
    "df_small_noise['value'].mean(), df_small_noise['less_mean'].mean(), df_small_noise['div_std'].mean()"
   ]
  },
  {
   "cell_type": "code",
   "execution_count": 35,
   "id": "c59128dd",
   "metadata": {},
   "outputs": [
    {
     "data": {
      "text/plain": [
       "(28.077122281262515, 28.077122281262508, 1.0000000000000018)"
      ]
     },
     "execution_count": 35,
     "metadata": {},
     "output_type": "execute_result"
    }
   ],
   "source": [
    "# View the standard deviation of the three columns in the no anomaly data\n",
    "df_small_noise['value'].std(), df_small_noise['less_mean'].std(), df_small_noise['div_std'].std()"
   ]
  },
  {
   "cell_type": "markdown",
   "id": "3836be19",
   "metadata": {},
   "source": []
  },
  {
   "cell_type": "code",
   "execution_count": 36,
   "id": "1b75ae24",
   "metadata": {},
   "outputs": [
    {
     "data": {
      "image/png": "[encoded data removed]",
      "text/plain": [
       "<Figure size 1000x400 with 1 Axes>"
      ]
     },
     "metadata": {},
     "output_type": "display_data"
    }
   ],
   "source": [
    "# Specify a size for the plot\n",
    "fig, ax = plt.subplots(figsize=(10,4))\n",
    "\n",
    "# Use pandas to plot the standardised no anomaly data frame.\n",
    "df_train_vals.plot(legend=False, ax=ax);"
   ]
  },
  {
   "cell_type": "markdown",
   "id": "4cd6b54f",
   "metadata": {},
   "source": []
  },
  {
   "cell_type": "code",
   "execution_count": 37,
   "id": "1072e8fd",
   "metadata": {},
   "outputs": [
    {
     "data": {
      "text/plain": [
       "(4032, 1)"
      ]
     },
     "execution_count": 37,
     "metadata": {},
     "output_type": "execute_result"
    }
   ],
   "source": [
    "# Confirming that the shape of the standardised no anomaly data is what we expect\n",
    "df_train_vals.shape"
   ]
  },
  {
   "cell_type": "markdown",
   "id": "2083d846",
   "metadata": {},
   "source": []
  },
  {
   "cell_type": "code",
   "execution_count": 38,
   "id": "8ca4efb3",
   "metadata": {},
   "outputs": [],
   "source": [
    "# Specifying the size for the windows\n",
    "window_size = 288"
   ]
  },
  {
   "cell_type": "markdown",
   "id": "974c5a52",
   "metadata": {},
   "source": []
  },
  {
   "cell_type": "markdown",
   "id": "ddf72301",
   "metadata": {},
   "source": [
    "Window example:\n",
    "\n",
    "```python\n",
    "[1, 1, 2, 4, 5, 6, 7, 1, 2, 3, 4, 5]\n",
    "window_size = 3\n",
    "[1, 1, 2]\n",
    "[1, 2, 4]\n",
    "[2, 4, 5]\n",
    "[4, 5, 6]\n",
    "...\n",
    "```"
   ]
  },
  {
   "cell_type": "markdown",
   "id": "9aac4e56",
   "metadata": {},
   "source": []
  },
  {
   "cell_type": "code",
   "execution_count": 39,
   "id": "b6bf0a69",
   "metadata": {},
   "outputs": [
    {
     "data": {
      "text/plain": [
       "12"
      ]
     },
     "execution_count": 39,
     "metadata": {},
     "output_type": "execute_result"
    }
   ],
   "source": [
    "# Window list example.\n",
    "L = [1, 1, 2, 4, 5, 6, 7, 1, 2, 3, 4, 5]\n",
    "# Example window size.\n",
    "win_size = 3\n",
    "# Length of L.\n",
    "len(L)"
   ]
  },
  {
   "cell_type": "markdown",
   "id": "b2e7fe5c",
   "metadata": {},
   "source": []
  },
  {
   "cell_type": "code",
   "execution_count": 40,
   "id": "dabb899d",
   "metadata": {},
   "outputs": [
    {
     "data": {
      "text/plain": [
       "10"
      ]
     },
     "execution_count": 40,
     "metadata": {},
     "output_type": "execute_result"
    }
   ],
   "source": [
    "# Number of windows from L.\n",
    "len(L) - (win_size - 1)"
   ]
  },
  {
   "cell_type": "code",
   "execution_count": 41,
   "id": "a45d2d41",
   "metadata": {},
   "outputs": [
    {
     "data": {
      "text/plain": [
       "10"
      ]
     },
     "execution_count": 41,
     "metadata": {},
     "output_type": "execute_result"
    }
   ],
   "source": [
    "# Remove brackets.\n",
    "len(L) - win_size + 1"
   ]
  },
  {
   "cell_type": "markdown",
   "id": "5358d988",
   "metadata": {},
   "source": []
  },
  {
   "cell_type": "code",
   "execution_count": 42,
   "id": "24f9b067",
   "metadata": {},
   "outputs": [
    {
     "name": "stdout",
     "output_type": "stream",
     "text": [
      "[1, 1, 2]\n",
      "[1, 2, 4]\n",
      "[2, 4, 5]\n",
      "[4, 5, 6]\n",
      "[5, 6, 7]\n",
      "[6, 7, 1]\n",
      "[7, 1, 2]\n",
      "[1, 2, 3]\n",
      "[2, 3, 4]\n",
      "[3, 4, 5]\n"
     ]
    }
   ],
   "source": [
    "# Print the windows.\n",
    "for i in range(len(L) - win_size + 1):\n",
    "    print(L[i:i + win_size])"
   ]
  },
  {
   "cell_type": "markdown",
   "id": "2ad1cd18",
   "metadata": {},
   "source": []
  },
  {
   "cell_type": "code",
   "execution_count": 43,
   "id": "0b218c8b",
   "metadata": {},
   "outputs": [
    {
     "data": {
      "text/plain": [
       "[[1, 1, 2],\n",
       " [1, 2, 4],\n",
       " [2, 4, 5],\n",
       " [4, 5, 6],\n",
       " [5, 6, 7],\n",
       " [6, 7, 1],\n",
       " [7, 1, 2],\n",
       " [1, 2, 3],\n",
       " [2, 3, 4],\n",
       " [3, 4, 5]]"
      ]
     },
     "execution_count": 43,
     "metadata": {},
     "output_type": "execute_result"
    }
   ],
   "source": [
    "# For accumulating the windows.\n",
    "wins = []\n",
    "\n",
    "# Generate the windows\n",
    "for i in range(len(L) - win_size + 1):\n",
    "    wins.append(L[i:i + win_size])\n",
    "\n",
    "wins"
   ]
  },
  {
   "cell_type": "markdown",
   "id": "39c17a5c",
   "metadata": {},
   "source": []
  },
  {
   "cell_type": "code",
   "execution_count": 44,
   "id": "9c23080a",
   "metadata": {},
   "outputs": [
    {
     "data": {
      "text/plain": [
       "array([[1, 1, 2],\n",
       "       [1, 2, 4],\n",
       "       [2, 4, 5],\n",
       "       [4, 5, 6],\n",
       "       [5, 6, 7],\n",
       "       [6, 7, 1],\n",
       "       [7, 1, 2],\n",
       "       [1, 2, 3],\n",
       "       [2, 3, 4],\n",
       "       [3, 4, 5]])"
      ]
     },
     "execution_count": 44,
     "metadata": {},
     "output_type": "execute_result"
    }
   ],
   "source": [
    "# Create a 2D numpy array from wins.\n",
    "np.stack(wins)"
   ]
  },
  {
   "cell_type": "markdown",
   "id": "9b00a47b",
   "metadata": {},
   "source": []
  },
  {
   "cell_type": "code",
   "execution_count": 45,
   "id": "de0623f2",
   "metadata": {},
   "outputs": [],
   "source": [
    "# Function to return windowed values of the input data\n",
    "def windows(vals, N=window_size):\n",
    "  # Create an empty list to append the windowed data to\n",
    "  L = []\n",
    "  # Iterate over the inpuit data for the length of the specified window\n",
    "  for i in range(len(vals) - N + 1):\n",
    "    # Append the input data which is the same length as the specified window\n",
    "    L.append(vals[i:i+N])\n",
    "  # Stack windows into an array\n",
    "  return np.stack(L)"
   ]
  },
  {
   "cell_type": "markdown",
   "id": "0d085203",
   "metadata": {},
   "source": []
  },
  {
   "cell_type": "code",
   "execution_count": 46,
   "id": "621c5bf5",
   "metadata": {},
   "outputs": [],
   "source": [
    "# Use the windows function on the standardised no anomaly data\n",
    "x_train = windows(df_train_vals)"
   ]
  },
  {
   "cell_type": "code",
   "execution_count": 47,
   "id": "6d7fa606",
   "metadata": {},
   "outputs": [
    {
     "data": {
      "text/plain": [
       "array([[[-0.85882857],\n",
       "        [-0.72899302],\n",
       "        [-0.84814772],\n",
       "        ...,\n",
       "        [-0.86453747],\n",
       "        [-0.81250829],\n",
       "        [-0.79671155]],\n",
       "\n",
       "       [[-0.72899302],\n",
       "        [-0.84814772],\n",
       "        [-0.72958579],\n",
       "        ...,\n",
       "        [-0.81250829],\n",
       "        [-0.79671155],\n",
       "        [-0.78767946]],\n",
       "\n",
       "       [[-0.84814772],\n",
       "        [-0.72958579],\n",
       "        [-0.731173  ],\n",
       "        ...,\n",
       "        [-0.79671155],\n",
       "        [-0.78767946],\n",
       "        [-0.73706287]],\n",
       "\n",
       "       ...,\n",
       "\n",
       "       [[-0.8226548 ],\n",
       "        [-0.86660975],\n",
       "        [-0.82181363],\n",
       "        ...,\n",
       "        [-0.79164661],\n",
       "        [-0.78025492],\n",
       "        [-0.83364049]],\n",
       "\n",
       "       [[-0.86660975],\n",
       "        [-0.82181363],\n",
       "        [-0.75595835],\n",
       "        ...,\n",
       "        [-0.78025492],\n",
       "        [-0.83364049],\n",
       "        [-0.73510213]],\n",
       "\n",
       "       [[-0.82181363],\n",
       "        [-0.75595835],\n",
       "        [-0.74256753],\n",
       "        ...,\n",
       "        [-0.83364049],\n",
       "        [-0.73510213],\n",
       "        [-0.8460886 ]]])"
      ]
     },
     "execution_count": 47,
     "metadata": {},
     "output_type": "execute_result"
    }
   ],
   "source": [
    "# View the standardised no anomaly data which is now divided into windows\n",
    "x_train"
   ]
  },
  {
   "cell_type": "markdown",
   "id": "d821e12d",
   "metadata": {},
   "source": []
  },
  {
   "cell_type": "code",
   "execution_count": 48,
   "id": "fe5fdb51",
   "metadata": {},
   "outputs": [
    {
     "data": {
      "text/plain": [
       "(array([-0.85882857]), array([-0.8460886]))"
      ]
     },
     "execution_count": 48,
     "metadata": {},
     "output_type": "execute_result"
    }
   ],
   "source": [
    "# Check the first and last entry\n",
    "x_train[0][0], x_train[-1][-1]"
   ]
  },
  {
   "cell_type": "code",
   "execution_count": 49,
   "id": "9ea671b2",
   "metadata": {},
   "outputs": [
    {
     "data": {
      "text/plain": [
       "(value   -0.858829\n",
       " Name: 2014-04-01 00:00:00, dtype: float64,\n",
       " value   -0.846089\n",
       " Name: 2014-04-14 23:55:00, dtype: float64)"
      ]
     },
     "execution_count": 49,
     "metadata": {},
     "output_type": "execute_result"
    }
   ],
   "source": [
    "# Extra detail about the first and last entry\n",
    "df_train_vals.iloc[0], df_train_vals.iloc[-1]"
   ]
  },
  {
   "cell_type": "markdown",
   "id": "996fd91e",
   "metadata": {},
   "source": []
  },
  {
   "cell_type": "code",
   "execution_count": 50,
   "id": "d2262c7b",
   "metadata": {},
   "outputs": [
    {
     "data": {
      "text/plain": [
       "(3745, 288, 1)"
      ]
     },
     "execution_count": 50,
     "metadata": {},
     "output_type": "execute_result"
    }
   ],
   "source": [
    "# Confirming the shape of the windowed no anomaly data\n",
    "x_train.shape"
   ]
  },
  {
   "cell_type": "code",
   "execution_count": 51,
   "id": "abfb8956",
   "metadata": {},
   "outputs": [
    {
     "data": {
      "text/plain": [
       "array([-0.85882857, -0.72899302, -0.84814772, ..., -0.83364049,\n",
       "       -0.73510213, -0.8460886 ])"
      ]
     },
     "execution_count": 51,
     "metadata": {},
     "output_type": "execute_result"
    }
   ],
   "source": [
    "# Check some of the original standardised no anomaly data to see if they match the windowed data\n",
    "df_train_vals['value'].values"
   ]
  },
  {
   "cell_type": "markdown",
   "id": "3b082e20",
   "metadata": {},
   "source": []
  },
  {
   "cell_type": "code",
   "execution_count": 52,
   "id": "c465410b",
   "metadata": {},
   "outputs": [
    {
     "data": {
      "text/plain": [
       "array([-0.85882857, -0.72899302, -0.84814772, -0.72958579, -0.731173  ,\n",
       "       -0.75730984, -0.77645641, -0.7880838 , -0.747012  , -0.829166  ,\n",
       "       -0.80377285, -0.7821597 , -0.81182078, -0.80949918, -0.82334701,\n",
       "       -0.79001779, -0.74922405, -0.84169024, -0.73727717, -0.77223023,\n",
       "       -0.75311352, -0.79116337, -0.75934728, -0.86809294, -0.75381057,\n",
       "       -0.86468256, -0.74361965, -0.72908121, -0.82850668, -0.84043795,\n",
       "       -0.76136364, -0.8343536 , -0.74708881, -0.85574949, -0.85245676,\n",
       "       -0.73090636, -0.77440264, -0.74974936, -0.82419543, -0.77402585,\n",
       "       -0.78574242, -0.7844733 , -0.77316412, -0.78843253, -0.80927467,\n",
       "       -0.83109167, -0.76090519, -0.83816509, -0.77176485, -0.83715923,\n",
       "       -0.78131343, -0.76396862, -0.83924191, -0.86186112, -0.85174179,\n",
       "       -0.78406773, -0.74938477, -0.86399047, -0.76581026, -0.82177506,\n",
       "       -0.80222751, -0.73807119, -0.82310669, -0.80410682, -0.86845167,\n",
       "       -0.85877599, -0.83356075, -0.86643297, -0.78045221, -0.8096542 ,\n",
       "       -0.79230956, -0.84551986, -0.82824105, -0.77582935, -0.73287933,\n",
       "       -0.86321832, -0.74355256, -0.7882157 , -0.79006227, -0.79912888,\n",
       "       -0.86051472, -0.85759665, -0.78479216, -0.82182635, -0.73972257,\n",
       "       -0.81247611, -0.84998837, -0.76857869, -0.82860841, -0.79553994,\n",
       "       -0.77098436, -0.74214503, -0.75754161, -0.77404332, -0.77357716,\n",
       "       -0.73564002, -0.82825643, -0.8702425 , -0.83165699, -0.83935909,\n",
       "       -0.77611284, -0.78011937, -0.78585361, -0.86808681, -0.76657575,\n",
       "       -0.82430925, -0.7756539 , -0.79110813,  0.83423034,  0.73340436,\n",
       "        0.71395293,  1.07098925,  1.11307181,  0.98296271,  0.71831972,\n",
       "        0.86295228,  1.02130195,  1.04594803,  0.72548104,  0.66823317,\n",
       "        1.36958529,  1.17305538,  1.11661005,  0.98307138,  1.27459976,\n",
       "        1.44642694,  1.50528567,  1.28866513,  1.26031743,  1.02295817,\n",
       "        1.27933882,  1.18598059,  1.3813925 ,  1.25767699,  1.1736019 ,\n",
       "        1.09127902,  1.21586925,  1.09223039,  1.13768838,  1.59675342,\n",
       "        1.28904484,  1.33876025,  1.53233922,  1.60141677,  1.38146244,\n",
       "        1.51223576,  1.23588256,  1.22381772,  1.2790048 ,  1.43257027,\n",
       "        1.43808241,  1.22922231,  1.12561563,  1.40974009,  1.12283575,\n",
       "        1.37905941,  1.44731563,  1.45141157,  1.48152744,  1.54954504,\n",
       "        1.33709539,  1.46829683,  1.4050141 ,  1.15859057,  1.06689361,\n",
       "        1.21436719,  1.30466379,  1.40383661,  1.53708371,  1.16457702,\n",
       "        1.12429225,  1.60177134,  1.11431721,  1.32540935,  1.38642273,\n",
       "        1.36124227,  1.10177385,  1.08524575,  1.1128578 ,  1.38643638,\n",
       "        1.36304532,  1.18604649,  1.41628631,  1.52016681,  1.07654239,\n",
       "        1.33670957,  1.44565443,  1.19662931,  1.22823281,  1.40253218,\n",
       "        1.56454005,  1.51438674,  1.38516952,  1.46899077,  1.26076513,\n",
       "        1.41812743,  1.31852542,  1.16110478,  1.45275926,  1.36997393,\n",
       "        1.25723151,  1.57220199,  1.06479764,  1.23281399,  1.08528647,\n",
       "        1.48968441,  1.45297419,  1.24169607,  1.43790453,  1.2785004 ,\n",
       "        1.48382995,  1.31169265,  1.28781332,  1.58553613,  1.19583776,\n",
       "        1.12151008, -0.35250349, -0.26479567, -0.39962031, -0.47160544,\n",
       "       -0.40840388, -0.37042247, -0.44883702, -0.33573617, -0.25831579,\n",
       "       -0.38277522, -0.40488824, -0.39440839, -0.77509723, -0.65253443,\n",
       "       -0.72728022, -0.73167631, -0.6882095 , -0.72293893, -0.69003755,\n",
       "       -0.78366561, -0.6636319 , -0.64340272, -0.68995268, -0.64115899,\n",
       "       -0.83292321, -0.78536741, -0.76722084, -0.77014874, -0.79644794,\n",
       "       -0.80569367, -0.83651316, -0.79786583, -0.83128515, -0.74788262,\n",
       "       -0.82454968, -0.84647101, -0.78825327, -0.78211741, -0.74251058,\n",
       "       -0.7847296 , -0.8178686 , -0.75237369, -0.78998354, -0.85597483,\n",
       "       -0.78632299, -0.73734213, -0.81059211, -0.82490508, -0.84932652,\n",
       "       -0.84818912, -0.80807162, -0.78484064, -0.8582896 , -0.73580158,\n",
       "       -0.76210229, -0.78613203, -0.75164888, -0.85835073, -0.80178754,\n",
       "       -0.77993325, -0.75220135, -0.75863962, -0.83079766, -0.73620985,\n",
       "       -0.85255954, -0.74557822, -0.73192653, -0.84503486, -0.76738913,\n",
       "       -0.86453747, -0.81250829, -0.79671155])"
      ]
     },
     "execution_count": 52,
     "metadata": {},
     "output_type": "execute_result"
    }
   ],
   "source": [
    "# Flatten and view the data points in the first window \n",
    "x_train[0].flatten()"
   ]
  },
  {
   "cell_type": "markdown",
   "id": "b250f357",
   "metadata": {},
   "source": []
  },
  {
   "cell_type": "code",
   "execution_count": 53,
   "id": "03e9942c",
   "metadata": {},
   "outputs": [
    {
     "data": {
      "image/png": "[encoded data removed]",
      "text/plain": [
       "<Figure size 1200x600 with 1 Axes>"
      ]
     },
     "metadata": {},
     "output_type": "display_data"
    }
   ],
   "source": [
    "# Select the 250th window\n",
    "window_no = 250\n",
    "\n",
    "# Specify a size for the plot\n",
    "fig, ax = plt.subplots(figsize=(12, 6))\n",
    "\n",
    "# Get the standardised no anomaly data\n",
    "y = df_train_vals['value'].values\n",
    "\n",
    "# Plot the standardised no anomaly data\n",
    "ax.plot(np.arange(y.shape[0]), y, label='signal')\n",
    "\n",
    "# Get the values contained in the window number specified earlier\n",
    "w = x_train[window_no].flatten()\n",
    "\n",
    "# Plot the data from the window specified on top of the standardised no anomaly plot \n",
    "ax.plot(np.arange(w.shape[0]) + window_no, w, label='window')\n",
    "ax.legend();"
   ]
  },
  {
   "cell_type": "markdown",
   "id": "a739488b",
   "metadata": {},
   "source": []
  },
  {
   "cell_type": "markdown",
   "id": "2cd4728f",
   "metadata": {},
   "source": [
    "## Neural Network\n",
    "\n",
    "***"
   ]
  },
  {
   "cell_type": "markdown",
   "id": "6321b4b1",
   "metadata": {},
   "source": []
  },
  {
   "cell_type": "code",
   "execution_count": 54,
   "id": "35d4ce2b",
   "metadata": {},
   "outputs": [
    {
     "data": {
      "text/plain": [
       "(3745, 288, 1)"
      ]
     },
     "execution_count": 54,
     "metadata": {},
     "output_type": "execute_result"
    }
   ],
   "source": [
    "# Confirming the shape of the windowed no anomaly data\n",
    "x_train.shape"
   ]
  },
  {
   "cell_type": "markdown",
   "id": "e965f915",
   "metadata": {},
   "source": []
  },
  {
   "cell_type": "code",
   "execution_count": 56,
   "id": "1e6e8eb4-c04f-45ca-a4d3-99fafd78a6e8",
   "metadata": {},
   "outputs": [
    {
     "data": {
      "text/plain": [
       "1"
      ]
     },
     "execution_count": 56,
     "metadata": {},
     "output_type": "execute_result"
    }
   ],
   "source": [
    "x_train.shape[2]"
   ]
  },
  {
   "cell_type": "code",
   "execution_count": 55,
   "id": "f0f50316",
   "metadata": {},
   "outputs": [],
   "source": [
    "# Defining the layers for the model\n",
    "layers = [\n",
    "  # \n",
    "  keras.layers.Input(shape=(x_train.shape[1], x_train.shape[2])),\n",
    "  #\n",
    "  keras.layers.Conv1D(\n",
    "    filters=32, kernel_size=7, padding=\"same\", strides=2, activation=\"relu\"),\n",
    "  #\n",
    "  keras.layers.Dropout(rate=0.2),\n",
    "  #\n",
    "  keras.layers.Conv1D(\n",
    "    filters=16, kernel_size=7, padding=\"same\", strides=2, activation=\"relu\"),\n",
    "  #\n",
    "  keras.layers.Conv1DTranspose(\n",
    "    filters=16, kernel_size=7, padding=\"same\", strides=2, activation=\"relu\"),\n",
    "  #\n",
    "  keras.layers.Dropout(rate=0.2),\n",
    "  #\n",
    "  keras.layers.Conv1DTranspose(\n",
    "    filters=32, kernel_size=7, padding=\"same\", strides=2, activation=\"relu\"),\n",
    "  #\n",
    "  keras.layers.Conv1DTranspose(filters=1, kernel_size=7, padding=\"same\"),\n",
    "]"
   ]
  },
  {
   "cell_type": "markdown",
   "id": "45269606",
   "metadata": {},
   "source": []
  },
  {
   "cell_type": "code",
   "execution_count": 56,
   "id": "462ca0cf",
   "metadata": {},
   "outputs": [],
   "source": [
    "#\n",
    "model = keras.Sequential(layers)"
   ]
  },
  {
   "cell_type": "markdown",
   "id": "3c659949",
   "metadata": {},
   "source": []
  },
  {
   "cell_type": "code",
   "execution_count": 57,
   "id": "346b97f8",
   "metadata": {},
   "outputs": [],
   "source": [
    "# \n",
    "optimizer = keras.optimizers.Adam(learning_rate=0.001)"
   ]
  },
  {
   "cell_type": "markdown",
   "id": "57ec572a",
   "metadata": {},
   "source": []
  },
  {
   "cell_type": "code",
   "execution_count": 58,
   "id": "0e28b55c",
   "metadata": {},
   "outputs": [],
   "source": [
    "# \n",
    "model.compile(optimizer=optimizer, loss=\"mse\")"
   ]
  },
  {
   "cell_type": "markdown",
   "id": "baecde23",
   "metadata": {},
   "source": []
  },
  {
   "cell_type": "code",
   "execution_count": 59,
   "id": "ffb83ee9",
   "metadata": {},
   "outputs": [
    {
     "name": "stdout",
     "output_type": "stream",
     "text": [
      "Model: \"sequential\"\n",
      "_________________________________________________________________\n",
      "Layer (type)                 Output Shape              Param #   \n",
      "=================================================================\n",
      "conv1d (Conv1D)              (None, 144, 32)           256       \n",
      "_________________________________________________________________\n",
      "dropout (Dropout)            (None, 144, 32)           0         \n",
      "_________________________________________________________________\n",
      "conv1d_1 (Conv1D)            (None, 72, 16)            3600      \n",
      "_________________________________________________________________\n",
      "conv1d_transpose (Conv1DTran (None, 144, 16)           1808      \n",
      "_________________________________________________________________\n",
      "dropout_1 (Dropout)          (None, 144, 16)           0         \n",
      "_________________________________________________________________\n",
      "conv1d_transpose_1 (Conv1DTr (None, 288, 32)           3616      \n",
      "_________________________________________________________________\n",
      "conv1d_transpose_2 (Conv1DTr (None, 288, 1)            225       \n",
      "=================================================================\n",
      "Total params: 9,505\n",
      "Trainable params: 9,505\n",
      "Non-trainable params: 0\n",
      "_________________________________________________________________\n"
     ]
    }
   ],
   "source": [
    "#\n",
    "model.summary()"
   ]
  },
  {
   "cell_type": "markdown",
   "id": "a9696218",
   "metadata": {},
   "source": []
  },
  {
   "cell_type": "code",
   "execution_count": 60,
   "id": "3d6a6f6a",
   "metadata": {},
   "outputs": [
    {
     "name": "stdout",
     "output_type": "stream",
     "text": [
      "Epoch 1/50\n",
      "27/27 [==============================] - 3s 109ms/step - loss: 0.6192 - val_loss: 0.0786\n",
      "Epoch 2/50\n",
      "27/27 [==============================] - 2s 82ms/step - loss: 0.0946 - val_loss: 0.0476\n",
      "Epoch 3/50\n",
      "27/27 [==============================] - 2s 83ms/step - loss: 0.0614 - val_loss: 0.0393\n",
      "Epoch 4/50\n",
      "27/27 [==============================] - 2s 84ms/step - loss: 0.0513 - val_loss: 0.0326\n",
      "Epoch 5/50\n",
      "27/27 [==============================] - 2s 84ms/step - loss: 0.0440 - val_loss: 0.0300\n",
      "Epoch 6/50\n",
      "27/27 [==============================] - 2s 84ms/step - loss: 0.0384 - val_loss: 0.0281\n",
      "Epoch 7/50\n",
      "27/27 [==============================] - 2s 85ms/step - loss: 0.0346 - val_loss: 0.0255\n",
      "Epoch 8/50\n",
      "27/27 [==============================] - 2s 84ms/step - loss: 0.0311 - val_loss: 0.0243\n",
      "Epoch 9/50\n",
      "27/27 [==============================] - 2s 84ms/step - loss: 0.0286 - val_loss: 0.0243\n",
      "Epoch 10/50\n",
      "27/27 [==============================] - 2s 82ms/step - loss: 0.0266 - val_loss: 0.0245\n",
      "Epoch 11/50\n",
      "27/27 [==============================] - 2s 83ms/step - loss: 0.0247 - val_loss: 0.0244\n",
      "Epoch 12/50\n",
      "27/27 [==============================] - 2s 85ms/step - loss: 0.0232 - val_loss: 0.0228\n",
      "Epoch 13/50\n",
      "27/27 [==============================] - 2s 83ms/step - loss: 0.0218 - val_loss: 0.0238\n",
      "Epoch 14/50\n",
      "27/27 [==============================] - 2s 83ms/step - loss: 0.0205 - val_loss: 0.0227\n",
      "Epoch 15/50\n",
      "27/27 [==============================] - 2s 82ms/step - loss: 0.0194 - val_loss: 0.0223\n",
      "Epoch 16/50\n",
      "27/27 [==============================] - 2s 85ms/step - loss: 0.0182 - val_loss: 0.0207\n",
      "Epoch 17/50\n",
      "27/27 [==============================] - 2s 90ms/step - loss: 0.0173 - val_loss: 0.0209\n",
      "Epoch 18/50\n",
      "27/27 [==============================] - 2s 65ms/step - loss: 0.0164 - val_loss: 0.0204\n",
      "Epoch 19/50\n",
      "27/27 [==============================] - 1s 40ms/step - loss: 0.0156 - val_loss: 0.0189\n",
      "Epoch 20/50\n",
      "27/27 [==============================] - 1s 39ms/step - loss: 0.0149 - val_loss: 0.0172\n",
      "Epoch 21/50\n",
      "27/27 [==============================] - 1s 39ms/step - loss: 0.0143 - val_loss: 0.0157\n",
      "Epoch 22/50\n",
      "27/27 [==============================] - 1s 37ms/step - loss: 0.0136 - val_loss: 0.0150\n",
      "Epoch 23/50\n",
      "27/27 [==============================] - 1s 45ms/step - loss: 0.0131 - val_loss: 0.0145\n",
      "Epoch 24/50\n",
      "27/27 [==============================] - 1s 40ms/step - loss: 0.0125 - val_loss: 0.0142\n",
      "Epoch 25/50\n",
      "27/27 [==============================] - 1s 40ms/step - loss: 0.0119 - val_loss: 0.0130\n",
      "Epoch 26/50\n",
      "27/27 [==============================] - 1s 38ms/step - loss: 0.0116 - val_loss: 0.0129\n",
      "Epoch 27/50\n",
      "27/27 [==============================] - 1s 38ms/step - loss: 0.0111 - val_loss: 0.0121\n",
      "Epoch 28/50\n",
      "27/27 [==============================] - 2s 81ms/step - loss: 0.0107 - val_loss: 0.0110\n",
      "Epoch 29/50\n",
      "27/27 [==============================] - 2s 81ms/step - loss: 0.0104 - val_loss: 0.0109\n",
      "Epoch 30/50\n",
      "27/27 [==============================] - 2s 77ms/step - loss: 0.0100 - val_loss: 0.0103\n",
      "Epoch 31/50\n",
      "27/27 [==============================] - 2s 82ms/step - loss: 0.0097 - val_loss: 0.0098\n",
      "Epoch 32/50\n",
      "27/27 [==============================] - 2s 84ms/step - loss: 0.0094 - val_loss: 0.0093\n",
      "Epoch 33/50\n",
      "27/27 [==============================] - 2s 83ms/step - loss: 0.0091 - val_loss: 0.0092\n",
      "Epoch 34/50\n",
      "27/27 [==============================] - 2s 83ms/step - loss: 0.0089 - val_loss: 0.0088\n",
      "Epoch 35/50\n",
      "27/27 [==============================] - 2s 82ms/step - loss: 0.0086 - val_loss: 0.0083\n",
      "Epoch 36/50\n",
      "27/27 [==============================] - 2s 86ms/step - loss: 0.0084 - val_loss: 0.0084\n",
      "Epoch 37/50\n",
      "27/27 [==============================] - 2s 85ms/step - loss: 0.0081 - val_loss: 0.0076\n",
      "Epoch 38/50\n",
      "27/27 [==============================] - 2s 84ms/step - loss: 0.0079 - val_loss: 0.0076\n",
      "Epoch 39/50\n",
      "27/27 [==============================] - 2s 84ms/step - loss: 0.0077 - val_loss: 0.0074\n",
      "Epoch 40/50\n",
      "27/27 [==============================] - 2s 84ms/step - loss: 0.0075 - val_loss: 0.0070\n",
      "Epoch 41/50\n",
      "27/27 [==============================] - 2s 84ms/step - loss: 0.0074 - val_loss: 0.0070\n",
      "Epoch 42/50\n",
      "27/27 [==============================] - 2s 84ms/step - loss: 0.0072 - val_loss: 0.0069\n",
      "Epoch 43/50\n",
      "27/27 [==============================] - 2s 85ms/step - loss: 0.0071 - val_loss: 0.0067\n",
      "Epoch 44/50\n",
      "27/27 [==============================] - 2s 84ms/step - loss: 0.0069 - val_loss: 0.0065\n",
      "Epoch 45/50\n",
      "27/27 [==============================] - 2s 85ms/step - loss: 0.0068 - val_loss: 0.0062\n",
      "Epoch 46/50\n",
      "27/27 [==============================] - 2s 85ms/step - loss: 0.0067 - val_loss: 0.0061\n",
      "Epoch 47/50\n",
      "27/27 [==============================] - 2s 68ms/step - loss: 0.0066 - val_loss: 0.0061\n",
      "Epoch 48/50\n",
      "27/27 [==============================] - 1s 37ms/step - loss: 0.0065 - val_loss: 0.0060\n",
      "Epoch 49/50\n",
      "27/27 [==============================] - 1s 39ms/step - loss: 0.0064 - val_loss: 0.0058\n",
      "Epoch 50/50\n",
      "27/27 [==============================] - 1s 41ms/step - loss: 0.0063 - val_loss: 0.0059\n"
     ]
    }
   ],
   "source": [
    "# \n",
    "history = model.fit(\n",
    "    x_train,\n",
    "    x_train,\n",
    "    epochs=50,\n",
    "    batch_size=128,\n",
    "    validation_split=0.1,\n",
    "    callbacks=[\n",
    "        keras.callbacks.EarlyStopping(monitor=\"val_loss\", patience=5, mode=\"min\")\n",
    "    ],\n",
    ")"
   ]
  },
  {
   "cell_type": "markdown",
   "id": "1158fa19",
   "metadata": {},
   "source": []
  },
  {
   "cell_type": "markdown",
   "id": "60c2794b",
   "metadata": {},
   "source": [
    "## Evaluation\n",
    "\n",
    "***"
   ]
  },
  {
   "cell_type": "markdown",
   "id": "3f548c04",
   "metadata": {},
   "source": []
  },
  {
   "cell_type": "code",
   "execution_count": 61,
   "id": "447b5a20",
   "metadata": {},
   "outputs": [
    {
     "data": {
      "text/plain": [
       "[0.6192448139190674,\n",
       " 0.09461682289838791,\n",
       " 0.061437174677848816,\n",
       " 0.051265936344861984,\n",
       " 0.04399537667632103,\n",
       " 0.03841288387775421,\n",
       " 0.034553162753582,\n",
       " 0.031086986884474754,\n",
       " 0.02859693579375744,\n",
       " 0.026578186079859734,\n",
       " 0.024690601974725723,\n",
       " 0.023206939920783043,\n",
       " 0.02181055396795273,\n",
       " 0.020496228709816933,\n",
       " 0.019353896379470825,\n",
       " 0.018204443156719208,\n",
       " 0.01726231537759304,\n",
       " 0.016424592584371567,\n",
       " 0.01560271717607975,\n",
       " 0.014905553311109543,\n",
       " 0.01429332047700882,\n",
       " 0.013623693957924843,\n",
       " 0.013107147999107838,\n",
       " 0.01253353152424097,\n",
       " 0.01194852590560913,\n",
       " 0.011577999219298363,\n",
       " 0.01114903949201107,\n",
       " 0.010746373794972897,\n",
       " 0.010441048070788383,\n",
       " 0.010005917400121689,\n",
       " 0.009734799154102802,\n",
       " 0.009426819160580635,\n",
       " 0.009133038111031055,\n",
       " 0.008854899555444717,\n",
       " 0.008611587807536125,\n",
       " 0.00836779922246933,\n",
       " 0.008094022050499916,\n",
       " 0.007910131476819515,\n",
       " 0.00772229814901948,\n",
       " 0.0075138770043849945,\n",
       " 0.007355974521487951,\n",
       " 0.007191887125372887,\n",
       " 0.007063723169267178,\n",
       " 0.006929926108568907,\n",
       " 0.006819510366767645,\n",
       " 0.006681848783046007,\n",
       " 0.006606099661439657,\n",
       " 0.006514475680887699,\n",
       " 0.006397454999387264,\n",
       " 0.006334422156214714]"
      ]
     },
     "execution_count": 61,
     "metadata": {},
     "output_type": "execute_result"
    }
   ],
   "source": [
    "#\n",
    "history.history[\"loss\"]"
   ]
  },
  {
   "cell_type": "markdown",
   "id": "3e22c97e",
   "metadata": {},
   "source": []
  },
  {
   "cell_type": "code",
   "execution_count": 62,
   "id": "1fdb5839",
   "metadata": {},
   "outputs": [
    {
     "data": {
      "text/plain": [
       "[0.0785750299692154,\n",
       " 0.047567225992679596,\n",
       " 0.03931742534041405,\n",
       " 0.032627105712890625,\n",
       " 0.030009569600224495,\n",
       " 0.02808038331568241,\n",
       " 0.02552635408937931,\n",
       " 0.02430962584912777,\n",
       " 0.024281952530145645,\n",
       " 0.024537693709135056,\n",
       " 0.024384289979934692,\n",
       " 0.022844713181257248,\n",
       " 0.023785822093486786,\n",
       " 0.022664062678813934,\n",
       " 0.022280950099229813,\n",
       " 0.020672393962740898,\n",
       " 0.02092597633600235,\n",
       " 0.0204097181558609,\n",
       " 0.018915371969342232,\n",
       " 0.0172126442193985,\n",
       " 0.015668833628296852,\n",
       " 0.014981461688876152,\n",
       " 0.014490817673504353,\n",
       " 0.014231414534151554,\n",
       " 0.013016094453632832,\n",
       " 0.012904378585517406,\n",
       " 0.012141481973230839,\n",
       " 0.0110270781442523,\n",
       " 0.010908900760114193,\n",
       " 0.010265154764056206,\n",
       " 0.009842338971793652,\n",
       " 0.009311568923294544,\n",
       " 0.00919488538056612,\n",
       " 0.008770735003054142,\n",
       " 0.00828048586845398,\n",
       " 0.008365069516003132,\n",
       " 0.007639561779797077,\n",
       " 0.007589991670101881,\n",
       " 0.007362197153270245,\n",
       " 0.0069713471457362175,\n",
       " 0.006953664124011993,\n",
       " 0.00686089089140296,\n",
       " 0.006713787093758583,\n",
       " 0.006518431473523378,\n",
       " 0.006198594346642494,\n",
       " 0.0061186677776277065,\n",
       " 0.006073553115129471,\n",
       " 0.0059957318007946014,\n",
       " 0.005844579078257084,\n",
       " 0.005893182009458542]"
      ]
     },
     "execution_count": 62,
     "metadata": {},
     "output_type": "execute_result"
    }
   ],
   "source": [
    "#\n",
    "history.history[\"val_loss\"]"
   ]
  },
  {
   "cell_type": "markdown",
   "id": "2656dc4c",
   "metadata": {},
   "source": []
  },
  {
   "cell_type": "code",
   "execution_count": 63,
   "id": "0916701e",
   "metadata": {},
   "outputs": [
    {
     "data": {
      "image/png": "[encoded data removed]",
      "text/plain": [
       "<Figure size 1000x600 with 1 Axes>"
      ]
     },
     "metadata": {},
     "output_type": "display_data"
    }
   ],
   "source": [
    "# Specify a size for the plot\n",
    "fig, ax = plt.subplots(figsize=(10, 6))\n",
    "# \n",
    "ax.plot(history.history[\"loss\"], label=\"Training Loss\")\n",
    "# \n",
    "ax.plot(history.history[\"val_loss\"], label=\"Validation Loss\")\n",
    "# \n",
    "ax.legend();"
   ]
  },
  {
   "cell_type": "markdown",
   "id": "3ebdd330",
   "metadata": {},
   "source": []
  },
  {
   "cell_type": "code",
   "execution_count": 64,
   "id": "dbed6b42",
   "metadata": {},
   "outputs": [],
   "source": [
    "# Get train MAE loss.\n",
    "x_train_pred = model.predict(x_train)"
   ]
  },
  {
   "cell_type": "markdown",
   "id": "625db4ab",
   "metadata": {},
   "source": []
  },
  {
   "cell_type": "code",
   "execution_count": 65,
   "id": "36c9917a",
   "metadata": {},
   "outputs": [],
   "source": [
    "# Calculate loss...\n",
    "train_mae_loss = np.mean(np.abs(x_train_pred - x_train), axis=1)"
   ]
  },
  {
   "cell_type": "markdown",
   "id": "d35b982f",
   "metadata": {},
   "source": []
  },
  {
   "cell_type": "code",
   "execution_count": 66,
   "id": "199ba109",
   "metadata": {},
   "outputs": [
    {
     "data": {
      "image/png": "[encoded data removed]",
      "text/plain": [
       "<Figure size 1000x600 with 1 Axes>"
      ]
     },
     "metadata": {},
     "output_type": "display_data"
    }
   ],
   "source": [
    "# Specify a size for the plot\n",
    "fig, ax = plt.subplots(figsize=(10, 6))\n",
    "# \n",
    "ax.hist(train_mae_loss, bins=50)\n",
    "# \n",
    "ax.set_xlabel(\"Train MAE loss\")\n",
    "#\n",
    "ax.set_ylabel(\"No of samples\");"
   ]
  },
  {
   "cell_type": "markdown",
   "id": "ca332dce",
   "metadata": {},
   "source": []
  },
  {
   "cell_type": "code",
   "execution_count": 67,
   "id": "1d9b2a60",
   "metadata": {},
   "outputs": [
    {
     "data": {
      "text/plain": [
       "0.07394375995959414"
      ]
     },
     "execution_count": 67,
     "metadata": {},
     "output_type": "execute_result"
    }
   ],
   "source": [
    "# Get reconstruction loss threshold.\n",
    "threshold = np.max(train_mae_loss)\n",
    "\n",
    "# \n",
    "threshold"
   ]
  },
  {
   "cell_type": "markdown",
   "id": "d884b90a",
   "metadata": {},
   "source": []
  },
  {
   "cell_type": "code",
   "execution_count": 68,
   "id": "0b21121b",
   "metadata": {},
   "outputs": [
    {
     "data": {
      "image/png": "[encoded data removed]",
      "text/plain": [
       "<Figure size 1000x600 with 1 Axes>"
      ]
     },
     "metadata": {},
     "output_type": "display_data"
    }
   ],
   "source": [
    "# Specify a size for the plot\n",
    "fig, ax = plt.subplots(figsize=(10, 6))\n",
    "\n",
    "# \n",
    "ax.plot(x_train[0])\n",
    "\n",
    "# \n",
    "ax.plot(x_train_pred[0]);"
   ]
  },
  {
   "cell_type": "markdown",
   "id": "b5c8d4ea",
   "metadata": {},
   "source": []
  },
  {
   "cell_type": "code",
   "execution_count": 69,
   "id": "70433abd",
   "metadata": {},
   "outputs": [],
   "source": [
    "# \n",
    "df_test_value = (df_daily_jumpsup - train_mean) / train_std"
   ]
  },
  {
   "cell_type": "markdown",
   "id": "aae91c6e",
   "metadata": {},
   "source": []
  },
  {
   "cell_type": "code",
   "execution_count": 70,
   "id": "03da02c7",
   "metadata": {},
   "outputs": [
    {
     "data": {
      "image/png": "[encoded data removed]",
      "text/plain": [
       "<Figure size 1000x600 with 1 Axes>"
      ]
     },
     "metadata": {},
     "output_type": "display_data"
    }
   ],
   "source": [
    "# Specify a size for the plot\n",
    "fig, ax = plt.subplots(figsize=(10, 6))\n",
    "\n",
    "# \n",
    "df_test_value.plot(legend=False, ax=ax);"
   ]
  },
  {
   "cell_type": "markdown",
   "id": "e4eea2f8",
   "metadata": {},
   "source": []
  },
  {
   "cell_type": "code",
   "execution_count": 71,
   "id": "a998721f",
   "metadata": {},
   "outputs": [
    {
     "data": {
      "text/plain": [
       "(3745, 288, 1)"
      ]
     },
     "execution_count": 71,
     "metadata": {},
     "output_type": "execute_result"
    }
   ],
   "source": [
    "# Create sequences from test values.\n",
    "x_test = windows(df_test_value.values)\n",
    "\n",
    "x_test.shape"
   ]
  },
  {
   "cell_type": "markdown",
   "id": "c46d16e2",
   "metadata": {},
   "source": []
  },
  {
   "cell_type": "code",
   "execution_count": 72,
   "id": "b9468441",
   "metadata": {},
   "outputs": [],
   "source": [
    "# \n",
    "x_test_pred = model.predict(x_test)"
   ]
  },
  {
   "cell_type": "markdown",
   "id": "6c52aae0",
   "metadata": {},
   "source": []
  },
  {
   "cell_type": "code",
   "execution_count": 73,
   "id": "d6db22d5",
   "metadata": {},
   "outputs": [
    {
     "data": {
      "text/plain": [
       "array([[0.05476703],\n",
       "       [0.05854297],\n",
       "       [0.05589814],\n",
       "       ...,\n",
       "       [0.06124401],\n",
       "       [0.05871015],\n",
       "       [0.06015543]])"
      ]
     },
     "execution_count": 73,
     "metadata": {},
     "output_type": "execute_result"
    }
   ],
   "source": [
    "# \n",
    "test_mae_loss = np.mean(np.abs(x_test_pred - x_test), axis=1)\n",
    "\n",
    "test_mae_loss"
   ]
  },
  {
   "cell_type": "code",
   "execution_count": 74,
   "id": "023512cd",
   "metadata": {},
   "outputs": [
    {
     "data": {
      "text/plain": [
       "array([0.05476703, 0.05854297, 0.05589814, ..., 0.06124401, 0.05871015,\n",
       "       0.06015543])"
      ]
     },
     "execution_count": 74,
     "metadata": {},
     "output_type": "execute_result"
    }
   ],
   "source": [
    "# \n",
    "test_mae_loss = test_mae_loss.reshape((-1))\n",
    "\n",
    "test_mae_loss"
   ]
  },
  {
   "cell_type": "markdown",
   "id": "bc5a71a2",
   "metadata": {},
   "source": []
  },
  {
   "cell_type": "code",
   "execution_count": 75,
   "id": "5c5ccd6b",
   "metadata": {},
   "outputs": [
    {
     "data": {
      "image/png": "[encoded data removed]",
      "text/plain": [
       "<Figure size 1000x600 with 1 Axes>"
      ]
     },
     "metadata": {},
     "output_type": "display_data"
    }
   ],
   "source": [
    "# Specify a size for the plot\n",
    "fig, ax = plt.subplots(figsize=(10, 6))\n",
    "\n",
    "#\n",
    "ax.hist(test_mae_loss, bins=50)\n",
    "\n",
    "# \n",
    "ax.set_xlabel(\"test MAE loss\")\n",
    "\n",
    "# \n",
    "ax.set_ylabel(\"No of samples\");"
   ]
  },
  {
   "cell_type": "markdown",
   "id": "73a20621",
   "metadata": {},
   "source": []
  },
  {
   "cell_type": "code",
   "execution_count": 76,
   "id": "dc4f7501",
   "metadata": {},
   "outputs": [
    {
     "data": {
      "text/plain": [
       "403"
      ]
     },
     "execution_count": 76,
     "metadata": {},
     "output_type": "execute_result"
    }
   ],
   "source": [
    "# Detect all the samples which are anomalies.\n",
    "anomalies = test_mae_loss > threshold\n",
    "\n",
    "# NUmber of anomalies.\n",
    "np.sum(anomalies)"
   ]
  },
  {
   "cell_type": "markdown",
   "id": "79670617",
   "metadata": {},
   "source": []
  },
  {
   "cell_type": "code",
   "execution_count": 77,
   "id": "fe5dbeed",
   "metadata": {},
   "outputs": [],
   "source": [
    "# data i is an anomaly if samples [(i - timesteps + 1) to (i)] are anomalies\n",
    "inds = []\n",
    "\n",
    "for i in range(window_size - 1, len(df_test_value) - window_size + 1):\n",
    "    if np.all(anomalies[i - window_size + 1 : i]):\n",
    "        inds.append(i)"
   ]
  },
  {
   "cell_type": "markdown",
   "id": "541b58cb",
   "metadata": {},
   "source": []
  },
  {
   "cell_type": "code",
   "execution_count": 78,
   "id": "3636976a",
   "metadata": {},
   "outputs": [],
   "source": [
    "# \n",
    "df_subset = df_daily_jumpsup.iloc[inds]"
   ]
  },
  {
   "cell_type": "markdown",
   "id": "8b814a07",
   "metadata": {},
   "source": []
  },
  {
   "cell_type": "code",
   "execution_count": 79,
   "id": "46b71b06",
   "metadata": {},
   "outputs": [
    {
     "data": {
      "image/png": "[encoded data removed]",
      "text/plain": [
       "<Figure size 1000x600 with 1 Axes>"
      ]
     },
     "metadata": {},
     "output_type": "display_data"
    }
   ],
   "source": [
    "#Specify a size for the plot\n",
    "fig, ax = plt.subplots(figsize=(10, 6))\n",
    "\n",
    "# \n",
    "df_daily_jumpsup.plot(legend=False, ax=ax)\n",
    "\n",
    "# \n",
    "df_subset.plot(legend=False, ax=ax, color=\"r\");"
   ]
  },
  {
   "cell_type": "markdown",
   "id": "a2c9e1b4",
   "metadata": {},
   "source": []
  },
  {
   "cell_type": "markdown",
   "id": "8d6705d7-94bc-4b24-b680-4d8d0d058883",
   "metadata": {},
   "source": [
    "## Conclusion\n",
    "\n",
    "***"
   ]
  },
  {
   "cell_type": "markdown",
   "id": "863919d0-23d9-4a05-ba01-dad1abbde7b4",
   "metadata": {},
   "source": []
  },
  {
   "cell_type": "markdown",
   "id": "3a4a93ca",
   "metadata": {},
   "source": [
    "# References\n",
    "***"
   ]
  },
  {
   "cell_type": "markdown",
   "id": "b0cd5eba",
   "metadata": {},
   "source": [
    "https://statisticsbyjim.com/glossary/standardization/\n",
    "\n"
   ]
  },
  {
   "cell_type": "code",
   "execution_count": null,
   "id": "e906cc4c-de6a-411a-9e06-43466add4e8f",
   "metadata": {},
   "outputs": [],
   "source": []
  },
  {
   "cell_type": "code",
   "execution_count": null,
   "id": "44348a57",
   "metadata": {},
   "outputs": [],
   "source": []
  }
 ],
 "metadata": {
  "kernelspec": {
   "display_name": "Python 3 (ipykernel)",
   "language": "python",
   "name": "python3"
  },
  "language_info": {
   "codemirror_mode": {
    "name": "ipython",
    "version": 3
   },
   "file_extension": ".py",
   "mimetype": "text/x-python",
   "name": "python",
   "nbconvert_exporter": "python",
   "pygments_lexer": "ipython3",
   "version": "3.8.8"
  }
 },
 "nbformat": 4,
 "nbformat_minor": 5
}
